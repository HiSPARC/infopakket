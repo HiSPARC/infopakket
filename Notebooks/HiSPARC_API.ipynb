{
 "cells": [
  {
   "cell_type": "markdown",
   "metadata": {},
   "source": [
    "# De HiSPARC-API\n",
    "## Inleiding\n",
    "Naast event-data zijn er gegevens over de meetstations op te vragen. Dit kan via de HiSPARC-API. Deze HiSPARC-API is een onderdeel van \"sapphire\". In \"Python data retrieval\" hadden we al de beschikking over \"sapphire\"."
   ]
  },
  {
   "cell_type": "code",
   "execution_count": 8,
   "metadata": {
    "collapsed": true
   },
   "outputs": [],
   "source": [
    "import sapphire\n",
    "from sapphire import Station"
   ]
  },
  {
   "cell_type": "markdown",
   "metadata": {},
   "source": [
    "Met de functie \"`Station()`\" zijn de eigenschappen van een station, zoals het cluster waarin een station zich bevindt, op te vragen:"
   ]
  },
  {
   "cell_type": "code",
   "execution_count": 14,
   "metadata": {
    "collapsed": false
   },
   "outputs": [
    {
     "name": "stdout",
     "output_type": "stream",
     "text": [
      "Amsterdam\n"
     ]
    }
   ],
   "source": [
    "print Station(301).cluster()"
   ]
  },
  {
   "cell_type": "markdown",
   "metadata": {},
   "source": [
    "Een ander belangrijke eigenschap is de plaats waar een sattion zich bevindt:"
   ]
  },
  {
   "cell_type": "code",
   "execution_count": 19,
   "metadata": {
    "collapsed": false
   },
   "outputs": [
    {
     "name": "stdout",
     "output_type": "stream",
     "text": [
      "[(1292408591, 52.5518809, 4.6870001, 56.73)\n",
      " (1370354668, 52.5518567, 4.6870106, 60.04)\n",
      " (1417537413, 52.3557875, 4.9512243, 58.84)\n",
      " (1418983965, 52.5518567, 4.6870106, 60.04)]\n"
     ]
    }
   ],
   "source": [
    "print Station(301).gps_locations"
   ]
  },
  {
   "cell_type": "markdown",
   "metadata": {},
   "source": [
    "We zien hier een array met daarin een aantal lijsten. De eerste lijst legt vast vanaf welke moment, een GPS-tijdstempel, een station volgens de HiSPARC database op een plaats stond. Na dit GPS-tijdstempel zijn achtereenvolgens de lengte, breedte en hoogte van het station volgens GPS-84"
   ]
  },
  {
   "cell_type": "markdown",
   "metadata": {},
   "source": [
    "We kunnen nu stations opvragen, eerst maken we een array met de stationsnummers die we op willen vragen:"
   ]
  },
  {
   "cell_type": "code",
   "execution_count": 3,
   "metadata": {
    "collapsed": true
   },
   "outputs": [],
   "source": [
    "stations = [301, 302, 303, 304, 305]"
   ]
  },
  {
   "cell_type": "code",
   "execution_count": 18,
   "metadata": {
    "collapsed": false
   },
   "outputs": [
    {
     "name": "stdout",
     "output_type": "stream",
     "text": [
      "[(1292408591, 52.5518809, 4.6870001, 56.73)\n",
      " (1370354668, 52.5518567, 4.6870106, 60.04)\n",
      " (1417537413, 52.3557875, 4.9512243, 58.84)\n",
      " (1418983965, 52.5518567, 4.6870106, 60.04)]\n"
     ]
    }
   ],
   "source": [
    "print Station(301).gps_locations"
   ]
  },
  {
   "cell_type": "code",
   "execution_count": null,
   "metadata": {
    "collapsed": true
   },
   "outputs": [],
   "source": []
  }
 ],
 "metadata": {
  "kernelspec": {
   "display_name": "Python 2",
   "language": "python",
   "name": "python2"
  },
  "language_info": {
   "codemirror_mode": {
    "name": "ipython",
    "version": 2
   },
   "file_extension": ".py",
   "mimetype": "text/x-python",
   "name": "python",
   "nbconvert_exporter": "python",
   "pygments_lexer": "ipython2",
   "version": "2.7.10"
  }
 },
 "nbformat": 4,
 "nbformat_minor": 0
}
