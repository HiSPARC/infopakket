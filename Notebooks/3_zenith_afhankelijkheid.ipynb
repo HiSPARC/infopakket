{
 "cells": [
  {
   "cell_type": "markdown",
   "metadata": {},
   "source": [
    "# 3 Zenith-afhankelijkheid van een station.\n",
    "\n",
    "Dit notebook sluit aan op het notebook 'HiSPARC_API'. Er wordt zowel informatie van het station als van de metingen verwerkt.\n",
    "\n",
    "Een HiSPARC-station meet deeltjes in een deeltjeslawine die wordt veroorzaakt door een primair kosmisch deeltje. De deeltjes in de lawine bewegen globaal met de lichtsnelheid. De interactie van het primaire deeltje vindt plaats op een hoogte van tientallen kilometers. De doorsnede van de deeltjeslawine is slechts enkele hectometers. We kunnen we er dus van uitgaan dat deeltjes globaal in een vlak loodrecht op de snelheid van het primaire deeltje bewegen."
   ]
  },
  {
   "cell_type": "code",
   "execution_count": 1,
   "metadata": {
    "collapsed": false
   },
   "outputs": [
    {
     "name": "stdout",
     "output_type": "stream",
     "text": [
      "{u'mpv': 244.0, u'alpha': -158.07, u'beta': 0.0, u'radius': 6.09, u'height': 0.0}\n",
      "{u'mpv': 264.0, u'alpha': 73.49, u'beta': 0.0, u'radius': 5.0, u'height': 0.0}\n",
      "{u'mpv': 295.0, u'alpha': 95.63, u'beta': 0.0, u'radius': 14.51, u'height': 0.0}\n",
      "{u'mpv': 301.0, u'alpha': 138.13, u'beta': 0.0, u'radius': 11.06, u'height': 0.0}\n"
     ]
    }
   ],
   "source": [
    "import numpy as np\n",
    "import sapphire\n",
    "from sapphire import Station\n",
    "detectors = Station(501).detectors()\n",
    "for detector in detectors:\n",
    "    print detector"
   ]
  },
  {
   "cell_type": "markdown",
   "metadata": {},
   "source": [
    "De eigenschappen van een station zijn gedefinieerd met:\n",
    "\n",
    "- 'mpv' : Most Probable Value. De spanning waarbij de grafiek van het aantal pulsen als functie van de spanning horizontaal is. Zie bijvoorbeeld: [http://data.hisparc.nl/show/stations/3401/2015/11/23/](http://data.hisparc.nl/show/stations/3401/2015/11/23/).\n",
    "- 'alpha' : De hoek tussen de as gedefinieerd door de GPS-antenne en het midden van de scintillatorplaat en het Noorden. \n",
    "- 'beta' : De hoek tussen de lange zijde van de scintillatorplaat en het Noorden.\n",
    "- 'radius' : De afstand van GPS- antenne tot het midden van de detector.\n",
    "\n",
    "Een werkblad voor het maken van een stations-plattegrond is te vinden op:\n",
    "\n",
    "[http://docs.hisparc.nl/infopakket/pdf/station_map.pdf](http://docs.hisparc.nl/infopakket/pdf/station_map.pdf)\n",
    "\n",
    "De afstand tussen twee detectoren is te bepalen met de cosinusregel. Dit is in een functie te beschrijven:"
   ]
  },
  {
   "cell_type": "code",
   "execution_count": 2,
   "metadata": {
    "collapsed": false
   },
   "outputs": [],
   "source": [
    "def afstand(detector_1, detector_2):\n",
    "    '''\n",
    "    \n",
    "    '''\n",
    "    c = detector_2['radius']\n",
    "    b = detector_1['radius']\n",
    "    alpha = np.radians(detector_2['alpha'] - detector_1['alpha'])\n",
    "    # numpy werkt meet de hoek in radialen.\n",
    "    return (b ** 2 + c ** 2 - 2 * b * c * np.cos(alpha)) ** .5"
   ]
  },
  {
   "cell_type": "markdown",
   "metadata": {},
   "source": [
    "De afstand tussen detector 1 (telt als 0) en 4 (telt als 3) is nu te berekenen met:"
   ]
  },
  {
   "cell_type": "code",
   "execution_count": 3,
   "metadata": {
    "collapsed": false
   },
   "outputs": [
    {
     "name": "stdout",
     "output_type": "stream",
     "text": [
      "9.99977999758\n"
     ]
    }
   ],
   "source": [
    "print afstand(detectors[0], detectors[3])"
   ]
  },
  {
   "cell_type": "markdown",
   "metadata": {},
   "source": [
    "In het notebook python_data_retrieval is uitgelegd hoe data op te halen is:"
   ]
  },
  {
   "cell_type": "code",
   "execution_count": 4,
   "metadata": {
    "collapsed": false
   },
   "outputs": [
    {
     "name": "stderr",
     "output_type": "stream",
     "text": [
      "100%|############################################################|Time: 0:00:05\n"
     ]
    }
   ],
   "source": [
    "from sapphire import quick_download\n",
    "data = quick_download(508)"
   ]
  },
  {
   "cell_type": "code",
   "execution_count": 5,
   "metadata": {
    "collapsed": false
   },
   "outputs": [
    {
     "name": "stdout",
     "output_type": "stream",
     "text": [
      "15.0\n",
      "-999.0\n",
      "-999.0\n",
      "35.0\n"
     ]
    }
   ],
   "source": [
    "tijden = [10, 11, 12, 13] # Met deze waarden wordt naar de aankomsttijden bij de detectoren 1, 2, 3 en 4 gewezen.\n",
    "for tijd in tijden:\n",
    "    print data.root.s508.events[0][tijd]"
   ]
  },
  {
   "cell_type": "code",
   "execution_count": 6,
   "metadata": {
    "collapsed": true
   },
   "outputs": [],
   "source": [
    "def zenithoeken(event, detectors):\n",
    "    ''' \n",
    "    De zenithoek is de hoek tussen het golf-front en de horizon, \n",
    "    of ook tussen de as naar het zenith en de as van de deeltjeslawine.\n",
    "    \n",
    "    parameters\n",
    "    event: een enkel event uit de opgehaalde data\n",
    "    detectors: de detectorinformatie uit de API\n",
    "    \n",
    "    returns\n",
    "    een array met de hoek tussen de as door twee detectors en het deeltjes front.\n",
    "    '''\n",
    "    c = 0.2997 # in m/ns\n",
    "    zenith = []\n",
    "    for i in range(0, 3):\n",
    "        for j in range(i + 1, 4):\n",
    "            schuine = afstand(detectors[i], detectors[j])\n",
    "            overstaande = c * (event[i + 10] - event[j + 10]) / 100\n",
    "            try:\n",
    "                angle = np.degrees(np.arcsin(overstaande / schuine))\n",
    "            except:\n",
    "                angle = -999\n",
    "            zenith.append(angle)\n",
    "    return zenith"
   ]
  },
  {
   "cell_type": "code",
   "execution_count": 7,
   "metadata": {
    "collapsed": false
   },
   "outputs": [
    {
     "name": "stdout",
     "output_type": "stream",
     "text": [
      "[17.70567568881863, 17.692147018848907, -0.34344051476589926, 0.0, -18.067119899239444, -18.052589454881673]\n"
     ]
    }
   ],
   "source": [
    "event = data.root.s508.events[0]\n",
    "print zenithoeken(event, detectors)"
   ]
  },
  {
   "cell_type": "code",
   "execution_count": 9,
   "metadata": {
    "collapsed": false
   },
   "outputs": [
    {
     "name": "stdout",
     "output_type": "stream",
     "text": [
      "[17.70567568881863, 17.692147018848907, -0.34344051476589926, 0.0, -18.067119899239444, -18.052589454881673]\n",
      "[0.0, -17.647091611648843, -25.216061588313405, -10.085151972168397, -25.236461797443695, -7.058171681758421]\n",
      "[-17.70567568881863, 0.0, -17.827381214060242, 10.110339844335856, -0.12888689953425922, -17.826975840906918]\n",
      "[-0.30073246327933972, 17.647091611648843, 17.647091611648843, 10.261508730688066, 17.976762245897277, 0.0]\n",
      "[-0.085923198616668431, 0.0, -0.085859646667091408, 0.04959543379722129, 0.0, -0.085857757732672346]\n",
      "[0.0, -17.827381214060242, -17.647091611648843, -10.185915329754817, -17.660872452606746, 0.17171570826003479]\n",
      "[17.660583543975601, 17.647091611648843, -0.085859646667091408, 0.0, -17.751069648693221, -17.736810545292407]\n",
      "[0.0, -17.602047472751252, -48.178036981002393, -10.059966069265851, -48.226470483458286, -26.283100425617246]\n",
      "[0.0, -17.647091611648843, -17.737213730694243, -10.085151972168397, -17.751069648693221, -0.085857757732672346]\n",
      "[-17.615502695014733, 0.0, -20.554994731395098, 10.059966069265851, -2.7936539360934032, -20.554522063106283]\n"
     ]
    }
   ],
   "source": [
    "selecties = range(0, 10)\n",
    "for selectie in selecties:\n",
    "    event = data.root.s508.events[selectie]\n",
    "    print zenithoeken(event, detectors)"
   ]
  },
  {
   "cell_type": "markdown",
   "metadata": {
    "collapsed": true
   },
   "source": [
    "Hierboven zijn de gereconstrueerde hoeken voor de eerste 10 events voor alle combinaties van 2 detectoren in een set van 4 detectoren berekend. De hoeken zijn gedefinieerd als de hoek tussen de as door de detector en het hart van de deeltjeslawine.\n",
    "\n",
    "Een beschrijving van de zenith-hoek is te vinden op: [http://docs.hisparc.nl/infopakket/pdf/richting_reconstructie.pdf](http://docs.hisparc.nl/infopakket/pdf/richting_reconstructie.pdf)."
   ]
  },
  {
   "cell_type": "code",
   "execution_count": null,
   "metadata": {
    "collapsed": true
   },
   "outputs": [],
   "source": []
  }
 ],
 "metadata": {
  "kernelspec": {
   "display_name": "Python 2",
   "language": "python",
   "name": "python2"
  },
  "language_info": {
   "codemirror_mode": {
    "name": "ipython",
    "version": 2
   },
   "file_extension": ".py",
   "mimetype": "text/x-python",
   "name": "python",
   "nbconvert_exporter": "python",
   "pygments_lexer": "ipython2",
   "version": "2.7.10"
  }
 },
 "nbformat": 4,
 "nbformat_minor": 0
}
