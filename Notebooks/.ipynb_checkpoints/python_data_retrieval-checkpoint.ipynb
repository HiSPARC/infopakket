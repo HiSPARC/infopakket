{
 "cells": [
  {
   "cell_type": "markdown",
   "metadata": {},
   "source": [
    "# Data retrieval met python\n",
    "## Inleiding\n",
    "In dit notebook wordt beschreven hoe HiSPARC data met de HiSPARC sapphire module voor python op te halen is. De installatie van sapphire is beschreven op:\n",
    "\n",
    "[http://docs.hisparc.nl/sapphire/installation.html#installing-the-prerequisites](http://docs.hisparc.nl/sapphire/installation.html#installing-the-prerequisites)\n",
    "\n",
    "Nadat deze installatie is voltooid, kan de sapphire module in python geladen worden. (Klik met de muis in de onderstaande code-cel en druk op shift-enter):"
   ]
  },
  {
   "cell_type": "code",
   "execution_count": 1,
   "metadata": {
    "collapsed": true
   },
   "outputs": [],
   "source": [
    "import sapphire"
   ]
  },
  {
   "cell_type": "markdown",
   "metadata": {
    "collapsed": true
   },
   "source": [
    "Boven deze regel staat als het goed is de code-cel met \"`import sapphire`\". Wordt een foutcode afgebeeld, dan is de installatie niet gelukt. De sapphire module bevat de \"`esd`\" klasse. Deze klasse maakt het mogelijk om data (meetgegevens) uit de HiSPARC data-server op te halen. (Dit doen we weer door in de code-cel te klikken en op shift-enter te drukken)"
   ]
  },
  {
   "cell_type": "code",
   "execution_count": 2,
   "metadata": {
    "collapsed": false
   },
   "outputs": [
    {
     "name": "stderr",
     "output_type": "stream",
     "text": [
      "100%|############################################################|Time: 0:00:06\n"
     ]
    }
   ],
   "source": [
    "from sapphire import esd\n",
    "data = esd.quick_download(102)"
   ]
  },
  {
   "cell_type": "markdown",
   "metadata": {},
   "source": [
    "Na enige tijd verschijnt er een regel met \n",
    "\"`100%|############################################################|Time: 0:00:06`\". De variabele \"`data`\" bevat nu een set meetgegevens. Deze set is af te drukken. "
   ]
  },
  {
   "cell_type": "code",
   "execution_count": 3,
   "metadata": {
    "collapsed": false
   },
   "outputs": [
    {
     "name": "stdout",
     "output_type": "stream",
     "text": [
      "data1.h5 (File) ''\n",
      "Last modif.: 'Tue Nov 17 10:07:28 2015'\n",
      "Object Tree: \n",
      "/ (RootGroup) ''\n",
      "/s102 (Group) ''\n",
      "/s102/events (Table(45393,)) ''\n",
      "\n"
     ]
    }
   ],
   "source": [
    "print data"
   ]
  },
  {
   "cell_type": "markdown",
   "metadata": {},
   "source": [
    "## Het data format\n",
    "De naam van het bestand waarnaar de variabele \"`data` wijst, eindigt met \"`.h5`\". Om dit data bestand te openen, maken we gebruik van \"`pytables`\"."
   ]
  },
  {
   "cell_type": "code",
   "execution_count": 15,
   "metadata": {
    "collapsed": false
   },
   "outputs": [],
   "source": [
    "import tables"
   ]
  },
  {
   "cell_type": "markdown",
   "metadata": {},
   "source": [
    "Als \"`h5py`\" is geinstalleerd, staat boven deze regel geen foutmelding. Anders is \"`h5py`\" te installeren met met \"`pip install h5py`\". Met de onderstaande opdracht is te testen of de installatie gelukt is, **_let op: dit duurt wel een tijdje!_**:"
   ]
  },
  {
   "cell_type": "code",
   "execution_count": 17,
   "metadata": {
    "collapsed": false
   },
   "outputs": [
    {
     "name": "stdout",
     "output_type": "stream",
     "text": [
      "-=-=-=-=-=-=-=-=-=-=-=-=-=-=-=-=-=-=-=-=-=-=-=-=-=-=-=-=-=-=-=-=-=-=-=-=-=-=\n",
      "PyTables version:    3.2.0\n",
      "HDF5 version:        1.8.13\n",
      "NumPy version:       1.10.1\n",
      "Numexpr version:     2.4.3 (not using Intel's VML/MKL)\n",
      "Zlib version:        1.2.5 (in Python interpreter)\n",
      "BZIP2 version:       1.0.6 (6-Sept-2010)\n",
      "Blosc version:       1.4.4 (2015-05-05)\n",
      "Blosc compressors:   blosclz (1.0.2.1), lz4 (1.2.0), lz4hc (1.2.0), snappy (1.1.1), zlib (1.2.8)\n",
      "Cython version:      0.19.2\n",
      "Python version:      2.7.10 (default, Jul 13 2015, 12:05:58) \n",
      "[GCC 4.2.1 Compatible Apple LLVM 6.1.0 (clang-602.0.53)]\n",
      "Platform:            Darwin-15.0.0-x86_64-i386-64bit\n",
      "Byte-ordering:       little\n",
      "Detected cores:      4\n",
      "Default encoding:    ascii\n",
      "Default FS encoding: utf-8\n",
      "Default locale:      (en_US, UTF-8)\n",
      "-=-=-=-=-=-=-=-=-=-=-=-=-=-=-=-=-=-=-=-=-=-=-=-=-=-=-=-=-=-=-=-=-=-=-=-=-=-=\n"
     ]
    },
    {
     "name": "stderr",
     "output_type": "stream",
     "text": [
      "/usr/local/lib/python2.7/site-packages/tables/filters.py:292: FiltersWarning: compression library ``lzo`` is not available; using ``zlib`` instead\n",
      "  % (complib, default_complib), FiltersWarning)\n",
      "......................................................................................................................................................................................................................................................................................................................................................................................................................................................................ssss........."
     ]
    },
    {
     "name": "stdout",
     "output_type": "stream",
     "text": [
      "Performing only a light (yet comprehensive) subset of the test suite.\n",
      "If you want a more complete test, try passing the --heavy flag to this script\n",
      "(or set the 'heavy' parameter in case you are using tables.test() call).\n",
      "The whole suite will take more than 4 hours to complete on a relatively\n",
      "modern CPU and around 512 MB of main memory.\n",
      "-=-=-=-=-=-=-=-=-=-=-=-=-=-=-=-=-=-=-=-=-=-=-=-=-=-=-=-=-=-=-=-=-=-=-=-=-=-=\n"
     ]
    },
    {
     "name": "stderr",
     "output_type": "stream",
     "text": [
      "........................................................................................................................................sssss..................................................................................................................................................................................................................................................................................................................................................................................................................................................................ssssssssssssssssssssssssssssssssssssssssssssssssss......................................................................................................................................................................................................................................................................................................................................................................................................................................................................................................................................................................................................................................................................................ssssss...................................................................................................................................................................................................................................................................................................................................................................................................................................................sssssss........................................................ssssssssssssss...................................................................................................................................................................................................ssssssssss.................................................................ssssssssss.................................................................sssss...............sssss..........................................................................................................................................................................ssssss..............................................................................................................................................................................................................s..........................................................................................................................................................................................................................................................................................s...s................................................................................................................................................................................................................................................................................................................................................................................................................................................................................................................................................................................................................................................................................................................................................................................................................................................................................................................................................................................................................................................................................................................................................................................................................................................................................................................................................................................................................................................................................................................................................................................................................................................................................................................ssssssssssssssssssss..................................................................................................................................................................................................................................................................................................................................................................................................................................................................................................................................................................................................................................................................................................................................................................\n",
      "----------------------------------------------------------------------\n",
      "Ran 5734 tests in 379.103s\n",
      "\n",
      "OK (skipped=145)\n"
     ]
    },
    {
     "data": {
      "text/plain": [
       "0"
      ]
     },
     "execution_count": 17,
     "metadata": {},
     "output_type": "execute_result"
    }
   ],
   "source": [
    "tables.test()"
   ]
  },
  {
   "cell_type": "markdown",
   "metadata": {},
   "source": [
    "Als er geen fouten zijn, kunnen we verder. Anders wordt het zoeken op: \n",
    "[http://www.pytables.org/usersguide/installation.html](http://www.pytables.org/usersguide/installation.html)\n",
    "\n",
    "Het commando \"`tables?`\" laat (in een pop up) zien wat \"`tables`\" doet."
   ]
  },
  {
   "cell_type": "code",
   "execution_count": 18,
   "metadata": {
    "collapsed": true
   },
   "outputs": [],
   "source": [
    "tables?"
   ]
  },
  {
   "cell_type": "markdown",
   "metadata": {},
   "source": [
    "De opdracht \"`print data`\" had een resultaat in de vorm van:\n",
    "\n",
    "```\n",
    "data1.h5 (File) ''\n",
    "Last modif.: 'Tue Nov 17 10:07:28 2015'\n",
    "Object Tree: \n",
    "/ (RootGroup) ''\n",
    "/s102 (Group) ''\n",
    "/s102/events (Table(45393,)) ''\n",
    "```\n",
    "Het \"`data`\" bestand heeft een hierarchise opbouw. In \"`data`\" zit een RootGroup, deze is te benaderen met \"`data.root`\". Hierin zit weer een groep \"`s102`\", deze is te benaderen met \"`data.root.s102`\" Hierin zitten weer \"`events`\"."
   ]
  },
  {
   "cell_type": "code",
   "execution_count": 20,
   "metadata": {
    "collapsed": false
   },
   "outputs": [
    {
     "name": "stdout",
     "output_type": "stream",
     "text": [
      "/s102/events (Table(45393,)) ''\n"
     ]
    }
   ],
   "source": [
    "print data.root.s102.events"
   ]
  },
  {
   "cell_type": "markdown",
   "metadata": {},
   "source": [
    "De informatie van het eerste event is op te halen met:"
   ]
  },
  {
   "cell_type": "code",
   "execution_count": 21,
   "metadata": {
    "collapsed": false
   },
   "outputs": [
    {
     "name": "stdout",
     "output_type": "stream",
     "text": [
      "(0L, 1447632002, 423833973L, 1447632002423833973L, [284, 49, -1, -1], [2969, 355, -1, -1], 1.0023000240325928, 0.13359999656677246, -1.0, -1.0, 2460.0, 972.5, -1.0, -1.0, -999.0)\n"
     ]
    }
   ],
   "source": [
    "print data.root.s102.events[0]"
   ]
  },
  {
   "cell_type": "markdown",
   "metadata": {},
   "source": [
    "De informatie in een event bestaat uit een lijst getallen. Deze getallen hebben de volgende betekenis:\n",
    "\n",
    "1. event_id: Het unieke nummer van het event in deze dataset.\n",
    "1. timestamp: De tijd in hele seconden (GPS) waarop de trigger van het event plaatsvond. \n",
    "1. nanoseconds: De tijd in nanoseconden waarop de trigger van het event plaatsvond.\n",
    "1. ext_timestamp: Dit getal is vrij groot, namelijk de twee vorige achter elkaar.\n",
    "1. pulseheights: Een array met pulshoogten, \"`-1`\" betekent dat er geen detectie was.\n",
    "1. integrals: Een array met pulsoppervlakten, \"`-1`\" betekent ook hier dat er geen detectie was.\n",
    "1. n1-n4: Het aantal MIPS's (Minimal Ionising Particles) dat is gereconstrueerd.\n",
    "1. t1-t4: De gereconstrueerde detectietijden.\n",
    "1. t_trigger: De triggertijd.\n",
    "\n",
    "Let op, computers tellen vanaf \"`0`\" en niet vanaf \"`1`\", Het aantal gereconstrueerde deeltjes in detector 1 bij het eerste event is dus te vinden met:"
   ]
  },
  {
   "cell_type": "code",
   "execution_count": 27,
   "metadata": {
    "collapsed": false
   },
   "outputs": [
    {
     "name": "stdout",
     "output_type": "stream",
     "text": [
      "1.0023\n"
     ]
    }
   ],
   "source": [
    "print data.root.s102.events[0][6]"
   ]
  },
  {
   "cell_type": "markdown",
   "metadata": {},
   "source": [
    "Een array met pulshoogten is in dit geval te vinden met:"
   ]
  },
  {
   "cell_type": "code",
   "execution_count": 28,
   "metadata": {
    "collapsed": false
   },
   "outputs": [
    {
     "name": "stdout",
     "output_type": "stream",
     "text": [
      "[284  49  -1  -1]\n"
     ]
    }
   ],
   "source": [
    "print data.root.s102.events[0][4]"
   ]
  },
  {
   "cell_type": "markdown",
   "metadata": {},
   "source": [
    "De eerste pulshoogte is te vinden met:"
   ]
  },
  {
   "cell_type": "code",
   "execution_count": 29,
   "metadata": {
    "collapsed": false
   },
   "outputs": [
    {
     "name": "stdout",
     "output_type": "stream",
     "text": [
      "284\n"
     ]
    }
   ],
   "source": [
    "print data.root.s102.events[0][4][0]"
   ]
  },
  {
   "cell_type": "code",
   "execution_count": null,
   "metadata": {
    "collapsed": true
   },
   "outputs": [],
   "source": []
  }
 ],
 "metadata": {
  "kernelspec": {
   "display_name": "Python 2",
   "language": "python",
   "name": "python2"
  },
  "language_info": {
   "codemirror_mode": {
    "name": "ipython",
    "version": 2
   },
   "file_extension": ".py",
   "mimetype": "text/x-python",
   "name": "python",
   "nbconvert_exporter": "python",
   "pygments_lexer": "ipython2",
   "version": "2.7.10"
  }
 },
 "nbformat": 4,
 "nbformat_minor": 0
}
