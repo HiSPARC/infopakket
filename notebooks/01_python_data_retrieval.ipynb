{
 "cells": [
  {
   "cell_type": "markdown",
   "id": "1ad416e3",
   "metadata": {},
   "source": [
    "# 1 Python data retrieval\n",
    "\n",
    "Deze notebooks werken alleen met Python 3.\n",
    "\n",
    "## Inleiding\n",
    "\n",
    "Het notebook 'Data retrieval met python' is het eerste notebook van een serie.\n",
    "In dit notebook wordt beschreven hoe HiSPARC data met de HiSPARC sapphire module\n",
    "voor python op te halen is. De installatie van sapphire is beschreven op:\n",
    "[https://docs.hisparc.nl/sapphire/installation.html#installing-the-prerequisites](https://docs.hisparc.nl/sapphire/installation.html#installing-the-prerequisites)\n",
    "\n",
    "Nadat deze installatie is voltooid, kan de sapphire module in python geladen\n",
    "worden. (Klik met de muis in de onderstaande code-cel en druk op shift-enter):"
   ]
  },
  {
   "cell_type": "code",
   "execution_count": null,
   "id": "485770f0",
   "metadata": {},
   "outputs": [],
   "source": [
    "import sapphire"
   ]
  },
  {
   "cell_type": "markdown",
   "id": "d3ba3069",
   "metadata": {},
   "source": [
    "Boven deze regel staat als het goed is de code-cel met \"`import sapphire`\".\n",
    "Wordt een foutcode afgebeeld, dan is de installatie niet gelukt. De sapphire\n",
    "module bevat onder andere de \"`quick_download`\" functie. Deze functie maakt het\n",
    "mogelijk om data (meetgegevens) uit de HiSPARC data-server op te halen.\n",
    "\n",
    "Aan de functie wordt het stationsnummer als parameter meegegeven. Hieronder\n",
    "wordt data voor station 102 opgehaald. Uiteraard is deze opdracht aan te passen\n",
    "zodat er data van een andere station opgehaald wordt. (Dit doen we weer door in\n",
    "de code- cel te klikken en op shift-enter te drukken)."
   ]
  },
  {
   "cell_type": "code",
   "execution_count": null,
   "id": "051a1f9e",
   "metadata": {},
   "outputs": [],
   "source": [
    "from sapphire import quick_download\n",
    "data = quick_download(102)"
   ]
  },
  {
   "cell_type": "markdown",
   "id": "ee8b9bec",
   "metadata": {},
   "source": [
    "Na enige tijd verschijnt hierboven een regel zoals:\n",
    "\"`100%|############################################################|Time: 0:00:06`\"\n",
    "\n",
    "Soms is de download zo snel dat deze regel niet wordt afgedrukt.\n",
    "\n",
    "De variabele \"`data`\" bevat nu een set meetgegevens. Deze set is af te drukken."
   ]
  },
  {
   "cell_type": "code",
   "execution_count": null,
   "id": "17405f6d",
   "metadata": {},
   "outputs": [],
   "source": [
    "print(data)"
   ]
  },
  {
   "cell_type": "markdown",
   "id": "b4f53d7d",
   "metadata": {},
   "source": [
    "Het \"`data`\" bestand heeft een hierarchise opbouw. In \"`data`\" zit een\n",
    "RootGroup, deze is te benaderen met \"`data.root`\". Hierin zit weer een groep\n",
    "\"`s102`\", deze is te benaderen met \"`data.root.s102`\". Hierin zit een tabel\n",
    "\"`events`\".\n",
    "\n",
    "## Werken met een events tabel\n",
    "\n",
    "Voor het gemak maken we een variable `events` die naar de eventstabel van\n",
    "station 102 wijst:"
   ]
  },
  {
   "cell_type": "code",
   "execution_count": null,
   "id": "9065d2da",
   "metadata": {},
   "outputs": [],
   "source": [
    "event_tabel = data.root.s102.events\n",
    "event_tabel"
   ]
  },
  {
   "cell_type": "markdown",
   "id": "ff317109",
   "metadata": {},
   "source": [
    "Dit is een tabel van 46329 regels. Elke regel is een event.\n",
    "\n",
    "De informatie van het eerste event is op te halen met:"
   ]
  },
  {
   "cell_type": "code",
   "execution_count": null,
   "id": "5318c2ef",
   "metadata": {},
   "outputs": [],
   "source": [
    "event_tabel[0]"
   ]
  },
  {
   "cell_type": "markdown",
   "id": "cbfe7b8b",
   "metadata": {},
   "source": [
    "Het **tweede** event: (Let op, python telt vanaf 0 en niet vanaf 1)"
   ]
  },
  {
   "cell_type": "code",
   "execution_count": null,
   "id": "7bd2c5b8",
   "metadata": {},
   "outputs": [],
   "source": [
    "event_tabel[1]"
   ]
  },
  {
   "cell_type": "markdown",
   "id": "78e128d0",
   "metadata": {},
   "source": [
    "De informatie in een event bestaat uit een lijst getallen. Deze getallen hebben\n",
    "de volgende betekenis:\n",
    "\n",
    "1. event_id: Het unieke nummer van het event in deze dataset.\n",
    "1. timestamp: De tijd in hele seconden (GPS) waarop de trigger van het event plaatsvond.\n",
    "1. nanoseconds: De tijd in nanoseconden waarop de trigger van het event plaatsvond.\n",
    "1. ext_timestamp: Dit getal is vrij groot, namelijk de twee vorige achter elkaar.\n",
    "1. pulseheights: Een array met pulshoogten, \"`-1`\" betekent dat er geen detector was.\n",
    "1. integrals: Een array met pulsoppervlakten, \"`-1`\" betekent ook hier dat er geen detector was.\n",
    "1. n1: Het aantal MIPS's (Minimal Ionising Particles) dat in detector 1 is gereconstrueerd.\n",
    "1. n2\n",
    "1. n3\n",
    "1. n4\n",
    "1. t1: De gereconstrueerde detectietijden vanaf het begin van het opgeslagen signaal voor detector 1.\n",
    "1. t2\n",
    "1. t3\n",
    "1. t4\n",
    "1. t_trigger: Het moment van de GPS-tijdstempel vanaf het begin van het opgeslagen signaal.\n",
    "\n",
    "In het\n",
    "werkblad [https://docs.hisparc.nl/infopakket/pdf/traces.pdf](https://docs.hisparc.nl/infopakket/pdf/traces.pdf)\n",
    "wordt de natuurkundige betekenis van deze\n",
    "getallen beschreven.  De afbeeldingen in dit werkblad zijn afkomstig uit het\n",
    "interactieve werkblad [https://data.hisparc.nl/media/jsparc/jsparc.html](https://data.hisparc.nl/media/jsparc/jsparc.html).\n",
    "Let op, computers tellen vanaf \"`0`\" en niet vanaf \"`1`\"\n",
    "\n",
    "### Werken met kolomnamen\n",
    "\n",
    "Een kolom zoals 'event_id', 'timestamp' of 't1' kan opgevraagd worden door de\n",
    "index van de kolom (0, 1, 2, ...) of door de kolomnaam. Door gebruik te maken\n",
    "van de kolomnaam wordt de code veel beter leesbaar:"
   ]
  },
  {
   "cell_type": "code",
   "execution_count": null,
   "id": "cd1dfa6b",
   "metadata": {},
   "outputs": [],
   "source": [
    "first_event = event_tabel[0]\n",
    "first_event['timestamp']"
   ]
  },
  {
   "cell_type": "markdown",
   "id": "ff051cc1",
   "metadata": {},
   "source": [
    "Het aantal gereconstrueerde deeltjes in detector 1 (het zevende getal) bij het\n",
    "eerste event is dus te vinden met:"
   ]
  },
  {
   "cell_type": "code",
   "execution_count": null,
   "id": "bc3955e2",
   "metadata": {},
   "outputs": [],
   "source": [
    "event_tabel[0][6]  # 7de kolom van 1ste rij"
   ]
  },
  {
   "cell_type": "markdown",
   "id": "e3443d0a",
   "metadata": {},
   "source": [
    "en:"
   ]
  },
  {
   "cell_type": "code",
   "execution_count": null,
   "id": "d3eecb3b",
   "metadata": {},
   "outputs": [],
   "source": [
    "first_event = event_tabel[0]\n",
    "first_event['n1']"
   ]
  },
  {
   "cell_type": "markdown",
   "id": "ad8c41ad",
   "metadata": {},
   "source": [
    "De tweede code is weliswaar langer, maar veel beter leesbaar."
   ]
  },
  {
   "cell_type": "code",
   "execution_count": null,
   "id": "4a5572a5",
   "metadata": {},
   "outputs": [],
   "source": [
    "print(first_event['n1'])\n",
    "print(event_tabel[0][6])"
   ]
  },
  {
   "cell_type": "markdown",
   "id": "f93f82a3",
   "metadata": {},
   "source": [
    "Een array met pulshoogten in ADC-waarden is in dit geval te vinden met:\n"
   ]
  },
  {
   "cell_type": "code",
   "execution_count": null,
   "id": "1d034784",
   "metadata": {},
   "outputs": [],
   "source": [
    "first_event['pulseheights']"
   ]
  },
  {
   "cell_type": "markdown",
   "id": "e895bc84",
   "metadata": {},
   "source": [
    "Merk op dat de pulshoogtes van detector 3 en 4 de waarde '-1' hebben. De waarde\n",
    "'-1' betekent dat de pulsehoogte niet bepaald kon worden; Station 102 heeft\n",
    "slechts twee detectoren.\n",
    "\n",
    "De eerste pulshoogte is te vinden met:"
   ]
  },
  {
   "cell_type": "code",
   "execution_count": null,
   "id": "72dd47df",
   "metadata": {},
   "outputs": [],
   "source": [
    "print(\"pulshoogte detector 1: %d ADC\" % first_event['pulseheights'][0])"
   ]
  },
  {
   "cell_type": "markdown",
   "id": "03bbd8c7",
   "metadata": {},
   "source": [
    "### Eventkolommen gebruiken\n",
    "\n",
    "Vaak is het eenvoudiger om de hele *kolom* `n1` in\n",
    "een keer te bekijken:\n",
    "\n",
    "De variabele `n1` wijst naar de kolom `n1` en we bekijken\n",
    "de eerste 30 regels (events):"
   ]
  },
  {
   "cell_type": "code",
   "execution_count": null,
   "id": "9d3eaa1f",
   "metadata": {},
   "outputs": [],
   "source": [
    "n1 = event_tabel.col('n1')\n",
    "n1[:30]"
   ]
  },
  {
   "cell_type": "markdown",
   "id": "e33f062e",
   "metadata": {},
   "source": [
    "We kunnen nu de data uit een hele kolom verwerken en/of plotten:\n"
   ]
  },
  {
   "cell_type": "code",
   "execution_count": null,
   "id": "22ef4880",
   "metadata": {},
   "outputs": [],
   "source": [
    "import matplotlib.pyplot as plt\n",
    "import numpy as np\n",
    "%matplotlib inline"
   ]
  },
  {
   "cell_type": "code",
   "execution_count": null,
   "id": "2995e954",
   "metadata": {},
   "outputs": [],
   "source": [
    "n1 = event_tabel.col('n1')\n",
    "plt.hist(n1, bins=np.arange(0.3, 5., .1), histtype='step')\n",
    "plt.title('Station 102: Number of particles in detector 1')\n",
    "plt.xlabel('number of particles (MIP)')\n",
    "plt.ylabel('counts')"
   ]
  },
  {
   "cell_type": "markdown",
   "id": "b8d179c6",
   "metadata": {},
   "source": [
    "Merk op dat:\n"
   ]
  },
  {
   "cell_type": "code",
   "execution_count": null,
   "id": "2d21e1c3",
   "metadata": {},
   "outputs": [],
   "source": [
    "event_tabel['n1']"
   ]
  },
  {
   "cell_type": "markdown",
   "id": "6b4be4fa",
   "metadata": {},
   "source": [
    "niet werkt, omdat event_tabel een (database) tabel is en geen *array*.\n",
    "\n",
    "We kunnen wel eerst alle rijen uit de tabel inlezen:"
   ]
  },
  {
   "cell_type": "code",
   "execution_count": null,
   "id": "e2218e2c",
   "metadata": {},
   "outputs": [],
   "source": [
    "events = event_tabel.read()"
   ]
  },
  {
   "cell_type": "markdown",
   "id": "95e4955f",
   "metadata": {},
   "source": [
    "Dan kunnen we de kolom wel selecteren: (maar we hebben nu de **gehele** tabel in\n",
    "het geheugen!)"
   ]
  },
  {
   "cell_type": "code",
   "execution_count": null,
   "id": "266e1a42",
   "metadata": {},
   "outputs": [],
   "source": [
    "events['n1']"
   ]
  },
  {
   "cell_type": "markdown",
   "id": "8011d269",
   "metadata": {},
   "source": [
    "## Opgave\n",
    "\n",
    "Maak een histogram van de pulshoogtes van detector 1 en 2 van station 102.\n",
    "\n",
    "Een voorbeeld is hier te zien: https://data.hisparc.nl/show/stations/102"
   ]
  },
  {
   "cell_type": "code",
   "execution_count": null,
   "id": "f54c483a",
   "metadata": {},
   "outputs": [],
   "source": [
    "ph = event_tabel.col('pulseheights')\n",
    "ph1 = ph[:, 0]\n",
    "ph2 = ph[:, 1]"
   ]
  },
  {
   "cell_type": "markdown",
   "id": "f7052693",
   "metadata": {},
   "source": [
    "'pulseheights' is een *matrix*:\n",
    "- `[:, 0]` is de gehele eerste rij, dwz de pulshoogtes per event van detector 0\n",
    "- `[:, 1]` is de gehele tweede rij, dwz de pulshoogtes per event van detector 1"
   ]
  },
  {
   "cell_type": "code",
   "execution_count": null,
   "id": "1eef9ae2",
   "metadata": {},
   "outputs": [],
   "source": [
    "plt.figure()\n",
    "plt.hist(ph1, bins=np.arange(0, 2000., 20.), histtype='step', log=True)\n",
    "plt.hist(ph2, bins=np.arange(0, 2000., 20.), histtype='step', log=True)\n",
    "plt.title('Station 102: Pulseheights')\n",
    "plt.xlabel('Pulseheight (ADC)')\n",
    "plt.ylabel('counts')\n",
    "plt.legend(['detector 1', 'detector 2' ])\n",
    "plt.ylim(10, 1e4)"
   ]
  },
  {
   "cell_type": "code",
   "execution_count": null,
   "id": "dff38ec2",
   "metadata": {},
   "outputs": [],
   "source": [
    "data.close()"
   ]
  }
 ],
 "metadata": {
  "jupytext": {
   "cell_metadata_filter": "-all",
   "main_language": "python",
   "notebook_metadata_filter": "-all"
  }
 },
 "nbformat": 4,
 "nbformat_minor": 5
}
