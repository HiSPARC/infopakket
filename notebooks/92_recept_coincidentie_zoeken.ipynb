{
 "cells": [
  {
   "cell_type": "markdown",
   "id": "feb39590",
   "metadata": {},
   "source": [
    "# Recept Coincidenties bepalen\n",
    "\n",
    "Deze notebooks werken alleen met Python 3.\n",
    "\n",
    "Coincidenties tussen meetstations worden automatisch bepaald door de publieke\n",
    "database. Ze kunnen eenvoudig worden gedownload, zoals in een eerder notebook is\n",
    "beschreven.\n",
    "\n",
    "Data van teststations wordt echter niet meegenomen in het bepalen van\n",
    "coincidenties. In dit notebook worden coincidenties tussen de een teststation en\n",
    "nabijgelegen meetstations bepaald aan de hand van gedownloade events van de\n",
    "betreffende stations."
   ]
  },
  {
   "cell_type": "code",
   "execution_count": null,
   "id": "4b694b9f",
   "metadata": {},
   "outputs": [],
   "source": [
    "from datetime import datetime\n",
    "import tables\n",
    "from sapphire import download_data"
   ]
  },
  {
   "cell_type": "markdown",
   "id": "cc6d0332",
   "metadata": {},
   "source": [
    "Teststation 599 bevindt zich in de buurt van meetstation 501 en 510 (Nikhef,\n",
    "Science Park, Amsterdam)\n",
    "We bepalen de coincidenties tussen deze drie stations op 1 Mei 2016:\n",
    "\n",
    "Om het aantal coincidenties wat te beperken, downloaden we alleen data tussen\n",
    "0:00 en 3:00."
   ]
  },
  {
   "cell_type": "code",
   "execution_count": null,
   "id": "0b18a915",
   "metadata": {},
   "outputs": [],
   "source": [
    "STATIONS = [501, 510, 599]\n",
    "START = datetime(2016, 5, 1)\n",
    "END = datetime(2016, 5, 1, 3)\n",
    "FILENAME = 'coinc_with_s599.h5'"
   ]
  },
  {
   "cell_type": "code",
   "execution_count": null,
   "id": "405615d0",
   "metadata": {},
   "outputs": [],
   "source": [
    "data = tables.open_file(FILENAME, 'a')"
   ]
  },
  {
   "cell_type": "markdown",
   "id": "5533cd6e",
   "metadata": {},
   "source": [
    "Eerst downloaden we de events per station:"
   ]
  },
  {
   "cell_type": "code",
   "execution_count": null,
   "id": "5be8a7cc",
   "metadata": {},
   "outputs": [],
   "source": [
    "station_groups = ['/s%d' % station for station in STATIONS]\n",
    "\n",
    "for station, group in zip(STATIONS, station_groups):\n",
    "    print(\"Station %d in group: %s.\" % (station, group),)\n",
    "    if group not in data:\n",
    "        print(\"Downloading data: \")\n",
    "        download_data(data, group, station, START, END)\n",
    "    else:\n",
    "        print(\"group %s already in datafile.\" % group)"
   ]
  },
  {
   "cell_type": "markdown",
   "id": "ac192ba4",
   "metadata": {},
   "source": [
    "De HDF5 file heeft nu 3 events tabellen:\n",
    "- /s501/events\n",
    "- /s510/events\n",
    "- /s599/events"
   ]
  },
  {
   "cell_type": "code",
   "execution_count": null,
   "id": "69b152cc",
   "metadata": {},
   "outputs": [],
   "source": [
    "print(data)"
   ]
  },
  {
   "cell_type": "markdown",
   "id": "08e1d572",
   "metadata": {},
   "source": [
    "## Coincidenties bepalen tussen events\n",
    "We gebruiken de SAPPHiRE class `CoincidencesEDS` om coincidenties tussen events\n",
    "in de drie eventtabellen te bepalen:"
   ]
  },
  {
   "cell_type": "code",
   "execution_count": null,
   "id": "59acdce6",
   "metadata": {},
   "outputs": [],
   "source": [
    "from sapphire import CoincidencesESD\n",
    "coin = CoincidencesESD(data, '/coincidences', station_groups, overwrite=True)\n",
    "coin.search_and_store_coincidences(station_numbers=STATIONS)"
   ]
  },
  {
   "cell_type": "code",
   "execution_count": null,
   "id": "0e1a77d8",
   "metadata": {},
   "outputs": [],
   "source": [
    "print(data)"
   ]
  },
  {
   "cell_type": "markdown",
   "id": "d12e910d",
   "metadata": {},
   "source": [
    "De HDF5 file heeft nu een nieuwe group '/coincidences' met daarin:\n",
    "- `coincidences` (table): coincidenties tabel\n",
    "- `c_index` (array)\n",
    "- `s_index` (array)\n",
    "\n",
    "De `c_index` en `s_index` arrays kunnen gebruikt worden om events en coincidenties\n",
    "aan elkaar te koppelen. SAPPHiRE kan dit echter automatisch. Zie\n",
    "`CoincidenceQuery` verderop.\n",
    "\n",
    "De tabel `/coincidences/coincidences` ziet er als volgt uit:"
   ]
  },
  {
   "cell_type": "code",
   "execution_count": null,
   "id": "1774fa4a",
   "metadata": {},
   "outputs": [],
   "source": [
    "coinc_tabel = data.root.coincidences.coincidences\n",
    "print(coinc_tabel)"
   ]
  },
  {
   "cell_type": "code",
   "execution_count": null,
   "id": "3818b098",
   "metadata": {},
   "outputs": [],
   "source": [
    "coincidences = coinc_tabel.read()\n",
    "coincidences[:10]"
   ]
  },
  {
   "cell_type": "markdown",
   "id": "e2c67af0",
   "metadata": {},
   "source": [
    "Elke regel is een coincidentie.\n",
    "\n",
    "De eerste kolommen geven informatie over de `timestamp` van de coincidentie.\n",
    "Daarna volgen een aantal kolommen met informatie over de shower die door\n",
    "reconstructies ingevuld kunnen worden, maar nu nog leeg zijn: `azimuth`,\n",
    "`zenith`, `size` en `energy`.\n",
    "\n",
    "Tenslotte volgen drie kolommen: `s501`, `s502` en `s599`. De kolommen bevatten\n",
    "de waarden `True` of `False` en geven aan of het betreffende station betrokken\n",
    "is in de coincidentie.\n",
    "\n",
    "We kunnen deze kolommen gebruiken om coincidenties te filteren:"
   ]
  },
  {
   "cell_type": "code",
   "execution_count": null,
   "id": "42f4b6c1",
   "metadata": {},
   "outputs": [],
   "source": [
    "s501 = coincidences['s501']\n",
    "s510 = coincidences['s510']\n",
    "s599 = coincidences['s599']"
   ]
  },
  {
   "cell_type": "markdown",
   "id": "f7003e6e",
   "metadata": {},
   "source": [
    "De functie `sum()` telt alle waarden die `True` zijn op:"
   ]
  },
  {
   "cell_type": "code",
   "execution_count": null,
   "id": "cfd646fd",
   "metadata": {},
   "outputs": [],
   "source": [
    "print(\"Er zijn %d events van station 501 betrokken bij coincidenties tussen 501, 510 en/of 599\" % sum(s501))"
   ]
  },
  {
   "cell_type": "code",
   "execution_count": null,
   "id": "aebc4caa",
   "metadata": {},
   "outputs": [],
   "source": [
    "print(\"Er zijn %d coincidenties tussen 501, 510 en 599\" % sum(s510 & s501 & s599))"
   ]
  },
  {
   "cell_type": "markdown",
   "id": "35c08dad",
   "metadata": {},
   "source": [
    "# Opgave\n",
    "\n",
    "Bepaal het aantal coincidenties tussen 501 en 599 waar 510 niet bij betrokken\n",
    "is.\n",
    "\n",
    "*Hint:* gebruik de tilde: ~ voor het tegengestelde van een array."
   ]
  },
  {
   "cell_type": "code",
   "execution_count": null,
   "id": "11503981",
   "metadata": {},
   "outputs": [],
   "source": [
    "sum(s501 & s599 & ~s510)"
   ]
  },
  {
   "cell_type": "markdown",
   "id": "dd8f554c",
   "metadata": {},
   "source": [
    "# Filteren van coincidenties\n",
    "\n",
    "Door gebruik te maken van `compress()` en de kolommen `s501`, `s510` en `s599`\n",
    "kunnen we coincidenties filteren op de betrokken stations:"
   ]
  },
  {
   "cell_type": "code",
   "execution_count": null,
   "id": "6f72e844",
   "metadata": {},
   "outputs": [],
   "source": [
    "coinc_510_501 = coincidences.compress(s501 & s510)\n",
    "coinc_510_501"
   ]
  },
  {
   "cell_type": "markdown",
   "id": "74a695fb",
   "metadata": {},
   "source": [
    "In deze selectie zitten ook coincidenties tussen 501, 510 en 599:"
   ]
  },
  {
   "cell_type": "code",
   "execution_count": null,
   "id": "77745d7d",
   "metadata": {},
   "outputs": [],
   "source": [
    "print(\"Er zijn %d coincenties tussen 510 en 511 waarbij ook 599 betrokken is\" % sum(coinc_510_501['s599']))"
   ]
  },
  {
   "cell_type": "markdown",
   "id": "12f8cdf7",
   "metadata": {},
   "source": [
    "Dit komt natuurlijk overeen met het eerder gevonden aantal coincidenties tussen\n",
    "501, 510 en 599.\n",
    "\n",
    "We kunnen 599 ook uitsluiten:"
   ]
  },
  {
   "cell_type": "code",
   "execution_count": null,
   "id": "06f3353e",
   "metadata": {},
   "outputs": [],
   "source": [
    "coinc_510_501_zonder599 = coincidences.compress(s501 & s510 & ~s599)\n",
    "coinc_510_501_zonder599"
   ]
  }
 ],
 "metadata": {
  "jupytext": {
   "cell_metadata_filter": "-all",
   "main_language": "python",
   "notebook_metadata_filter": "-all"
  }
 },
 "nbformat": 4,
 "nbformat_minor": 5
}
