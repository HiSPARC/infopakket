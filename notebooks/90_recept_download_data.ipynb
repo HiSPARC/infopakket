{
 "cells": [
  {
   "cell_type": "markdown",
   "id": "0e6f0cd7",
   "metadata": {},
   "source": [
    "# Recept: Download events van een station"
   ]
  },
  {
   "cell_type": "markdown",
   "id": "37213599",
   "metadata": {},
   "source": [
    "Deze notebooks werken alleen met Python 3.\n",
    "\n",
    "We maken een HDF5 bestand 'data.h5' en downloaden 3 dagen data (events) van\n",
    "station 501:\n"
   ]
  },
  {
   "cell_type": "code",
   "execution_count": null,
   "id": "8e603265",
   "metadata": {},
   "outputs": [],
   "source": [
    "import tables\n",
    "data = tables.open_file('data.h5', 'a')"
   ]
  },
  {
   "cell_type": "markdown",
   "id": "0ed2361a",
   "metadata": {},
   "source": [
    "De opties open_file zijn:\n",
    "- 'a': append: Open het bestand, zodat er data kan worden toegevoegd\n",
    "- 'w': write: Overschrijf het bestand. Alle bestaande data in het bestand wordt\n",
    "overschreven.\n",
    "- 'r': read: Alleen lezen.\n",
    "\n",
    "Start en eindtijdstippen:\n"
   ]
  },
  {
   "cell_type": "code",
   "execution_count": null,
   "id": "dfa49c6a",
   "metadata": {
    "lines_to_next_cell": 2
   },
   "outputs": [],
   "source": [
    "from datetime import datetime\n",
    "start = datetime(2016, 1, 1)\n",
    "end = datetime(2016, 1, 3)"
   ]
  },
  {
   "cell_type": "code",
   "execution_count": null,
   "id": "336d5823",
   "metadata": {},
   "outputs": [],
   "source": [
    "from sapphire import download_data\n",
    "download_data(data, '/s501', 501, start, end)"
   ]
  },
  {
   "cell_type": "markdown",
   "id": "ccdbce27",
   "metadata": {},
   "source": [
    "De events zijn opgeslagen in de tabel '/s501/events' (data.root.s501.events)\n"
   ]
  },
  {
   "cell_type": "code",
   "execution_count": null,
   "id": "8f94507b",
   "metadata": {
    "lines_to_next_cell": 2
   },
   "outputs": [],
   "source": [
    "print(data)"
   ]
  },
  {
   "cell_type": "code",
   "execution_count": null,
   "id": "e7764b33",
   "metadata": {
    "lines_to_next_cell": 2
   },
   "outputs": [],
   "source": [
    "events = data.root.s501.events[:5]\n",
    "print(events)"
   ]
  },
  {
   "cell_type": "code",
   "execution_count": null,
   "id": "7b3578c5",
   "metadata": {},
   "outputs": [],
   "source": [
    "data.close()"
   ]
  },
  {
   "cell_type": "markdown",
   "id": "cd4fc1c0",
   "metadata": {},
   "source": [
    "# Coincidenties downloaden\n",
    "\n",
    "Coincidenties tussen HiSPARC stations (binnen een afstand van 1000 m) worden\n",
    "automatisch bepaald door de publieke database ([https://data.hisparc.nl/).\n",
    "Het downloaden van coincidenties gaat alsvolgt:\n"
   ]
  },
  {
   "cell_type": "code",
   "execution_count": null,
   "id": "abe1da05",
   "metadata": {
    "lines_to_next_cell": 2
   },
   "outputs": [],
   "source": [
    "import tables\n",
    "FILENAME = 'data.h5'\n",
    "data = tables.open_file(FILENAME, 'a')"
   ]
  },
  {
   "cell_type": "code",
   "execution_count": null,
   "id": "ae0567e1",
   "metadata": {
    "lines_to_next_cell": 2
   },
   "outputs": [],
   "source": [
    "from datetime import datetime\n",
    "start = datetime(2016, 1, 1)\n",
    "end = datetime(2016, 1, 2)"
   ]
  },
  {
   "cell_type": "code",
   "execution_count": null,
   "id": "903e54e5",
   "metadata": {},
   "outputs": [],
   "source": [
    "from sapphire import download_coincidences\n",
    "download_coincidences(data, stations=[502, 505, 504, 509], start=start, end=end, n=3)"
   ]
  },
  {
   "cell_type": "markdown",
   "id": "2ae831ab",
   "metadata": {},
   "source": [
    "We hebben nu coincidenties tussen stations 502, 505, 504 en 509, waarbij\n",
    "minstens 3 stations betrokken waren gedownload.\n",
    "\n",
    "De tabel `coincidences` in de groep `coincidences` bevat de informatie die we\n",
    "zoeken:\n"
   ]
  },
  {
   "cell_type": "code",
   "execution_count": null,
   "id": "59444b4c",
   "metadata": {},
   "outputs": [],
   "source": [
    "print(data.root.coincidences.coincidences)"
   ]
  },
  {
   "cell_type": "markdown",
   "id": "25bbcaa5",
   "metadata": {},
   "source": [
    "Meer informatie over het koppelen van station events aan coincidenties is te\n",
    "vinden in het recept over CoincidenceQuery.\n",
    "\n",
    "## Opgave\n",
    "Rond de jaarwisseling 2015-2016 is er iets vreemds gebeurd rondom de\n",
    "meetstations in Middelharnis (3201-3203).\n",
    "\n",
    "Download de data van een uur voor en een uur na de jaarwisseling in het HDF5\n",
    "bestand 'middelharnis.h5'\n"
   ]
  },
  {
   "cell_type": "code",
   "execution_count": null,
   "id": "38922110",
   "metadata": {},
   "outputs": [],
   "source": [
    "import tables\n",
    "from sapphire import download_data\n",
    "from datetime import datetime\n",
    "\n",
    "start = datetime(2015, 12, 31, 23)\n",
    "end = datetime(2016, 1, 1, 1)\n",
    "stations = [3201, 3202, 3203]\n",
    "\n",
    "with tables.open_file('middelharnis.h5', 'w') as data:\n",
    "\n",
    "    for station in stations:\n",
    "        print('station: %d.' % station)\n",
    "        path = '/s%d' % station\n",
    "        download_data(data, path, station, start, end)\n",
    "\n",
    "    print(data)"
   ]
  }
 ],
 "metadata": {
  "jupytext": {
   "cell_metadata_filter": "-all",
   "main_language": "python",
   "notebook_metadata_filter": "-all"
  }
 },
 "nbformat": 4,
 "nbformat_minor": 5
}
