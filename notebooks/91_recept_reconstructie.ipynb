{
 "cells": [
  {
   "cell_type": "markdown",
   "id": "23fb5ec7",
   "metadata": {},
   "source": [
    "# Recept Richtingsreconstructie\n",
    "\n",
    "Deze notebooks werken alleen met Python 3.\n",
    "\n",
    "Richtingsrecontructie op basis van aankomsttijden van deeltjes is mogelijk als\n",
    "er 3 tijden zijn gemeten. In het geval van HiSPARC meetstations, is dat mogelijk\n",
    "bij stations met 4 detectoren.\n"
   ]
  },
  {
   "cell_type": "code",
   "execution_count": null,
   "id": "8286f9b3",
   "metadata": {},
   "outputs": [],
   "source": [
    "import tables\n",
    "from sapphire import download_data\n",
    "from datetime import datetime"
   ]
  },
  {
   "cell_type": "markdown",
   "id": "3a85a11b",
   "metadata": {},
   "source": [
    "In het recept *download data* is reeds data gedownload in het bestand 'data.h5':\n",
    "\n",
    "(Als dit bestand nog niet bestaat wordt het nu gemaakt. We downloaden de\n",
    "benodigde data dan verderop alsnog)\n"
   ]
  },
  {
   "cell_type": "code",
   "execution_count": null,
   "id": "da72f05b",
   "metadata": {},
   "outputs": [],
   "source": [
    "FILENAME = 'data5.h5'\n",
    "data = tables.open_file(FILENAME, 'a')"
   ]
  },
  {
   "cell_type": "markdown",
   "id": "4144eff0",
   "metadata": {},
   "source": [
    "In het recept *download data* zijn reeds de events van station 501 van de eerste\n",
    "twee dagen van januari 2016 gedownload, in de tabel 's501'.\n",
    "\n",
    "Als de data nog niet is gedownload, dan downloaden we de data hier alsnog:"
   ]
  },
  {
   "cell_type": "code",
   "execution_count": null,
   "id": "7bbfc5d0",
   "metadata": {},
   "outputs": [],
   "source": [
    "if '/s501' not in data:\n",
    "    download_data(data, '/s501', 501, start=datetime(2016, 1, 1), end=datetime(2016,1,3))"
   ]
  },
  {
   "cell_type": "code",
   "execution_count": null,
   "id": "a8b3a578",
   "metadata": {},
   "outputs": [],
   "source": [
    "print(data)"
   ]
  },
  {
   "cell_type": "markdown",
   "id": "3c79fd9a",
   "metadata": {},
   "source": [
    "We gebruiken de SAPPHiRE class `ReconstructESDEvents`:\n"
   ]
  },
  {
   "cell_type": "code",
   "execution_count": null,
   "id": "e9347b50",
   "metadata": {},
   "outputs": [],
   "source": [
    "from sapphire import ReconstructESDEvents\n",
    "rec = ReconstructESDEvents(data, '/s501', 501)"
   ]
  },
  {
   "cell_type": "markdown",
   "id": "e268955f",
   "metadata": {},
   "source": [
    "De function `reconstruct_directions()` reconstrueert de richtingen (hoeken) van\n",
    "elk event uit de aankomsttijden per detector en slaat de uitkomst op in:\n",
    "- `rec.theta`: een array met de zenith hoek per event\n",
    "- `rec.phi`: een array met de azimuth hoek per event\n",
    "\n",
    "De hoeken kunnen ook meteen opgeslagen worden in het HDF5 bestand. Dit wordt in\n",
    "de volgende paragraaf toegelicht.\n",
    "\n",
    "Eerst reconstrueren we de aankomstrichting van de events:\n"
   ]
  },
  {
   "cell_type": "code",
   "execution_count": null,
   "id": "29429127",
   "metadata": {},
   "outputs": [],
   "source": [
    "rec.reconstruct_directions()"
   ]
  },
  {
   "cell_type": "markdown",
   "id": "1369d76c",
   "metadata": {},
   "source": [
    "Hieronder staan de eerste twintig zenithoeken. 'nan' (NaN) betekent:\n",
    "Not-a-number: De reconstructie was niet mogelijk. Ofwel er was onvoldoende\n",
    "informatie, bijvoorbeeld slechts twee aankomsttijden. Ofwel de oplossing was\n",
    "niet fysisch:"
   ]
  },
  {
   "cell_type": "code",
   "execution_count": null,
   "id": "9255846e",
   "metadata": {},
   "outputs": [],
   "source": [
    "rec.theta[:20]"
   ]
  },
  {
   "cell_type": "markdown",
   "id": "0987f897",
   "metadata": {},
   "source": [
    "Met behulp van de functie `numpy.isnan()` kunnen we de NaNs verwijderen:\n"
   ]
  },
  {
   "cell_type": "code",
   "execution_count": null,
   "id": "7bff1118",
   "metadata": {},
   "outputs": [],
   "source": [
    "from numpy import isnan\n",
    "zenith = [a for a in rec.theta if not isnan(a)]\n",
    "azimuth = [a for a in rec.phi if not isnan(a)]\n",
    "print(\"Er zijn %d events succesvol gereconstrueerd.\" % len(zenith))            "
   ]
  },
  {
   "cell_type": "markdown",
   "id": "347388dc",
   "metadata": {},
   "source": [
    "Nu bevat de array `zenith` slechts hoeken (in radialen):\n"
   ]
  },
  {
   "cell_type": "code",
   "execution_count": null,
   "id": "269ae0aa",
   "metadata": {},
   "outputs": [],
   "source": [
    "zenith[:5]"
   ]
  },
  {
   "cell_type": "markdown",
   "id": "c7874606",
   "metadata": {},
   "source": [
    "## Plotten\n",
    "\n",
    "We maken een polar-plot van de hoeken theta en phi (zenit, azimut) van de\n",
    "(succesvol) gereconstrueerde events, en een histrogram van de zenithoeken.\n"
   ]
  },
  {
   "cell_type": "code",
   "execution_count": null,
   "id": "0da2c5d7",
   "metadata": {},
   "outputs": [],
   "source": [
    "import matplotlib.pyplot as plt\n",
    "%matplotlib inline"
   ]
  },
  {
   "cell_type": "markdown",
   "id": "a1e436ab",
   "metadata": {},
   "source": [
    "We rekenen de hoeken om naar graden:\n"
   ]
  },
  {
   "cell_type": "code",
   "execution_count": null,
   "id": "2c767e85",
   "metadata": {},
   "outputs": [],
   "source": [
    "from numpy import degrees\n",
    "zenith = degrees(zenith)\n",
    "azimuth = degrees(azimuth)"
   ]
  },
  {
   "cell_type": "markdown",
   "id": "70801b9c",
   "metadata": {},
   "source": [
    "Polar plot van zenit en azimuth:\n"
   ]
  },
  {
   "cell_type": "code",
   "execution_count": null,
   "id": "56740a1c",
   "metadata": {},
   "outputs": [],
   "source": [
    "ax = plt.subplot(polar=True)\n",
    "ax.scatter(zenith, azimuth)"
   ]
  },
  {
   "cell_type": "markdown",
   "id": "0e36eea0",
   "metadata": {},
   "source": [
    "Histogram van de zenithoeken:\n"
   ]
  },
  {
   "cell_type": "code",
   "execution_count": null,
   "id": "d245c978",
   "metadata": {},
   "outputs": [],
   "source": [
    "from numpy import arange\n",
    "plt.hist(zenith, bins=arange(0,90., 5.), histtype='step')\n",
    "plt.xlabel('zenith angle (degrees)')\n",
    "plt.ylabel('counts')\n",
    "plt.title('Zenith histrogram station 501.')"
   ]
  },
  {
   "cell_type": "markdown",
   "id": "426fa043",
   "metadata": {},
   "source": [
    "# Opslaan van reconstructies in het HDF5 bestand\n",
    "\n",
    "De SAPPHiRE reconstructie class `ReconstructESDEvents` kan de reconstructies ook\n",
    "direct opslaan in het HDF5 bestand waar de events in zijn opgeslagen:\n"
   ]
  },
  {
   "cell_type": "code",
   "execution_count": null,
   "id": "71150f72",
   "metadata": {},
   "outputs": [],
   "source": [
    "rec = ReconstructESDEvents(data, '/s501', 501)\n",
    "rec.reconstruct_and_store()"
   ]
  },
  {
   "cell_type": "markdown",
   "id": "bbac947d",
   "metadata": {},
   "source": [
    "Er waren nu twee progressbars te zien: De eerste voor richting reconstructie en\n",
    "de tweede voor core recontructie. We richten ons hier op de richtingen en laten\n",
    "de core reconstructie buiten beschouwing.\n",
    "\n",
    "naast `rec.theta` en `rec.phi` is er nu ook een nieuwe groep\n",
    "`/s501/reconstructions` in het hdf5 bestand:\n"
   ]
  },
  {
   "cell_type": "code",
   "execution_count": null,
   "id": "6a9bef2b",
   "metadata": {},
   "outputs": [],
   "source": [
    "rec_tabel = data.root.s501.reconstructions\n",
    "print(rec_tabel)"
   ]
  },
  {
   "cell_type": "markdown",
   "id": "e6ef51e4",
   "metadata": {},
   "source": [
    "De gereconstrueerde hoeken zijn nu ook opgeslagen op disk, in het HDF5 bestand.\n",
    "\n",
    "De kolommen 'zenith' en 'azimuth' bevatten de gereconstrueerde hoeken (of NaN):\n",
    "\n",
    "## Opgave:\n",
    "\n",
    "Maak een histogram van de zenithoeken en een polarplot van de azimuth en\n",
    "zenithhoeken, zoals in het voorbeeld hierboven. Gebruik de `zenith` en `azimuth`\n",
    "kolommen uit de groep `/s501/reconstructions` uit het HDF5 bestand.\n",
    "\n",
    "*Hints*:\n",
    "- gebruik: `.col('zenith')` om een kolom in te laden.\n",
    "- gebruik  `.compress(~isnan(...))` om te NaNs verwijderen."
   ]
  },
  {
   "cell_type": "code",
   "execution_count": null,
   "id": "e9b7c5f6",
   "metadata": {},
   "outputs": [],
   "source": [
    "zenith = rec_tabel.col('zenith')\n",
    "azimuth = rec_tabel.col('azimuth')"
   ]
  },
  {
   "cell_type": "code",
   "execution_count": null,
   "id": "1e7b7bdb",
   "metadata": {},
   "outputs": [],
   "source": [
    "zenith = zenith.compress(~isnan(zenith))\n",
    "azimuth = azimuth.compress(~isnan(azimuth))\n",
    "print(\"Er zijn %d events succesvol gereconstrueerd.\" % len(zenith))           "
   ]
  },
  {
   "cell_type": "code",
   "execution_count": null,
   "id": "db14fb3c",
   "metadata": {},
   "outputs": [],
   "source": [
    "zenith = degrees(zenith)\n",
    "azimuth = degrees(azimuth)"
   ]
  },
  {
   "cell_type": "code",
   "execution_count": null,
   "id": "e684b53d",
   "metadata": {},
   "outputs": [],
   "source": [
    "ax = plt.subplot(polar=True)\n",
    "ax.scatter(zenith, azimuth)"
   ]
  },
  {
   "cell_type": "code",
   "execution_count": null,
   "id": "7768652b",
   "metadata": {},
   "outputs": [],
   "source": [
    "plt.hist(zenith, bins=arange(0,90., 5.), histtype='step')\n",
    "plt.xlabel('zenith angle (degrees)')\n",
    "plt.ylabel('counts')\n",
    "plt.title('Zenith histrogram station 501.')"
   ]
  }
 ],
 "metadata": {
  "jupytext": {
   "cell_metadata_filter": "-all",
   "main_language": "python",
   "notebook_metadata_filter": "-all"
  }
 },
 "nbformat": 4,
 "nbformat_minor": 5
}
