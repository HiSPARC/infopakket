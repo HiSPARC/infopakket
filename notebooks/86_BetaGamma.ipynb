{
 "cells": [
  {
   "cell_type": "markdown",
   "id": "5933775c",
   "metadata": {},
   "source": [
    "# Interacties van elektronen en fotonen\n",
    "\n",
    "In het elektromagnetisch deel van de\n",
    "deeltjeslawine ontstaan deeltjes onder andere door Compton scattering. Compton\n",
    "scattering beschrijft de verstrooiing van elektronen aan fotonen. In het\n",
    "algemeen is deze verstrooiing te beschrijven met het onderstaande Feynman\n",
    "diagram. \n",
    "\n",
    "<img src=\"Feynman.png\" width=\"22%\"> \n",
    "\n",
    "In het diagram zien we de\n",
    "interactie van een elektron met twee fotonen. Dit moet omdat iedere interactie\n",
    "tussen elektronen en fotonen relatief is ten opzichte van de waarnemer. Het is\n",
    "dus van belang dat we de scattering door verschillende waarnemers kunnen\n",
    "bekijken. Dit gaat met een relativistische transformatie. (Als een elektron in\n",
    "de buurt van een elektrisch geladen kern komt, is de elektrische kracht te\n",
    "beschouwen als een uitwisseling van fotonen.)\n",
    "\n",
    "Eerst halen we de volgende bibliotheken op:"
   ]
  },
  {
   "cell_type": "code",
   "execution_count": null,
   "id": "4ca98047",
   "metadata": {},
   "outputs": [],
   "source": [
    "import numpy as np\n",
    "import matplotlib.pyplot as plt\n",
    "%matplotlib inline"
   ]
  },
  {
   "cell_type": "markdown",
   "id": "6671329b",
   "metadata": {},
   "source": [
    "## Relativiteit\n",
    "\n",
    "In het geval van deeltjeslawines moeten de interacties met\n",
    "behulp van de relativiteitsleer worden bekeken. In dit geval weten we dat\n",
    "$\\beta=v/c$ en de Lorentz variabele $\\gamma=1/\\sqrt{1-\\beta^2}$. De Lorentz\n",
    "variabele $\\gamma$ is dus te schrijven als een functie van $\\beta$.\n",
    "\n",
    "## Deeltje\n",
    "De toestand van een deeltje is vast te leggen met een 'viervector'.\n",
    "Achtereenvolgens worden hier de tijd en de snelheden in drie richtingen of de\n",
    "energie en de impuls (massa maal snelheid) opgeschreven. \n",
    "\n",
    "De energie van deeltjes is te schrijven als $E_e=\\gamma_e{m_ec}^2$, de impuls is\n",
    "$P_e=\\beta_e\\gamma_e{m_ec}=\\beta_e{E_e/c}$. Voor $c$ wordt vaak 1 lichtjaar/jaar\n",
    "gebruikt. Met wat wiskunde valt in dit geval ($c=1$) af te leidden dat:\n",
    "$m^2=E^2-p^2$. We maken een functie die de viervector voor een bewegend deeltje:"
   ]
  },
  {
   "cell_type": "code",
   "execution_count": null,
   "id": "70faa49f",
   "metadata": {},
   "outputs": [],
   "source": [
    "def maakDeeltje(m, p):\n",
    "    \"\"\"\n",
    "    param m: De rustmassa van het deeltje (in eV)\n",
    "    param p: Een vector voor de impuls van het deeltje (in eV) bijvoorbeeld [1e3, 1e2, -1e1]\n",
    "    returns: De viervector [E, p_x, p_y, p_z] van het deeltje.\n",
    "    \"\"\"\n",
    "    p = np.array(p)\n",
    "    E = (m ** 2 + np.sum(p ** 2)) ** .5\n",
    "    return np.array([E, *p])"
   ]
  },
  {
   "cell_type": "markdown",
   "id": "a741b52f",
   "metadata": {},
   "source": [
    "We kunnen nu ook $\\beta$ van dit deeltje bepalen, dit is te schrijven als een\n",
    "vector met een $x$, $y$ en $z$-component:"
   ]
  },
  {
   "cell_type": "code",
   "execution_count": null,
   "id": "46fdae36",
   "metadata": {},
   "outputs": [],
   "source": [
    "def getBeta(deeltje):\n",
    "    \"\"\"\n",
    "    param deeltje: de viervector waarmee het deeltje beschreven wordt.\n",
    "    returns beta: een drie dimensionale vector voor beta van het deeltje.\n",
    "    \"\"\"\n",
    "    return deeltje[1:] / deeltje[0] "
   ]
  },
  {
   "cell_type": "markdown",
   "id": "756280c0",
   "metadata": {},
   "source": [
    "Als we $\\beta$ kennen, is $\\gamma$ te berekenen:"
   ]
  },
  {
   "cell_type": "code",
   "execution_count": null,
   "id": "c71b50d2",
   "metadata": {},
   "outputs": [],
   "source": [
    "def getGamma(beta):\n",
    "    \"\"\"\n",
    "    param beta: a 3d vector defining beta\n",
    "    returns: gamma\n",
    "    \"\"\"\n",
    "    beta = np.array(beta)\n",
    "    gamma = 1 / (np.sqrt(1 - np.sum(beta ** 2)))\n",
    "    return gamma"
   ]
  },
  {
   "cell_type": "code",
   "execution_count": null,
   "id": "b41a95cc",
   "metadata": {},
   "outputs": [],
   "source": [
    "elektron = maakDeeltje(.5e6, [1e6, 0, 0])\n",
    "print('elektron', elektron)"
   ]
  },
  {
   "cell_type": "code",
   "execution_count": null,
   "id": "672b4c8b",
   "metadata": {},
   "outputs": [],
   "source": [
    "beta = getBeta(elektron)\n",
    "print(beta)"
   ]
  },
  {
   "cell_type": "code",
   "execution_count": null,
   "id": "59446dc0",
   "metadata": {},
   "outputs": [],
   "source": [
    "foton = maakDeeltje(0, [-.4e6, 0, 0])\n",
    "print('foton', foton)"
   ]
  },
  {
   "cell_type": "code",
   "execution_count": null,
   "id": "a1d24680",
   "metadata": {},
   "outputs": [],
   "source": [
    "print(getBeta(foton))"
   ]
  },
  {
   "cell_type": "markdown",
   "id": "6468f79b",
   "metadata": {},
   "source": [
    "## Waarnemers\n",
    "\n",
    "We kunnen van waarnemer wisselen met behulp van een matrix.\n",
    "Normaal worden er twee soorten waarnemers gedefinieerd:\n",
    "\n",
    "* De waarnemer die aan het coordinaten systeem van het laboratorium wordt gekoppeld.\n",
    "* De waarnemer die aan het zwaartepunt (center of mass) van de deeltjes wordt gekoppeld.\n",
    "\n",
    "In dit\n",
    "geval zijn er dus twee matrixes, van lab naar center en van center naar lab. We\n",
    "nemen de beta en gamma ($\\beta$ en $\\gamma$) van het zwaartepunt van de botsende\n",
    "deeltjes (met de bijbehorende waarnemer) volgens de waarnemer in het lab frame."
   ]
  },
  {
   "cell_type": "code",
   "execution_count": null,
   "id": "e2fa63c5",
   "metadata": {},
   "outputs": [],
   "source": [
    "beta = getBeta(elektron)\n",
    "gamma = getGamma(beta)\n",
    "print(beta, gamma)"
   ]
  },
  {
   "cell_type": "code",
   "execution_count": null,
   "id": "a9bfb977",
   "metadata": {},
   "outputs": [],
   "source": [
    "def maak_transformatie_matrix(gamma, beta):\n",
    "    \"\"\"\n",
    "    Deeltjes hebben in dit geval alleen een beta (v/c) langs de x-as, \n",
    "    dit is dus geen vector maar een getal: -1<beta<1.\n",
    "    \"\"\"\n",
    "    return np.matrix([[gamma, -beta * gamma, 0, 0],\n",
    "                      [-beta * gamma, gamma, 0, 0],\n",
    "                      [0, 0, 1, 0],\n",
    "                      [0, 0, 0, 1]])"
   ]
  },
  {
   "cell_type": "markdown",
   "id": "5923edaf",
   "metadata": {},
   "source": [
    "De $\\beta$ in dit geval is de $\\beta(=v/c)$ van de ene waarnemer ten opzichte\n",
    "van de andere waarnemer. Volgens de relativiteitsleer geldt natuurlijk:\n",
    "$\\beta_{A,B}=-\\beta_{B,A}$."
   ]
  },
  {
   "cell_type": "code",
   "execution_count": null,
   "id": "228e9eef",
   "metadata": {},
   "outputs": [],
   "source": [
    "beta2center = getBeta(elektron)[0]\n",
    "gamma2center = getGamma(beta2center)\n",
    "Lab2Center = maak_transformatie_matrix(gamma2center, beta2center) \n",
    "Center2Lab = maak_transformatie_matrix(gamma2center, -beta2center)"
   ]
  },
  {
   "cell_type": "markdown",
   "id": "9f076bfc",
   "metadata": {},
   "source": [
    "Heen en weer transformeren levert de eenheidsmatrix op."
   ]
  },
  {
   "cell_type": "code",
   "execution_count": null,
   "id": "f8e2acee",
   "metadata": {},
   "outputs": [],
   "source": [
    "print(Lab2Center * Center2Lab)"
   ]
  },
  {
   "cell_type": "markdown",
   "id": "3723cbbb",
   "metadata": {},
   "source": [
    "We kunnen het elektron nu ook bekijken volgens een waarnemer in het zwaartepunt.\n",
    "Deze beweegt dus met het deeltje mee."
   ]
  },
  {
   "cell_type": "code",
   "execution_count": null,
   "id": "b5516711",
   "metadata": {},
   "outputs": [],
   "source": [
    "print(elektron * Lab2Center)"
   ]
  },
  {
   "cell_type": "markdown",
   "id": "ab7c2753",
   "metadata": {},
   "source": [
    "De impuls langs de $x$-as (het tweede getal) is verwaarloosbaar. De snelheid ten\n",
    "opzichte van deze waarnemer is dus ook 0.\n",
    "\n",
    "Fotonen om ons heen bestaan hoodzakelijk uit zichtbaar licht\n",
    "($E_{foton}\\approx2\\mathrm{eV}$). Deze fotonen kunnen interacties aangaan met\n",
    "(hoogenergetische) elektronen. In dit geval is er sprake van een transformatie\n",
    "van het lab frame naar center of mass frame."
   ]
  },
  {
   "cell_type": "code",
   "execution_count": null,
   "id": "def784e5",
   "metadata": {},
   "outputs": [],
   "source": [
    "print(maakDeeltje(0, [-2, 0, 0]) * Center2Lab)"
   ]
  },
  {
   "cell_type": "markdown",
   "id": "f8d2f437",
   "metadata": {},
   "source": [
    "## Interacties in het zwaartepunt\n",
    "\n",
    "Compton scattering is een bijzonder geval de\n",
    "interactie van een elektron en een foton. In dit geval is de energie van een van\n",
    "de fotonen verwaarloosbaar. De som van de energie en impuls voor en na de\n",
    "interactie moet hetzelfde blijven. \n",
    "\n",
    "Relativistiche interacties van deeltjes\n",
    "worden in eerste instantie beschreven in het massa centrale systeem ($\\Sigma\n",
    "P=0$). We beschouwen fotonen en elektronen die langs de $x$-as bewegen.\n",
    "\n",
    "De energie van de fotonen is $E_f=h\\nu$ ($E=hf$), de impuls is $P_f=h/\\lambda_f=E_f/c$.\n",
    "\n",
    "Het voordeel van dit massa centraal systeem is dat de\n",
    "som van de impulsen hier ook 0kgm/s is. Bijgevolg geldt voor deze waarnemer voor\n",
    "de interactie: $P_{f}=-P_{e}$ en $E_{tot}=E_{f}+E_{e}$. Eerst maken we een\n",
    "foton:"
   ]
  },
  {
   "cell_type": "code",
   "execution_count": null,
   "id": "fc0cc4cf",
   "metadata": {},
   "outputs": [],
   "source": [
    "m_foton = 0\n",
    "p_foton = np.array([2, 0 ,0])\n",
    "foton_voor = maakDeeltje(0, p_foton)"
   ]
  },
  {
   "cell_type": "code",
   "execution_count": null,
   "id": "52f6711d",
   "metadata": {},
   "outputs": [],
   "source": [
    "m_elektron = .5e6 # eV\n",
    "p_elektron = -p_foton\n",
    "elektron_voor = maakDeeltje(m_elektron, p_elektron)"
   ]
  },
  {
   "cell_type": "code",
   "execution_count": null,
   "id": "c2ffc8df",
   "metadata": {},
   "outputs": [],
   "source": [
    "print(p_foton + p_elektron)"
   ]
  },
  {
   "cell_type": "markdown",
   "id": "099471f6",
   "metadata": {},
   "source": [
    "Bij een massacentrale botsing blijft de som van de impulsen 0eV. De richting\n",
    "waarin de deeltjes na de interactie wegschieten is echter niet bekent. De\n",
    "deeltjes kunnen bijvoorbeeld loodrecht op de eerste richting wegschieten:"
   ]
  },
  {
   "cell_type": "code",
   "execution_count": null,
   "id": "c405969e",
   "metadata": {},
   "outputs": [],
   "source": [
    "p_foton = np.array([*p_foton[1:], p_foton[0]]) \n",
    "p_elektron = np.array([*p_elektron[1:], p_elektron[0]])"
   ]
  },
  {
   "cell_type": "code",
   "execution_count": null,
   "id": "d0b66193",
   "metadata": {},
   "outputs": [],
   "source": [
    "foton_na = maakDeeltje(0, p_foton)\n",
    "elektron_na = maakDeeltje(m_elektron, p_elektron)"
   ]
  },
  {
   "cell_type": "code",
   "execution_count": null,
   "id": "a57fe3e7",
   "metadata": {},
   "outputs": [],
   "source": [
    "print('foton voor' ,foton_voor)\n",
    "print('foton na', foton_na)\n",
    "print('elektron voor' ,elektron_voor)\n",
    "print('elektron na', elektron_na)"
   ]
  },
  {
   "cell_type": "markdown",
   "id": "a0bb4785",
   "metadata": {},
   "source": [
    "## Transformatie naar de waarnemer in het lab frame\n",
    "\n",
    "Deze botsing is te\n",
    "verplaatsen van het zwaartepunt frame naar het lab frame. We kiezen dus een\n",
    "nieuwe waarnemer, deze transformatie is met een matrix te beschrijven.\n",
    "\n",
    "We nemen\n",
    "aan dat het deeltje langs de $x$-as beweegt $\\beta=0.9$. Dit wordt ook wel een\n",
    "'(Lorentz-)boost' langs de $x$-as genoemd."
   ]
  },
  {
   "cell_type": "code",
   "execution_count": null,
   "id": "56e6592f",
   "metadata": {},
   "outputs": [],
   "source": [
    "beta = 0.9\n",
    "gamma = getGamma(beta)\n",
    "\n",
    "Center2Lab = np.matrix([[gamma, -beta * gamma, 0, 0],\n",
    "                        [-beta * gamma, gamma, 0, 0],\n",
    "                        [0, 0, 1, 0],\n",
    "                        [0, 0, 0, 1]])"
   ]
  },
  {
   "cell_type": "code",
   "execution_count": null,
   "id": "5af7b049",
   "metadata": {},
   "outputs": [],
   "source": [
    "foton_voor = foton_voor * Center2Lab\n",
    "foton_na = foton_na * Center2Lab\n",
    "elektron_voor = elektron_voor * Center2Lab\n",
    "elektron_na = elektron_na * Center2Lab"
   ]
  },
  {
   "cell_type": "code",
   "execution_count": null,
   "id": "df9264ae",
   "metadata": {},
   "outputs": [],
   "source": [
    "print('foton voor' ,foton_voor)\n",
    "print('foton na', foton_na)\n",
    "print('elektron voor' ,elektron_voor)\n",
    "print('elektron na', elektron_na)"
   ]
  },
  {
   "cell_type": "markdown",
   "id": "2f69e794",
   "metadata": {},
   "source": [
    "Bij bestudering blijkt dat er een laagenergetisch foton op een hoogenergetisch\n",
    "elektron botst. Een klein deel van de energie van het elektron wordt\n",
    "overgedragen in een 'afgestraald' foton. In dit geval is de energie van het\n",
    "foton te klein voor paarvorming (er onstaat dan een elektron positron paar). Dit\n",
    "soort interacties komt daarom ook voor in de staart van een kosmische\n",
    "deeltjeslawine.\n",
    "\n",
    "## Van bijzonder naar algemeen\n",
    "\n",
    "Hiervoor is het bijzondere geval besproken van\n",
    "twee deeltjes die loodrecht op de inkomende deeltjes wegvliegen. In de praktijk\n",
    "weten we niet naar welke kant de deeltjes wegvliegen. We maken eerst deeltjes\n",
    "die met elkaar interacteren:"
   ]
  },
  {
   "cell_type": "code",
   "execution_count": null,
   "id": "7566b613",
   "metadata": {},
   "outputs": [],
   "source": [
    "p_foton = np.array([2, 0 ,0])\n",
    "foton_voor = maakDeeltje(0, p_foton)\n",
    "p_elektron = -p_foton\n",
    "elektron_voor = maakDeeltje(m_elektron, p_elektron)"
   ]
  },
  {
   "cell_type": "markdown",
   "id": "51fde9ba",
   "metadata": {},
   "source": [
    "Hiervoor is het bijzondere geval besproken van twee deeltjes die loodrecht op de\n",
    "inkomende deeltjes wegvliegen. In de praktijk weten we niet naar welke kant de\n",
    "deeltjes wegvliegen. In het massa centrale systeem moeten de deeltjes echter wel\n",
    "in tegengestelde richting wegvliegen. We nemen aan dat de hoek tussen aankomende\n",
    "en wegvliegende deeltjes $\\theta$ is. We maken eerst een array met mogelijke\n",
    "hoeken:"
   ]
  },
  {
   "cell_type": "code",
   "execution_count": null,
   "id": "4b9687e0",
   "metadata": {},
   "outputs": [],
   "source": [
    "thetas = np.arange(0, np.pi, np.pi / 36) + np.pi / 72"
   ]
  },
  {
   "cell_type": "markdown",
   "id": "2510f7e1",
   "metadata": {},
   "source": [
    "We gaan uit hetzelfde elektron en foton voor de botsing. Mogelijke elektron-\n",
    "foton paren na de botsing zijn als functie van $\\theta$ te schrijven:"
   ]
  },
  {
   "cell_type": "code",
   "execution_count": null,
   "id": "77ff262e",
   "metadata": {},
   "outputs": [],
   "source": [
    "fotons_na = []\n",
    "elektrons_na = []\n",
    "for theta in thetas:\n",
    "    p_foton = np.array([np.sin(theta), np.cos(theta), 0])\n",
    "    p_elektron = -p_foton\n",
    "    fotons_na.append(maakDeeltje(0, p_foton))\n",
    "    elektrons_na.append(maakDeeltje(m_elektron, p_elektron))"
   ]
  },
  {
   "cell_type": "markdown",
   "id": "91d62ef4",
   "metadata": {},
   "source": [
    "De $x$-component van de impuls van het foton is voor de hoeken $\\theta$ uit de\n",
    "array te halen:"
   ]
  },
  {
   "cell_type": "code",
   "execution_count": null,
   "id": "5cee12c4",
   "metadata": {},
   "outputs": [],
   "source": [
    "print(np.array(fotons_na)[:,1])"
   ]
  },
  {
   "cell_type": "markdown",
   "id": "e9c7ce79",
   "metadata": {},
   "source": [
    "Nu is bijvoorbeeld ook de impuls van de $x$-richting tegen de $y$-richting van\n",
    "het foton uit te zetten:"
   ]
  },
  {
   "cell_type": "code",
   "execution_count": null,
   "id": "3ebae09a",
   "metadata": {},
   "outputs": [],
   "source": [
    "plt.plot(np.array(fotons_na)[:,1],np.array(fotons_na)[:,2])"
   ]
  },
  {
   "cell_type": "code",
   "execution_count": null,
   "id": "0810ce31",
   "metadata": {},
   "outputs": [],
   "source": [
    "np.array(fotons_na)[:,1]"
   ]
  },
  {
   "cell_type": "markdown",
   "id": "0311ca6d",
   "metadata": {},
   "source": [
    "We wisselen van waarnemer:"
   ]
  },
  {
   "cell_type": "code",
   "execution_count": null,
   "id": "d25b9c78",
   "metadata": {},
   "outputs": [],
   "source": [
    "fotons_na = fotons_na * Center2Lab\n",
    "elektron_na = elektrons_na * Center2Lab"
   ]
  },
  {
   "cell_type": "markdown",
   "id": "de4941d3",
   "metadata": {},
   "source": [
    "We kunnen nu een array opvragen van de energie van het foton voor de\n",
    "verschillende hoeken $\\theta$:"
   ]
  },
  {
   "cell_type": "code",
   "execution_count": null,
   "id": "b553a947",
   "metadata": {},
   "outputs": [],
   "source": [
    "np.array(fotons_na)[:,0]"
   ]
  },
  {
   "cell_type": "markdown",
   "id": "7a4e6553",
   "metadata": {},
   "source": [
    "De energie van elektronen en fotonen na de interactie is nu als functie van\n",
    "$\\theta$ te plotten."
   ]
  },
  {
   "cell_type": "code",
   "execution_count": null,
   "id": "23b51f8c",
   "metadata": {},
   "outputs": [],
   "source": [
    "plt.plot(np.degrees(thetas), np.array(fotons_na)[:,0], label ='foton')\n",
    "plt.plot(np.degrees(thetas), np.array(elektrons_na)[:,0], label='elektron')\n",
    "plt.xlabel(r'$\\theta$ [degrees]')\n",
    "plt.ylabel('log($E$)')\n",
    "plt.legend()\n",
    "plt.yscale('log')"
   ]
  }
 ],
 "metadata": {
  "jupytext": {
   "cell_metadata_filter": "-all",
   "main_language": "python",
   "notebook_metadata_filter": "-all"
  }
 },
 "nbformat": 4,
 "nbformat_minor": 5
}
