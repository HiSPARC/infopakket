{
 "cells": [
  {
   "cell_type": "markdown",
   "id": "9bcc64e2",
   "metadata": {},
   "source": [
    "# Recept station map"
   ]
  },
  {
   "cell_type": "markdown",
   "id": "6b06b530",
   "metadata": {},
   "source": [
    "Deze notebooks werken alleen met Python 3.\n",
    "\n",
    "Plot station (en detector) LLA coordinaten op OpenStreetMap tiles."
   ]
  },
  {
   "cell_type": "code",
   "execution_count": null,
   "id": "6e3a6457",
   "metadata": {},
   "outputs": [],
   "source": [
    "from sapphire import HiSPARCStations\n",
    "import matplotlib.pyplot as plt\n",
    "%matplotlib inline"
   ]
  },
  {
   "cell_type": "markdown",
   "id": "2d51d397",
   "metadata": {},
   "source": [
    "Deze worksheet gebruikt `smopy` om OpenStreetMap tiles te downloaden en plotten.\n",
    "\n",
    "`smopy` kan geinstalleerd worden met: `pip install smopy` (vanuit een shell of command prompt)."
   ]
  },
  {
   "cell_type": "code",
   "execution_count": null,
   "id": "f9735016",
   "metadata": {},
   "outputs": [],
   "source": [
    "import smopy"
   ]
  },
  {
   "cell_type": "markdown",
   "id": "8b73d035",
   "metadata": {},
   "source": [
    "Als deze import een fout oplevert, lees dan hierboven nogmaals!"
   ]
  },
  {
   "cell_type": "code",
   "execution_count": null,
   "id": "8f43622c",
   "metadata": {},
   "outputs": [],
   "source": [
    "def get_latlontext(cluster):\n",
    "    \"\"\"Create list of latitude, longitudes, and legend text for a cluster\n",
    "\n",
    "    Make a list of locations for each of station and its detectors, for the\n",
    "    stations the number is included.\n",
    "\n",
    "    :param cluster: HiSPARCStations object.\n",
    "\n",
    "    \"\"\"\n",
    "    latlon = []\n",
    "    for station in cluster.stations:\n",
    "        latitude, longitude, _ = station.get_lla_coordinates()\n",
    "        latlon.append((latitude, longitude, station.number))\n",
    "        for detector in station.detectors:\n",
    "            latitude, longitude, _ = detector.get_lla_coordinates()\n",
    "            latlon.append((latitude, longitude, None))\n",
    "    return latlon"
   ]
  },
  {
   "cell_type": "markdown",
   "id": "cabb64b9",
   "metadata": {},
   "source": [
    "Bovenstaande functie maakt van een `HiSPARCStations` cluster object een lijst\n",
    "met lla coordinaten.\n",
    "\n",
    "Test:"
   ]
  },
  {
   "cell_type": "code",
   "execution_count": null,
   "id": "301cc894",
   "metadata": {},
   "outputs": [],
   "source": [
    "print(get_latlontext(HiSPARCStations([102], force_stale=True)))"
   ]
  },
  {
   "cell_type": "code",
   "execution_count": null,
   "id": "f07e9046",
   "metadata": {},
   "outputs": [],
   "source": [
    "def plot_cluster_OSM(stations, plot_detectors=False, force_stale=True):\n",
    "    \"\"\"Plot cluster (station and detectors) on top of OSM tiles\n",
    "\n",
    "    :param cluster: (list of) station number(s).\n",
    "    :param plot_detectors: plot detectors if True.\n",
    "    :param force_stale: if True do not get lla info from api, but use local data.\n",
    "\n",
    "    \"\"\"\n",
    "    if isinstance(stations, int):\n",
    "        stations = [stations]\n",
    "\n",
    "    cluster = HiSPARCStations(stations, force_stale=force_stale)\n",
    "\n",
    "    latlon = get_latlontext(cluster)\n",
    "    lat = [ll[0] for ll in latlon]\n",
    "    lon = [ll[1] for ll in latlon]\n",
    "\n",
    "    map = smopy.Map((min(lat), min(lon)), (max(lat), max(lon)), margin=0.01)\n",
    "    ax = map.show_mpl(figsize=(10, 10), dpi=200)\n",
    "    for px, py, label in latlon:\n",
    "        x, y = map.to_pixels(px, py)\n",
    "        if label is not None:\n",
    "            ax.plot(x, y, 'or', ms=10, mew=2)\n",
    "            ax.text(x, y, '  '  + str(label))\n",
    "        elif plot_detectors:  # detector\n",
    "            ax.plot(x, y, 'xb', ms=10)"
   ]
  },
  {
   "cell_type": "code",
   "execution_count": null,
   "id": "368a577a",
   "metadata": {},
   "outputs": [],
   "source": [
    "plot_cluster_OSM((102, 104, 105), plot_detectors=True)"
   ]
  },
  {
   "cell_type": "code",
   "execution_count": null,
   "id": "c307f218",
   "metadata": {},
   "outputs": [],
   "source": [
    "plot_cluster_OSM(range(501, 512))"
   ]
  },
  {
   "cell_type": "code",
   "execution_count": null,
   "id": "7f6e308a",
   "metadata": {},
   "outputs": [],
   "source": [
    "plot_cluster_OSM((501, 508, 510), plot_detectors=True)"
   ]
  }
 ],
 "metadata": {
  "jupytext": {
   "cell_metadata_filter": "-all",
   "main_language": "python",
   "notebook_metadata_filter": "-all"
  }
 },
 "nbformat": 4,
 "nbformat_minor": 5
}
