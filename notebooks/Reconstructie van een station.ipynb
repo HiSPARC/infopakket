{
 "cells": [
  {
   "cell_type": "markdown",
   "metadata": {},
   "source": [
    "# Richtingsreconstructie van een station\n",
    "\n",
    "Richtingsrecontructie op basis van aankomsttijden van deeltjes is mogelijk als er 3 tijden zijn gemeten. In het geval van iSPAHRC meetstations, is dat mogelijk bij stations met 4 detectoren."
   ]
  },
  {
   "cell_type": "code",
   "execution_count": null,
   "metadata": {
    "collapsed": true
   },
   "outputs": [],
   "source": [
    "import tables\n",
    "from sapphire import download_data\n",
    "from datetime import datetime"
   ]
  },
  {
   "cell_type": "code",
   "execution_count": null,
   "metadata": {
    "collapsed": false
   },
   "outputs": [],
   "source": [
    "FILENAME = 's501.h5'\n",
    "data = tables.open_file(FILENAME, 'a')"
   ]
  },
  {
   "cell_type": "markdown",
   "metadata": {},
   "source": [
    "We downloaden data van het \"vier-plaat\" station 501; Een station met vier detectoren:"
   ]
  },
  {
   "cell_type": "code",
   "execution_count": null,
   "metadata": {
    "collapsed": false
   },
   "outputs": [],
   "source": [
    "if '/s501' not in data:\n",
    "    download_data(data, '/s501', 501, start=datetime(2016, 1, 1), end=datetime(2016,1,2))"
   ]
  },
  {
   "cell_type": "code",
   "execution_count": null,
   "metadata": {
    "collapsed": false
   },
   "outputs": [],
   "source": [
    "print data"
   ]
  },
  {
   "cell_type": "markdown",
   "metadata": {},
   "source": [
    "We gebruiken de SAPPHiRE class `ReconstructESDEvents`:"
   ]
  },
  {
   "cell_type": "code",
   "execution_count": null,
   "metadata": {
    "collapsed": false
   },
   "outputs": [],
   "source": [
    "from sapphire import ReconstructESDEvents\n",
    "rec = ReconstructESDEvents(data, '/s501', 501)\n"
   ]
  },
  {
   "cell_type": "markdown",
   "metadata": {},
   "source": [
    "De function `reconstruct_directions()` reconstrueert de richtingen (hoeken) van elk event uit de aankomsttijden per detector en slaat de uitkomst op in:\n",
    "- `rec.theta`: een array met de zenith hoek per event\n",
    "- `rec.phi`: een array met de azimuth hoek per event\n",
    "\n",
    "De hoeken kunnen ook meteen opgeslagen worden in het HDF5 bestand. Dit wordt in de volgende paragraaf toegelicht.\n",
    "\n",
    "Eerst reconstrueren richting van de events:"
   ]
  },
  {
   "cell_type": "code",
   "execution_count": null,
   "metadata": {
    "collapsed": true
   },
   "outputs": [],
   "source": [
    "rec.reconstruct_directions()"
   ]
  },
  {
   "cell_type": "markdown",
   "metadata": {},
   "source": [
    "Hieronder staan de eerste twintig zenithoeken. 'nan' (NaN) betekent: Not-a-number: De reconstructie was niet mogelijk. Ofwel er was onvoldoende informatie, bijvoorbeeld slechts twee aankomsttijden. Ofwel de oplossing was niet fysisch:"
   ]
  },
  {
   "cell_type": "code",
   "execution_count": null,
   "metadata": {
    "collapsed": false
   },
   "outputs": [],
   "source": [
    "rec.theta[:20]"
   ]
  },
  {
   "cell_type": "markdown",
   "metadata": {},
   "source": [
    "Met behulp van de functie `numpy.isnan()` kunnen we de NaNs verwijderen:"
   ]
  },
  {
   "cell_type": "code",
   "execution_count": null,
   "metadata": {
    "collapsed": false
   },
   "outputs": [],
   "source": [
    "from numpy import isnan\n",
    "zenith = [a for a in rec.theta if not isnan(a)]\n",
    "azimuth = [a for a in rec.phi if not isnan(a)]\n",
    "print \"Er zijn %d events succesvol gereconstrueerd.\" % len(zenith)            "
   ]
  },
  {
   "cell_type": "markdown",
   "metadata": {},
   "source": [
    "Nu bevat de array `zenith` slechts hoeken (in radialen):"
   ]
  },
  {
   "cell_type": "code",
   "execution_count": null,
   "metadata": {
    "collapsed": false
   },
   "outputs": [],
   "source": [
    "zenith[:5]"
   ]
  },
  {
   "cell_type": "markdown",
   "metadata": {},
   "source": [
    "## Plotten\n",
    "\n",
    "We maken een polar-plot van de hoeken theta en phi (zenit, azimut) van de (succesvol) gereconstrueerde events, en een histrogram van de zenithoeken."
   ]
  },
  {
   "cell_type": "code",
   "execution_count": null,
   "metadata": {
    "collapsed": false
   },
   "outputs": [],
   "source": [
    "import matplotlib.pyplot as plt\n",
    "%matplotlib inline"
   ]
  },
  {
   "cell_type": "markdown",
   "metadata": {},
   "source": [
    "We rekenen de hoeken om naar graden:"
   ]
  },
  {
   "cell_type": "code",
   "execution_count": null,
   "metadata": {
    "collapsed": true
   },
   "outputs": [],
   "source": [
    "from numpy import degrees\n",
    "zenith = degrees(zenith)\n",
    "azimuth = degrees(azimuth)"
   ]
  },
  {
   "cell_type": "markdown",
   "metadata": {},
   "source": [
    "Polar plot van zenit en azimuth:"
   ]
  },
  {
   "cell_type": "code",
   "execution_count": null,
   "metadata": {
    "collapsed": false
   },
   "outputs": [],
   "source": [
    "ax = plt.subplot(polar=True)\n",
    "ax.scatter(zenith, azimuth)"
   ]
  },
  {
   "cell_type": "markdown",
   "metadata": {},
   "source": [
    "Histogram van de zenithoeken:"
   ]
  },
  {
   "cell_type": "code",
   "execution_count": null,
   "metadata": {
    "collapsed": false
   },
   "outputs": [],
   "source": [
    "from numpy import arange\n",
    "plt.hist(zenith, bins=arange(0,90., 5.), histtype='step')\n",
    "plt.xlabel('zenith angle (degrees)')\n",
    "plt.ylabel('counts')\n",
    "plt.title('Zenith histrogram station 501.')"
   ]
  },
  {
   "cell_type": "markdown",
   "metadata": {},
   "source": [
    "# Opslaan van reconstructies in het HDF5 bestand \n",
    "\n",
    "De SAPPHiRE reconstructie class `ReconstructESDEvents` kan de reconstructies ook direct opslaan in het HDF5 bestand waar de events in zijn opgeslagen:"
   ]
  },
  {
   "cell_type": "code",
   "execution_count": null,
   "metadata": {
    "collapsed": false
   },
   "outputs": [],
   "source": [
    "rec = ReconstructESDEvents(data, '/s501', 501)\n",
    "rec.reconstruct_and_store()"
   ]
  },
  {
   "cell_type": "markdown",
   "metadata": {},
   "source": [
    "Er waren nu twee progressbars te zien: De eerste voor richting reconstructie en de tweede voor core recontructie. We richten ons hier op de richtingen en laten de core reconstructie buiten beschouwing.\n",
    "\n",
    "naast `rec.theta` en `rec.phi` is er nu ook een nieuwe groep `/s501/reconstructions` in het hdf5 bestand: "
   ]
  },
  {
   "cell_type": "code",
   "execution_count": null,
   "metadata": {
    "collapsed": false
   },
   "outputs": [],
   "source": [
    "rec_tabel = data.root.s501.reconstructions\n",
    "print rec_tabel"
   ]
  },
  {
   "cell_type": "markdown",
   "metadata": {},
   "source": [
    "De gereconstrueerde hoeken zijn nu ook opgeslagen op disk, in het HDF5 bestand.\n",
    "\n",
    "De kolommen 'zenith' en 'azimuth' bevatten de gereconstrueerde hoeken (of NaN):"
   ]
  },
  {
   "cell_type": "markdown",
   "metadata": {},
   "source": [
    "# Opgave\n",
    "\n",
    "Maak een histogram van de zenithoeken en een polarplot van de azimuth en zenithhoeken, zoals in het voorbeeld hierboven. Gebruik de `zenith` en `azimuth` kolommen uit de groep `/s501/reconstructions` uit het HDF5 bestand.\n",
    "\n",
    "*Hints*: \n",
    "- gebruik: `.col('zenith')` om een kolom in te laden.\n",
    "- gebruik  `.compress(~isnan(...))` om te NaNs verwijderen."
   ]
  },
  {
   "cell_type": "code",
   "execution_count": null,
   "metadata": {
    "collapsed": true
   },
   "outputs": [],
   "source": [
    "zenith = rec_tabel.col('zenith')\n",
    "azimuth = rec_tabel.col('azimuth')"
   ]
  },
  {
   "cell_type": "code",
   "execution_count": null,
   "metadata": {
    "collapsed": false
   },
   "outputs": [],
   "source": [
    "zenith = zenith.compress(~isnan(zenith))\n",
    "azimuth = azimuth.compress(~isnan(azimuth))\n",
    "print \"Er zijn %d events succesvol gereconstrueerd.\" % len(zenith)            "
   ]
  },
  {
   "cell_type": "code",
   "execution_count": null,
   "metadata": {
    "collapsed": true
   },
   "outputs": [],
   "source": [
    "zenith =degrees(zenith)\n",
    "azimuth = degrees(azimuth)"
   ]
  },
  {
   "cell_type": "code",
   "execution_count": null,
   "metadata": {
    "collapsed": false
   },
   "outputs": [],
   "source": [
    "ax = plt.subplot(polar=True)\n",
    "ax.scatter(zenith, azimuth)"
   ]
  },
  {
   "cell_type": "code",
   "execution_count": null,
   "metadata": {
    "collapsed": false
   },
   "outputs": [],
   "source": [
    "plt.hist(zenith, bins=arange(0,90., 5.), histtype='step')\n",
    "plt.xlabel('zenith angle (degrees)')\n",
    "plt.ylabel('counts')\n",
    "plt.title('Zenith histrogram station 501.')"
   ]
  },
  {
   "cell_type": "markdown",
   "metadata": {},
   "source": [
    "# Discrete oplossingen.\n",
    "\n",
    "Selecteer events met 3 detectoren/tijden.\n",
    "Dat zou discrete oplossingen moeten opleveren\n",
    "\n",
    "Maar dat is niet zo!?!?!?!"
   ]
  },
  {
   "cell_type": "code",
   "execution_count": null,
   "metadata": {
    "collapsed": false
   },
   "outputs": [],
   "source": [
    "if '/bigdata' not in data:\n",
    "    download_data(data, '/bigdata', 501, start=datetime(2016, 1, 1), end=datetime(2016, 1, 10))"
   ]
  },
  {
   "cell_type": "code",
   "execution_count": null,
   "metadata": {
    "collapsed": false
   },
   "outputs": [],
   "source": [
    "def filter_3_detectors(event):\n",
    "    t = [event['t1'], event['t2'], event['t3'], event['t4']]\n",
    "    t = [x for x in t if x >= 0.]\n",
    "    if len(t) == 3:\n",
    "        return True\n",
    "    else:\n",
    "        return False"
   ]
  },
  {
   "cell_type": "code",
   "execution_count": null,
   "metadata": {
    "collapsed": true
   },
   "outputs": [],
   "source": [
    "events = data.root.bigdata.events.read()"
   ]
  },
  {
   "cell_type": "code",
   "execution_count": null,
   "metadata": {
    "collapsed": false
   },
   "outputs": [],
   "source": [
    "from sapphire.utils import pbar\n",
    "filter = [filter_3_detectors(event) for event in pbar(events)]\n",
    "events = events.compress(filter)"
   ]
  },
  {
   "cell_type": "code",
   "execution_count": null,
   "metadata": {
    "collapsed": false
   },
   "outputs": [],
   "source": [
    "t1 = events['t1']\n",
    "t2 = events['t2']\n",
    "t3 = events['t3']\n",
    "t4 = events['t4']"
   ]
  },
  {
   "cell_type": "code",
   "execution_count": null,
   "metadata": {
    "collapsed": false
   },
   "outputs": [],
   "source": [
    "def check_2_5ns(event):\n",
    "    \"\"\"assert arrival times are multiples of 2.5 ns\"\"\"\n",
    "    t = [event['t1'], event['t2'], event['t3'], event['t4']]\n",
    "    t = [x for x in t if x >= 0.]\n",
    "    \n",
    "    for time in t:\n",
    "        assert not time % 2.5\n",
    "    diff = t[0] - t[1] - t[2]\n",
    "    assert not diff % 2.5\n",
    "        \n",
    "for event in events[:50]:\n",
    "    check_2_5ns(event)"
   ]
  },
  {
   "cell_type": "code",
   "execution_count": null,
   "metadata": {
    "collapsed": false
   },
   "outputs": [],
   "source": [
    "from sapphire import HiSPARCStations\n",
    "s501 = HiSPARCStations([501]).get_station(501)\n",
    "from sapphire.analysis.direction_reconstruction import EventDirectionReconstruction\n",
    "eventrec = EventDirectionReconstruction(s501)"
   ]
  },
  {
   "cell_type": "code",
   "execution_count": null,
   "metadata": {
    "collapsed": false,
    "scrolled": true
   },
   "outputs": [],
   "source": [
    "#from sapphire.analysis.direction_reconstruction import DirectAlgorithm\n",
    "#eventrec.direct = DirectAlgorithm\n",
    "#eventrec.fit = None\n",
    "theta, phi, _ = eventrec.reconstruct_events(events, offsets=[0., 0., 0., 0.])"
   ]
  },
  {
   "cell_type": "code",
   "execution_count": null,
   "metadata": {
    "collapsed": true
   },
   "outputs": [],
   "source": [
    "zenith = [a for a in theta if not isnan(a)]\n",
    "azimuth = [a for a in phi if not isnan(a)]\n",
    "zenith = degrees(zenith)\n",
    "azimuth = degrees(azimuth)"
   ]
  },
  {
   "cell_type": "code",
   "execution_count": null,
   "metadata": {
    "collapsed": false
   },
   "outputs": [],
   "source": [
    "ax = plt.subplot(polar=True)\n",
    "ax.scatter(zenith, azimuth)"
   ]
  }
 ],
 "metadata": {
  "kernelspec": {
   "display_name": "Python 2",
   "language": "python",
   "name": "python2"
  },
  "language_info": {
   "codemirror_mode": {
    "name": "ipython",
    "version": 2
   },
   "file_extension": ".py",
   "mimetype": "text/x-python",
   "name": "python",
   "nbconvert_exporter": "python",
   "pygments_lexer": "ipython2",
   "version": "2.7.11"
  }
 },
 "nbformat": 4,
 "nbformat_minor": 0
}
