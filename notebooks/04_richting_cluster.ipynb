{
 "cells": [
  {
   "cell_type": "markdown",
   "id": "89ed4364",
   "metadata": {},
   "source": [
    "# 4 Richtingreconstructie met een cluster\n",
    "\n",
    "Deze notebooks werken alleen met Python 3.\n",
    "\n",
    "Richtingreconstructie is nauwkeuriger als er een aantal stations dicht bij\n",
    "elkaar liggen. Deze stations zijn (een onderdeel van) een cluster. Als meerdere\n",
    "stations een event meten, wordt dit een coincidentie genoemd.\n",
    "\n",
    "Eerst worden enkele modules geimporteerd:\n",
    "* tables: deze module bevat methoden om met tabellen te werken.\n",
    "* datetime: deze module geeft een standaard format voor datum en tijd.\n",
    "* matplotlib: een module waarmee plotjes gemaakt kunnen worden.\n",
    "* sapphire: de HiSPARC module waarmee gegevens van meetstations op te halen\n",
    "zijn."
   ]
  },
  {
   "cell_type": "code",
   "execution_count": null,
   "id": "f63ad13d",
   "metadata": {},
   "outputs": [],
   "source": [
    "import tables\n",
    "from datetime import datetime\n",
    "import numpy as np\n",
    "import matplotlib.pyplot as plt\n",
    "%matplotlib inline\n",
    "from sapphire import download_coincidences, ReconstructESDCoincidences"
   ]
  },
  {
   "cell_type": "markdown",
   "id": "9e6d9d2a",
   "metadata": {},
   "source": [
    "Voordat we op zoek kunnen naar coincidenties, moeten we de meetgegevens ophalen.\n",
    "HiSPARC gegevens moeten in een tabel worden geplaatst. Met de 'with' opdracht\n",
    "wordt hieronder een .h5 bestand voor de tabel op een usb-stick, harde schijf\n",
    "o.i.d. aangemaakt. Deze wordt daarna met gegevens gevuld. Tot slot wordt het\n",
    "bestand afgesloten."
   ]
  },
  {
   "cell_type": "code",
   "execution_count": null,
   "id": "6b99d028",
   "metadata": {},
   "outputs": [],
   "source": [
    "with tables.open_file('data_coincidences.h5', 'w') as data:\n",
    "    download_coincidences(\n",
    "        data,\n",
    "        stations=[501, 502, 508],\n",
    "        start=datetime(2015, 12, 1),\n",
    "        end=datetime(2016, 1, 31),\n",
    "        n=3,\n",
    "    )"
   ]
  },
  {
   "cell_type": "markdown",
   "id": "bd107a0e",
   "metadata": {},
   "source": [
    "Als de meetgegevens opgeslagen zijn, kunnen we deze bewerken. De bewerkte\n",
    "gegevens worden in een variabele `rec` opgeslagen."
   ]
  },
  {
   "cell_type": "code",
   "execution_count": null,
   "id": "16a1d491",
   "metadata": {},
   "outputs": [],
   "source": [
    "with tables.open_file('data_coincidences.h5', 'a') as data:\n",
    "    rec = ReconstructESDCoincidences(data, overwrite=True, progress=True)\n",
    "    rec.reconstruct_and_store()"
   ]
  },
  {
   "cell_type": "markdown",
   "id": "dbcb2118",
   "metadata": {},
   "source": [
    "De richtingreconstructie levert `rec.theta ` en `rec.phi` lijsten met\n",
    "respectievelijk alle gereconstrueerde\n",
    "zenit- en azimuthoeken. Deze hoeken zijn `NaN` (Not A Number) als de richting\n",
    "niet gereconstrueerd kon worden.\n",
    "\n",
    "Met behulp van de functie `np.isnan()` kunnen we de NaNs verwijderen:"
   ]
  },
  {
   "cell_type": "code",
   "execution_count": null,
   "id": "914ed925",
   "metadata": {},
   "outputs": [],
   "source": [
    "zenit = [a for a in rec.theta if not np.isnan(a)]\n",
    "azimut = [a for a in rec.phi if not np.isnan(a)]\n",
    "print(\"Er zijn %d events succesvol gereconstrueerd.\" % len(zenit))            "
   ]
  },
  {
   "cell_type": "markdown",
   "id": "cf4704d6",
   "metadata": {},
   "source": [
    "Deze gegevens zijn in een met matplotlib in een polar plot af te beelden.\n",
    "Bovenaan is aangegeven hoe matplotlib wordt geimporteerd. Alle gereconstrueerde\n",
    "coordinaten bestaande uit een azimuth- (phi) en zenith-hoek (theta) worden in\n",
    "een plot afgebeeld."
   ]
  },
  {
   "cell_type": "code",
   "execution_count": null,
   "id": "b507d2e1",
   "metadata": {},
   "outputs": [],
   "source": [
    "plt.figure(1)\n",
    "ax = plt.subplot(111, polar=True)\n",
    "plt.scatter(azimut, zenit)\n",
    "plt.show()"
   ]
  },
  {
   "cell_type": "markdown",
   "id": "a1e71d87",
   "metadata": {},
   "source": [
    "Er is ook een verdeling van het aantal events als functie van de zenith-hoek te\n",
    "maken. De waarden worden verdeeld over van te voren vastgestelde intervallen.\n",
    "Deze intervallen worden bins genoemd. in de eerste regel worden de bins tussen 0\n",
    "en pi/2 gedefinieerd (0 tot 90 graden), de breedte is 0.5 graad."
   ]
  },
  {
   "cell_type": "code",
   "execution_count": null,
   "id": "09c31f16",
   "metadata": {},
   "outputs": [],
   "source": [
    "bins = np.arange(0, np.pi/2., np.pi/180.)\n",
    "plt.figure(2)\n",
    "plt.hist(zenit, bins, histtype='step')\n",
    "plt.show()"
   ]
  },
  {
   "cell_type": "markdown",
   "id": "3d7a1189",
   "metadata": {},
   "source": [
    "De code is op te slaan met \"`%save this 1-7`\". Voor \"`this`\" kan iedere naam\n",
    "worden ingevuld, \"`1-7`\" geeft aan welke cellen worden opgeslagen. Het bestand\n",
    "\"`this.py`\" wordt opgeslagen."
   ]
  },
  {
   "cell_type": "code",
   "execution_count": null,
   "id": "175e94fb",
   "metadata": {},
   "outputs": [],
   "source": [
    "%save this 1-7"
   ]
  },
  {
   "cell_type": "markdown",
   "id": "ae3dc1e4",
   "metadata": {},
   "source": [
    "Met \"`%run this.py`\" wordt het opgeslagen bestand uitgevoerd."
   ]
  },
  {
   "cell_type": "code",
   "execution_count": null,
   "id": "f2bd5b98",
   "metadata": {},
   "outputs": [],
   "source": [
    "#%run this.py"
   ]
  }
 ],
 "metadata": {
  "jupytext": {
   "cell_metadata_filter": "-all",
   "main_language": "python",
   "notebook_metadata_filter": "-all"
  }
 },
 "nbformat": 4,
 "nbformat_minor": 5
}
