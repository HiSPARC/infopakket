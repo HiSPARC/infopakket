{
 "cells": [
  {
   "cell_type": "markdown",
   "metadata": {},
   "source": [
    "# 3 Zenith-afhankelijkheid van een station.\n",
    "\n",
    "Dit notebook sluit aan op het notebook 'HiSPARC_API'. Er wordt zowel informatie van het station als van de metingen verwerkt.\n",
    "\n",
    "Een HiSPARC-station meet deeltjes in een deeltjeslawine die wordt veroorzaakt door een primair kosmisch deeltje. De deeltjes in de lawine bewegen globaal met de lichtsnelheid. De interactie van het primaire deeltje vindt plaats op een hoogte van tientallen kilometers. De doorsnede van de deeltjeslawine is slechts enkele hectometers. We kunnen we er dus van uitgaan dat deeltjes globaal in een vlak loodrecht op de snelheid van het primaire deeltje bewegen."
   ]
  },
  {
   "cell_type": "code",
   "execution_count": null,
   "metadata": {
    "collapsed": false
   },
   "outputs": [],
   "source": [
    "import numpy as np\n",
    "import sapphire\n",
    "from sapphire import Station\n",
    "detectors = Station(501).detectors()\n",
    "for detector in detectors:\n",
    "    print detector"
   ]
  },
  {
   "cell_type": "markdown",
   "metadata": {},
   "source": [
    "De eigenschappen van een station zijn gedefinieerd met:\n",
    "\n",
    "- 'mpv' : Most Probable Value. De spanning waarbij de grafiek van het aantal pulsen als functie van de spanning horizontaal is. Zie bijvoorbeeld: [http://data.hisparc.nl/show/stations/3401/2015/11/23/](http://data.hisparc.nl/show/stations/3401/2015/11/23/).\n",
    "- 'alpha' : De hoek tussen de as gedefinieerd door de GPS-antenne en het midden van de scintillatorplaat en het Noorden. \n",
    "- 'beta' : De hoek tussen de lange zijde van de scintillatorplaat en het Noorden.\n",
    "- 'radius' : De afstand van GPS- antenne tot het midden van de detector.\n",
    "\n",
    "Een werkblad voor het maken van een stations-plattegrond is te vinden op:\n",
    "\n",
    "[http://docs.hisparc.nl/infopakket/pdf/station_map.pdf](http://docs.hisparc.nl/infopakket/pdf/station_map.pdf)\n",
    "\n",
    "De afstand tussen twee detectoren is te bepalen met de cosinusregel. Dit is in een functie te beschrijven:"
   ]
  },
  {
   "cell_type": "code",
   "execution_count": null,
   "metadata": {
    "collapsed": false
   },
   "outputs": [],
   "source": [
    "def afstand(detector_1, detector_2):\n",
    "    '''\n",
    "    \n",
    "    '''\n",
    "    c = detector_2['radius']\n",
    "    b = detector_1['radius']\n",
    "    alpha = np.radians(detector_2['alpha'] - detector_1['alpha'])\n",
    "    # numpy werkt meet de hoek in radialen.\n",
    "    return (b ** 2 + c ** 2 - 2 * b * c * np.cos(alpha)) ** .5"
   ]
  },
  {
   "cell_type": "markdown",
   "metadata": {},
   "source": [
    "De afstand tussen detector 1 (telt als 0) en 4 (telt als 3) is nu te berekenen met:"
   ]
  },
  {
   "cell_type": "code",
   "execution_count": null,
   "metadata": {
    "collapsed": false
   },
   "outputs": [],
   "source": [
    "print afstand(detectors[0], detectors[3])"
   ]
  },
  {
   "cell_type": "markdown",
   "metadata": {},
   "source": [
    "In het notebook python_data_retrieval is uitgelegd hoe data op te halen is:"
   ]
  },
  {
   "cell_type": "code",
   "execution_count": null,
   "metadata": {
    "collapsed": false
   },
   "outputs": [],
   "source": [
    "from sapphire import quick_download\n",
    "data = quick_download(508)"
   ]
  },
  {
   "cell_type": "code",
   "execution_count": null,
   "metadata": {
    "collapsed": false
   },
   "outputs": [],
   "source": [
    "tijden = [10, 11, 12, 13] # Met deze waarden wordt naar de aankomsttijden bij de detectoren 1, 2, 3 en 4 gewezen.\n",
    "for tijd in tijden:\n",
    "    print data.root.s508.events[0][tijd]"
   ]
  },
  {
   "cell_type": "code",
   "execution_count": null,
   "metadata": {
    "collapsed": true
   },
   "outputs": [],
   "source": [
    "def zenithoeken(event, detectors):\n",
    "    ''' \n",
    "    De zenithoek is de hoek tussen het golf-front en de horizon, \n",
    "    of ook tussen de as naar het zenith en de as van de deeltjeslawine.\n",
    "    \n",
    "    parameters\n",
    "    event: een enkel event uit de opgehaalde data\n",
    "    detectors: de detectorinformatie uit de API\n",
    "    \n",
    "    returns\n",
    "    een array met de hoek tussen de as door twee detectors en het deeltjes front.\n",
    "    '''\n",
    "    c = 0.2997 # in m/ns\n",
    "    zenith = []\n",
    "    for i in range(0, 3):\n",
    "        for j in range(i + 1, 4):\n",
    "            schuine = afstand(detectors[i], detectors[j])\n",
    "            overstaande = c * (event[i + 10] - event[j + 10]) / 100\n",
    "            try:\n",
    "                angle = np.degrees(np.arcsin(overstaande / schuine))\n",
    "            except:\n",
    "                angle = -999\n",
    "            zenith.append(angle)\n",
    "    return zenith"
   ]
  },
  {
   "cell_type": "code",
   "execution_count": null,
   "metadata": {
    "collapsed": false
   },
   "outputs": [],
   "source": [
    "event = data.root.s508.events[0]\n",
    "print zenithoeken(event, detectors)"
   ]
  },
  {
   "cell_type": "code",
   "execution_count": null,
   "metadata": {
    "collapsed": false
   },
   "outputs": [],
   "source": [
    "selecties = range(0, 10)\n",
    "for selectie in selecties:\n",
    "    event = data.root.s508.events[selectie]\n",
    "    print zenithoeken(event, detectors)"
   ]
  },
  {
   "cell_type": "markdown",
   "metadata": {
    "collapsed": true
   },
   "source": [
    "Hierboven zijn de gereconstrueerde hoeken voor de eerste 10 events voor alle combinaties van 2 detectoren in een set van 4 detectoren berekend. De hoeken zijn gedefinieerd als de hoek tussen de as door de detector en het hart van de deeltjeslawine.\n",
    "\n",
    "Een beschrijving van de zenith-hoek is te vinden op: [http://docs.hisparc.nl/infopakket/pdf/richting_reconstructie.pdf](http://docs.hisparc.nl/infopakket/pdf/richting_reconstructie.pdf)."
   ]
  },
  {
   "cell_type": "code",
   "execution_count": null,
   "metadata": {
    "collapsed": true
   },
   "outputs": [],
   "source": []
  }
 ],
 "metadata": {
  "kernelspec": {
   "display_name": "Python 2",
   "language": "python",
   "name": "python2"
  },
  "language_info": {
   "codemirror_mode": {
    "name": "ipython",
    "version": 2
   },
   "file_extension": ".py",
   "mimetype": "text/x-python",
   "name": "python",
   "nbconvert_exporter": "python",
   "pygments_lexer": "ipython2",
   "version": "2.7.10"
  }
 },
 "nbformat": 4,
 "nbformat_minor": 0
}
