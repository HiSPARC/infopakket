{
 "cells": [
  {
   "cell_type": "markdown",
   "metadata": {},
   "source": [
    "# 3 Zenith-afhankelijkheid van een station.\n",
    "\n",
    "Dit notebook sluit aan op het notebook 'HiSPARC_API'. Er wordt zowel informatie van het station als van de metingen verwerkt.\n",
    "\n",
    "Een HiSPARC-station meet deeltjes in een deeltjeslawine die wordt veroorzaakt door een primair kosmisch deeltje. De deeltjes in de lawine bewegen globaal met de lichtsnelheid. De interactie van het primaire deeltje vindt plaats op een hoogte van tientallen kilometers. De doorsnede van de deeltjeslawine is slechts enkele hectometers. We kunnen we er dus van uitgaan dat deeltjes globaal in een vlak loodrecht op de snelheid van het primaire deeltje bewegen."
   ]
  },
  {
   "cell_type": "code",
   "execution_count": null,
   "metadata": {
    "collapsed": false
   },
   "outputs": [],
   "source": [
    "import numpy as np\n",
    "import sapphire\n",
    "from sapphire import Station\n",
    "detectors = Station(501).detectors()\n",
    "for detector in detectors:\n",
    "    print detector"
   ]
  },
  {
   "cell_type": "markdown",
   "metadata": {},
   "source": [
    "De *plattegrond* van een meetstation (detectorposities) is gedefinieerd door:\n",
    "\n",
    "- 'alpha' : De hoek tussen de as gedefinieerd door de GPS-antenne en het midden van de scintillatorplaat en het Noorden. \n",
    "- 'beta' : De hoek tussen de lange zijde van de scintillatorplaat en het Noorden.\n",
    "- 'radius' : De afstand van GPS- antenne tot het midden van de detector.\n",
    "- 'height' : De hoogte t.o.v de GPS- antenne\n",
    "\n",
    "Een werkblad voor het maken van een stations-plattegrond is te vinden op:\n",
    "\n",
    "[http://docs.hisparc.nl/infopakket/pdf/station_map.pdf](http://docs.hisparc.nl/infopakket/pdf/station_map.pdf)"
   ]
  },
  {
   "cell_type": "markdown",
   "metadata": {},
   "source": [
    "### Afstanden\n",
    "De afstand tussen twee detectoren is te bepalen met de cosinusregel. Dit is in een functie te beschrijven:"
   ]
  },
  {
   "cell_type": "code",
   "execution_count": null,
   "metadata": {
    "collapsed": false
   },
   "outputs": [],
   "source": [
    "def afstand(detector_1, detector_2):\n",
    "    '''Bepaal de afstand tussen twee detectoren'''\n",
    "    c = detector_2['radius']\n",
    "    b = detector_1['radius']\n",
    "    alpha = np.radians(detector_2['alpha'] - detector_1['alpha'])\n",
    "    return (b ** 2 + c ** 2 - 2 * b * c * np.cos(alpha)) ** .5"
   ]
  },
  {
   "cell_type": "markdown",
   "metadata": {},
   "source": [
    "De afstand tussen detector 1 (telt als 0) en 4 (telt als 3) is nu te berekenen met:"
   ]
  },
  {
   "cell_type": "code",
   "execution_count": null,
   "metadata": {
    "collapsed": false
   },
   "outputs": [],
   "source": [
    "print afstand(detectors[0], detectors[3])"
   ]
  },
  {
   "cell_type": "markdown",
   "metadata": {},
   "source": [
    "### Aankomsttijden\n",
    "\n",
    "In het notebook python_data_retrieval is uitgelegd hoe data op te halen is:"
   ]
  },
  {
   "cell_type": "code",
   "execution_count": null,
   "metadata": {
    "collapsed": false
   },
   "outputs": [],
   "source": [
    "from sapphire import quick_download\n",
    "data = quick_download(508)"
   ]
  },
  {
   "cell_type": "code",
   "execution_count": null,
   "metadata": {
    "collapsed": false
   },
   "outputs": [],
   "source": [
    "events = data.root.s508.events.read()\n",
    "event = events[0]\n",
    "print event"
   ]
  },
  {
   "cell_type": "code",
   "execution_count": null,
   "metadata": {
    "collapsed": false
   },
   "outputs": [],
   "source": [
    "tijdkolommen = ['t1', 't2', 't3', 't4'] \n",
    "for kolom in tijdkolommen:\n",
    "    print event[kolom]"
   ]
  },
  {
   "cell_type": "markdown",
   "metadata": {},
   "source": [
    "### Zenithoeken\n",
    "\n",
    "Uit de tijdsverschillen tussen de aankomsttijden in detectoren is de zenithoek te bepalen.\n",
    "\n",
    "Voor een stations met 4 detectoren zijn er 6 combinaties, d.w.z. 6 zenithoeken:"
   ]
  },
  {
   "cell_type": "code",
   "execution_count": null,
   "metadata": {
    "collapsed": false
   },
   "outputs": [],
   "source": [
    "from itertools import combinations\n",
    "\n",
    "def zenithoeken(event, detectors):\n",
    "    ''' \n",
    "    De zenithoek is de hoek tussen het golf-front en de horizon, \n",
    "    of ook tussen de as naar het zenith en de as van de deeltjeslawine.\n",
    "    \n",
    "    parameters\n",
    "    event: een enkel event uit de opgehaalde data\n",
    "    detectors: de detectorinformatie uit de API\n",
    "    \n",
    "    returns\n",
    "    een array met de hoek tussen de as door twee detectors en het deeltjes front.\n",
    "    '''\n",
    "    c = 0.2997 # in m/ns\n",
    "    \n",
    "    tijden = [event['t1'], event['t2'], event['t3'], event['t4']]\n",
    "    tijden = [t for t in tijden if t > 0.]  # remove -999.0\n",
    "    \n",
    "    detector_tijd_paren = zip(detectors, tijden)\n",
    "    \n",
    "    zenith = []\n",
    "    for paar1, paar2 in combinations(detector_tijd_paren, 2):\n",
    "            detector1, tijd1 = paar1\n",
    "            detector2, tijd2 = paar2\n",
    "            \n",
    "            schuine = afstand(detector1, detector2)\n",
    "            overstaande = c * (tijd1 - tijd2) / 100\n",
    "            \n",
    "            angle = np.degrees(np.arcsin(overstaande / schuine))\n",
    "            zenith.append(angle)\n",
    "    return zenith"
   ]
  },
  {
   "cell_type": "code",
   "execution_count": null,
   "metadata": {
    "collapsed": false
   },
   "outputs": [],
   "source": [
    "print zenithoeken(event, detectors)"
   ]
  },
  {
   "cell_type": "markdown",
   "metadata": {},
   "source": [
    "Omdat slechts 2 van de 4 detectoren (detector 3 en 4) deeltjes hebben gedetecteerd is er slechts 1 zenithoek."
   ]
  },
  {
   "cell_type": "code",
   "execution_count": null,
   "metadata": {
    "collapsed": false,
    "scrolled": false
   },
   "outputs": [],
   "source": [
    "for event in events[0:10]:\n",
    "    print zenithoeken(event, detectors)"
   ]
  },
  {
   "cell_type": "markdown",
   "metadata": {
    "collapsed": true
   },
   "source": [
    "Hierboven zijn de gereconstrueerde hoeken voor de eerste 10 events voor alle combinaties van 2 detectoren in een set van 4 detectoren berekend. De hoeken zijn gedefinieerd als de hoek tussen de as door de detector en het hart van de deeltjeslawine.\n",
    "\n",
    "Voor events waarbij twee detectoren een of meer deeltjes hebben gedetecteerd is er slechts 1 zenithoek. Voor events waarbij 3 detectoren zijn geraakt zijn er 3 zenithoeken. Als 4 detectoren meedoen, dan zijn er 6 zenithoeken.\n",
    "\n",
    "Een beschrijving van de zenith-hoek is te vinden op: [http://docs.hisparc.nl/infopakket/pdf/richting_reconstructie.pdf](http://docs.hisparc.nl/infopakket/pdf/richting_reconstructie.pdf)."
   ]
  },
  {
   "cell_type": "code",
   "execution_count": null,
   "metadata": {
    "collapsed": true
   },
   "outputs": [],
   "source": []
  }
 ],
 "metadata": {
  "kernelspec": {
   "display_name": "Python 2",
   "language": "python",
   "name": "python2"
  },
  "language_info": {
   "codemirror_mode": {
    "name": "ipython",
    "version": 2
   },
   "file_extension": ".py",
   "mimetype": "text/x-python",
   "name": "python",
   "nbconvert_exporter": "python",
   "pygments_lexer": "ipython2",
   "version": "2.7.11"
  }
 },
 "nbformat": 4,
 "nbformat_minor": 0
}
