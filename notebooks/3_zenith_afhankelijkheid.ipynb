{
 "cells": [
  {
   "cell_type": "markdown",
   "metadata": {},
   "source": [
    "# 3 Zenith-afhankelijkheid van een station.\n",
    "\n",
    "Dit notebook sluit aan op het notebook 'HiSPARC_API'. Er wordt zowel informatie van het station als van de metingen verwerkt.\n",
    "\n",
    "Een HiSPARC-station meet deeltjes in een deeltjeslawine die wordt veroorzaakt door een primair kosmisch deeltje. De deeltjes in de lawine bewegen globaal met de lichtsnelheid. De interactie van het primaire deeltje vindt plaats op een hoogte van tientallen kilometers. De doorsnede van de deeltjeslawine is slechts enkele hectometers. We kunnen we er dus van uitgaan dat deeltjes globaal in een vlak loodrecht op de snelheid van het primaire deeltje bewegen."
   ]
  },
  {
   "cell_type": "code",
   "execution_count": 1,
   "metadata": {
    "collapsed": false
   },
   "outputs": [
    {
     "name": "stdout",
     "output_type": "stream",
     "text": [
      "{u'alpha': -158.07, u'beta': 45.0, u'radius': 6.09, u'height': 0.0}\n",
      "{u'alpha': 73.49, u'beta': 45.0, u'radius': 5.0, u'height': 0.0}\n",
      "{u'alpha': 95.63, u'beta': 315.0, u'radius': 14.51, u'height': 0.0}\n",
      "{u'alpha': 138.13, u'beta': 315.0, u'radius': 11.06, u'height': 0.0}\n"
     ]
    }
   ],
   "source": [
    "import numpy as np\n",
    "import sapphire\n",
    "from sapphire import Station\n",
    "detectors = Station(501).detectors()\n",
    "for detector in detectors:\n",
    "    print detector"
   ]
  },
  {
   "cell_type": "markdown",
   "metadata": {},
   "source": [
    "De eigenschappen van een station zijn gedefinieerd met:\n",
    "\n",
    "- 'mpv' : Most Probable Value. De spanning waarbij de grafiek van het aantal pulsen als functie van de spanning horizontaal is. Zie bijvoorbeeld: [http://data.hisparc.nl/show/stations/3401/2015/11/23/](http://data.hisparc.nl/show/stations/3401/2015/11/23/).\n",
    "- 'alpha' : De hoek tussen de as gedefinieerd door de GPS-antenne en het midden van de scintillatorplaat en het Noorden. \n",
    "- 'beta' : De hoek tussen de lange zijde van de scintillatorplaat en het Noorden.\n",
    "- 'radius' : De afstand van GPS- antenne tot het midden van de detector.\n",
    "\n",
    "Een werkblad voor het maken van een stations-plattegrond is te vinden op:\n",
    "\n",
    "[http://docs.hisparc.nl/infopakket/pdf/station_map.pdf](http://docs.hisparc.nl/infopakket/pdf/station_map.pdf)\n",
    "\n",
    "De afstand tussen twee detectoren is te bepalen met de cosinusregel. Dit is in een functie te beschrijven:"
   ]
  },
  {
   "cell_type": "code",
   "execution_count": 2,
   "metadata": {
    "collapsed": false
   },
   "outputs": [],
   "source": [
    "def afstand(detector_1, detector_2):\n",
    "    '''Bepaal de afstand tussen twee detectoren'''\n",
    "    c = detector_2['radius']\n",
    "    b = detector_1['radius']\n",
    "    alpha = np.radians(detector_2['alpha'] - detector_1['alpha'])\n",
    "    return (b ** 2 + c ** 2 - 2 * b * c * np.cos(alpha)) ** .5"
   ]
  },
  {
   "cell_type": "markdown",
   "metadata": {},
   "source": [
    "De afstand tussen detector 1 (telt als 0) en 4 (telt als 3) is nu te berekenen met:"
   ]
  },
  {
   "cell_type": "code",
   "execution_count": 3,
   "metadata": {
    "collapsed": false
   },
   "outputs": [
    {
     "name": "stdout",
     "output_type": "stream",
     "text": [
      "9.99680415762\n"
     ]
    }
   ],
   "source": [
    "print afstand(detectors[0], detectors[3])"
   ]
  },
  {
   "cell_type": "markdown",
   "metadata": {},
   "source": [
    "In het notebook python_data_retrieval is uitgelegd hoe data op te halen is:"
   ]
  },
  {
   "cell_type": "code",
   "execution_count": 4,
   "metadata": {
    "collapsed": false
   },
   "outputs": [
    {
     "name": "stderr",
     "output_type": "stream",
     "text": [
      "100%|########################################################################################################|Time: 0:00:06\n"
     ]
    }
   ],
   "source": [
    "from sapphire import quick_download\n",
    "data = quick_download(508)"
   ]
  },
  {
   "cell_type": "code",
   "execution_count": 5,
   "metadata": {
    "collapsed": true
   },
   "outputs": [],
   "source": [
    "events = data.root.s508.events.read()\n",
    "events = events[0:100] # bewaar alleen eerste 100 events"
   ]
  },
  {
   "cell_type": "code",
   "execution_count": 6,
   "metadata": {
    "collapsed": false
   },
   "outputs": [
    {
     "name": "stdout",
     "output_type": "stream",
     "text": [
      "-999.0\n",
      "-999.0\n",
      "12.5\n",
      "1232.5\n"
     ]
    }
   ],
   "source": [
    "tijdkolommen = ['t1', 't2', 't3', 't4'] \n",
    "for kolom in tijdkolommen:\n",
    "    print data.root.s508.events[0][kolom]"
   ]
  },
  {
   "cell_type": "code",
   "execution_count": 7,
   "metadata": {
    "collapsed": true
   },
   "outputs": [],
   "source": [
    "from itertools import combinations\n",
    "\n",
    "def zenithoeken(event, detectors):\n",
    "    ''' \n",
    "    De zenithoek is de hoek tussen het golf-front en de horizon, \n",
    "    of ook tussen de as naar het zenith en de as van de deeltjeslawine.\n",
    "    \n",
    "    parameters\n",
    "    event: een enkel event uit de opgehaalde data\n",
    "    detectors: de detectorinformatie uit de API\n",
    "    \n",
    "    returns\n",
    "    een array met de hoek tussen de as door twee detectors en het deeltjes front.\n",
    "    '''\n",
    "    c = 0.2997 # in m/ns\n",
    "    \n",
    "    tijden = (event['t1'], event['t2'], event['t3'], event['t4'])\n",
    "    detector_tijd_paren = zip(detectors, tijden)\n",
    "    \n",
    "    zenith = []\n",
    "    for paar1, paar2 in combinations(detector_tijd_paren, 2):\n",
    "            detector1, tijd1 = paar1\n",
    "            detector2, tijd2 = paar2\n",
    "            \n",
    "            schuine = afstand(detector1, detector2)\n",
    "            overstaande = c * (tijd1 - tijd2) / 100\n",
    "            \n",
    "            angle = np.degrees(np.arcsin(overstaande / schuine))\n",
    "            zenith.append(angle)\n",
    "    return zenith"
   ]
  },
  {
   "cell_type": "code",
   "execution_count": 8,
   "metadata": {
    "collapsed": false
   },
   "outputs": [
    {
     "name": "stdout",
     "output_type": "stream",
     "text": [
      "[0.0, -10.127260720918814, -41.989495631400928, -17.54380272472331, -41.985099228887279, -21.884367024641541]\n"
     ]
    }
   ],
   "source": [
    "event = events[0]\n",
    "print zenithoeken(event, detectors)"
   ]
  },
  {
   "cell_type": "code",
   "execution_count": 9,
   "metadata": {
    "collapsed": false,
    "scrolled": false
   },
   "outputs": [
    {
     "name": "stdout",
     "output_type": "stream",
     "text": [
      "[0.0, -10.127260720918814, -41.989495631400928, -17.54380272472331, -41.985099228887279, -21.884367024641541]\n",
      "[17.69637885523958, 10.152555987129873, 0.0, 0.0, -17.696029048917396, -18.047024662012479]\n",
      "[-0.3864606551253239, 10.152555987129873, 17.697587712249359, 17.992049672271168, 18.102136040321998, 0.0]\n",
      "[17.651311956911581, 10.127260720918814, -0.34354275106450388, 0.0, -18.0118094865404, -18.369510707622069]\n",
      "[0.0, -22.878871924219862, -17.652517531292158, -41.797067329758818, -17.650963100473881, 21.978720398147068]\n",
      "[-20.147774303487374, -10.127260720918814, 0.0, 2.3484130411150321, 20.14737206792622, 18.001003730557112]\n",
      "[48.128491944025797, 25.582396133001112, 26.196390724091909, 0.0, -17.650963100473881, -18.001003730557112]\n",
      "[-17.69637885523958, -17.64810045061699, 0.0, -12.564918034855134, 17.696029048917396, 32.196675917809536]\n",
      "[-0.17175924604736087, 0.12450096797435845, -0.17177060360193872, 0.38418105956126514, 0.0, -0.39386597301568416]\n",
      "[20.02889906949337, 21.989876304015123, 40.222694714581422, 17.54380272472331, 17.650963100473881, 0.0]\n"
     ]
    }
   ],
   "source": [
    "for event in events[0:10]:\n",
    "    print zenithoeken(event, detectors)"
   ]
  },
  {
   "cell_type": "markdown",
   "metadata": {
    "collapsed": true
   },
   "source": [
    "Hierboven zijn de gereconstrueerde hoeken voor de eerste 10 events voor alle combinaties van 2 detectoren in een set van 4 detectoren berekend. De hoeken zijn gedefinieerd als de hoek tussen de as door de detector en het hart van de deeltjeslawine.\n",
    "\n",
    "Een beschrijving van de zenith-hoek is te vinden op: [http://docs.hisparc.nl/infopakket/pdf/richting_reconstructie.pdf](http://docs.hisparc.nl/infopakket/pdf/richting_reconstructie.pdf)."
   ]
  },
  {
   "cell_type": "code",
   "execution_count": null,
   "metadata": {
    "collapsed": true
   },
   "outputs": [],
   "source": []
  }
 ],
 "metadata": {
  "kernelspec": {
   "display_name": "Python 2",
   "language": "python",
   "name": "python2"
  },
  "language_info": {
   "codemirror_mode": {
    "name": "ipython",
    "version": 2
   },
   "file_extension": ".py",
   "mimetype": "text/x-python",
   "name": "python",
   "nbconvert_exporter": "python",
   "pygments_lexer": "ipython2",
   "version": "2.7.11"
  }
 },
 "nbformat": 4,
 "nbformat_minor": 0
}
