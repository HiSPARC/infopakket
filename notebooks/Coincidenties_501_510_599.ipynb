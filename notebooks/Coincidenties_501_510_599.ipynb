{
 "cells": [
  {
   "cell_type": "markdown",
   "metadata": {},
   "source": [
    "# Coincidenties bepalen\n",
    "Coincidenties tussen meetstations worden automatisch bepaald door de publieke database. Ze kunnen eenvoudig worden gedownload, zoals in een eerder notebook is beschreven.\n",
    "\n",
    "Data van teststations wordt echter niet meegenomen in het bepalen van coincidenties. In dit notebook worden coincidenties tussen de een teststation en nabijgelegen meetstations bepaald aan de hand van gedownloade events van de betreffende stations."
   ]
  },
  {
   "cell_type": "code",
   "execution_count": null,
   "metadata": {
    "collapsed": true
   },
   "outputs": [],
   "source": [
    "from datetime import datetime\n",
    "import tables\n",
    "from sapphire import download_data"
   ]
  },
  {
   "cell_type": "markdown",
   "metadata": {},
   "source": [
    "Teststation 599 bevindt zich in de buurt van meetstation 501 en 510 (Nikhef, Science Park, Amsterdam)\n",
    "We bepalen de coincidenties tussen deze drie stations op 1 Mei 2016:\n",
    "\n",
    "Om het aantal coincidenties wat te beperken, downloaden we alleen data tussen 0:00 en 3:00."
   ]
  },
  {
   "cell_type": "code",
   "execution_count": null,
   "metadata": {
    "collapsed": true
   },
   "outputs": [],
   "source": [
    "STATIONS = [501, 510, 599]\n",
    "START = datetime(2016, 5, 1)\n",
    "END = datetime(2016, 5, 1, 3)\n",
    "FILENAME = 'coinc_with_s599.h5'"
   ]
  },
  {
   "cell_type": "code",
   "execution_count": null,
   "metadata": {
    "collapsed": false
   },
   "outputs": [],
   "source": [
    "data = tables.open_file(FILENAME, 'a')"
   ]
  },
  {
   "cell_type": "markdown",
   "metadata": {},
   "source": [
    "Eerst downloaden we de events per station:"
   ]
  },
  {
   "cell_type": "code",
   "execution_count": null,
   "metadata": {
    "collapsed": false,
    "scrolled": true
   },
   "outputs": [],
   "source": [
    "station_groups = ['/s%d' % station for station in STATIONS]\n",
    "\n",
    "for station, group in zip(STATIONS, station_groups):\n",
    "    print \"Station %d in group: %s.\" % (station, group),\n",
    "    if group not in data:\n",
    "        print \"Downloading data: \"\n",
    "        download_data(data, group, station, START, END)\n",
    "    else:\n",
    "        print \"group %s already in datafile.\" % group"
   ]
  },
  {
   "cell_type": "markdown",
   "metadata": {},
   "source": [
    "De HDF5 file heeft nu 3 events tabellen:\n",
    "- /s501/events\n",
    "- /s510/events\n",
    "- /s599/events"
   ]
  },
  {
   "cell_type": "code",
   "execution_count": null,
   "metadata": {
    "collapsed": false
   },
   "outputs": [],
   "source": [
    "print data"
   ]
  },
  {
   "cell_type": "markdown",
   "metadata": {},
   "source": [
    "## Coincidenties bepalen tussen events\n",
    "We gebruiken de SAPPHiRE class `CoincidencesEDS` om coincidenties tussen events in de drie eventtabellen te bepalen:"
   ]
  },
  {
   "cell_type": "code",
   "execution_count": null,
   "metadata": {
    "collapsed": false,
    "scrolled": true
   },
   "outputs": [],
   "source": [
    "from sapphire import CoincidencesESD\n",
    "coin = CoincidencesESD(data, '/coincidences', station_groups, overwrite=True)\n",
    "coin.search_and_store_coincidences(station_numbers=STATIONS)"
   ]
  },
  {
   "cell_type": "code",
   "execution_count": null,
   "metadata": {
    "collapsed": false
   },
   "outputs": [],
   "source": [
    "print data"
   ]
  },
  {
   "cell_type": "markdown",
   "metadata": {},
   "source": [
    "De HDF5 file heeft nu een nieuwe group '/coincidences' met daarin:\n",
    "    - coincidences (table): coincidenties tabel\n",
    "    - c_index (array)\n",
    "    - s_index (array)\n",
    "\n",
    "De c_index en s_index arrays kunnen gebruikt worden om events en coincidenties aan elkaar te koppelen. SAPPHiRE kan dit echter automatisch. Zie `CoincidenceQuery` verderop.\n",
    "\n",
    "De tabel `/coincidences/coincidences` ziet er als volgt uit:"
   ]
  },
  {
   "cell_type": "code",
   "execution_count": null,
   "metadata": {
    "collapsed": false
   },
   "outputs": [],
   "source": [
    "coinc_tabel = data.root.coincidences.coincidences\n",
    "print coinc_tabel"
   ]
  },
  {
   "cell_type": "code",
   "execution_count": null,
   "metadata": {
    "collapsed": false
   },
   "outputs": [],
   "source": [
    "coincidences = coinc_tabel.read()\n",
    "coincidences[:10]"
   ]
  },
  {
   "cell_type": "markdown",
   "metadata": {},
   "source": [
    "Elke regel is een coincidentie.\n",
    "\n",
    "De eerste kolommen geven informatie over de `timestamp` van de coincidentie. Daarna volgen een aantal kolommen met informatie over de shower die door reconstructies ingevuld kunnen worden, maar nu nog leeg zijn: `azimuth`, `zenith`, `size` en `energy`.\n",
    "\n",
    "Tenslotte volgen drie kolommen: `s501`, `s502` en `s599`. De kolommen bevatten de waarden `True` of `False` en geven aan of het betreffende station betrokken is in de coincidentie.\n",
    "\n",
    "We kunnen deze kolommen gebruiken om coincidenties te filteren:"
   ]
  },
  {
   "cell_type": "code",
   "execution_count": null,
   "metadata": {
    "collapsed": false
   },
   "outputs": [],
   "source": [
    "s501 = coincidences['s501']\n",
    "s510 = coincidences['s510']\n",
    "s599 = coincidences['s599']"
   ]
  },
  {
   "cell_type": "markdown",
   "metadata": {},
   "source": [
    "De functie `sum()` telt alle waarden die `True` zijn op:"
   ]
  },
  {
   "cell_type": "code",
   "execution_count": null,
   "metadata": {
    "collapsed": false
   },
   "outputs": [],
   "source": [
    "print \"Er zijn %d events van station 501 betrokken bij coincidenties tussen 501, 510 en/of 599\" % sum(s501)"
   ]
  },
  {
   "cell_type": "code",
   "execution_count": null,
   "metadata": {
    "collapsed": false
   },
   "outputs": [],
   "source": [
    "print \"Er zijn %d coincidenties tussen 501, 510 en 599\" % sum(s510 & s501 & s599)"
   ]
  },
  {
   "cell_type": "markdown",
   "metadata": {},
   "source": [
    "# Opgave\n",
    "\n",
    "Bepaal het aantal coincidenties tussen 501 en 599 waar 510 niet bij betrokken is.\n",
    "\n",
    "*Hint:* gebruik de tilde: ~ voor het tegengestelde van een array."
   ]
  },
  {
   "cell_type": "code",
   "execution_count": null,
   "metadata": {
    "collapsed": false
   },
   "outputs": [],
   "source": [
    "sum(s501 & s599 & ~s510)"
   ]
  },
  {
   "cell_type": "markdown",
   "metadata": {},
   "source": [
    "# Filteren van coincidenties\n",
    "\n",
    "Door gebruik te maken van `compress()` en de kolommen `s501`, `s510` en `s599` kunnen we coincidenties filteren op de betrokken stations:"
   ]
  },
  {
   "cell_type": "code",
   "execution_count": null,
   "metadata": {
    "collapsed": false
   },
   "outputs": [],
   "source": [
    "coinc_510_501 = coincidences.compress(s501 & s510)\n",
    "coinc_510_501"
   ]
  },
  {
   "cell_type": "markdown",
   "metadata": {},
   "source": [
    "In deze selectie zitten ook coincidenties tussen 501, 510 en 599:"
   ]
  },
  {
   "cell_type": "code",
   "execution_count": null,
   "metadata": {
    "collapsed": false
   },
   "outputs": [],
   "source": [
    "print \"Er zijn %d coincenties tussen 510 en 511 waarbij ook 599 betrokken is\" % sum(coinc_510_501['s599'])"
   ]
  },
  {
   "cell_type": "markdown",
   "metadata": {},
   "source": [
    "Dit komt natuurlijk overeen met het eerder gevonden aantal coincidenties tussen 501, 510 en 599.\n",
    "\n",
    "We kunnen 599 ook uitsluiten:"
   ]
  },
  {
   "cell_type": "code",
   "execution_count": null,
   "metadata": {
    "collapsed": false
   },
   "outputs": [],
   "source": [
    "coinc_510_501_zonder599 = coincidences.compress(s501 & s510 & ~s599)\n",
    "coinc_510_501_zonder599"
   ]
  },
  {
   "cell_type": "markdown",
   "metadata": {},
   "source": [
    "# Events aan coincidenties koppellen: CoincidenceQuery\n",
    "\n",
    "We kunnen ook de events bij een coincidentie zoeken. Dit is niet triviaal. De tijdstempel van een coincidentie hoort bij het eerste event, maar dit kan telkens een ander event zijn uit een groep stations. De `/coincidence` group bevat informatie in `c_index` en `s_index` om e.e.a. te koppelen. Maar ook via deze weg is enig programmeer werk.\n",
    "\n",
    "SAPPHiRE CoincidenceQuery kan het bijelkaar zoeken van coincidenties automatiseren:"
   ]
  },
  {
   "cell_type": "code",
   "execution_count": null,
   "metadata": {
    "collapsed": true
   },
   "outputs": [],
   "source": [
    "data.close()"
   ]
  },
  {
   "cell_type": "markdown",
   "metadata": {},
   "source": [
    "CoincidenceQuery opent zelf een HDF5 bestand, we hebben het bestand daarom gesloten.\n",
    "\n",
    "We initialiseren CoincidenceQuery. Als argument geven we alleen het bestandsnaam op:"
   ]
  },
  {
   "cell_type": "code",
   "execution_count": null,
   "metadata": {
    "collapsed": false
   },
   "outputs": [],
   "source": [
    "from sapphire import CoincidenceQuery\n",
    "cq = CoincidenceQuery(FILENAME)"
   ]
  },
  {
   "cell_type": "markdown",
   "metadata": {},
   "source": [
    "Eerst maken we een lijst van alle concidenties (in dit geval tussen stations 501, 510 en 599):"
   ]
  },
  {
   "cell_type": "code",
   "execution_count": null,
   "metadata": {
    "collapsed": false
   },
   "outputs": [],
   "source": [
    "coincidences = cq.all(STATIONS, iterator=True)"
   ]
  },
  {
   "cell_type": "markdown",
   "metadata": {},
   "source": [
    "Nu gebruiken we de functie `all_events`:\n",
    "\n",
    "Deze functie geeft een lijst van coincidenties. Elke concidentie is een lijst van tuples, met telkens het stationnummer en het bijbehorende event.\n",
    "\n",
    "Met een dubelle for-loop kunnen we de informatie \"uitpakken\":"
   ]
  },
  {
   "cell_type": "code",
   "execution_count": null,
   "metadata": {
    "collapsed": false,
    "scrolled": true
   },
   "outputs": [],
   "source": [
    "for id, coinc in enumerate(cq.all_events(coincidences)):\n",
    "    print \"Coincidentie: %d\" % id\n",
    "    for station, event in coinc:\n",
    "        print \"Station: %d. Event id: %d. Timestamp: %d \" % (station, event['event_id'], event['ext_timestamp'])"
   ]
  },
  {
   "cell_type": "markdown",
   "metadata": {},
   "source": [
    "Met `finish()` sluiten we CoincidenceQuery en wordt ook het HDF5 bestand gesloten."
   ]
  },
  {
   "cell_type": "code",
   "execution_count": null,
   "metadata": {
    "collapsed": true
   },
   "outputs": [],
   "source": [
    "cq.finish()"
   ]
  },
  {
   "cell_type": "markdown",
   "metadata": {},
   "source": [
    "# Opgave\n",
    "\n",
    "Het SciencePark in Amsterdam heeft 11 meetstations. Er zijn slechts enkele coincidenties per dag, waarbij alle stations betrokken worden.\n",
    "\n",
    "Bepaal de extended timestamps van events in coincidenties met 9 of meer meetstations op een willekeurige dag in 2016. \n",
    "\n",
    "Kijk eerst op http://data.hisparc.nl hoeveel coincidenties er die dag waren. Niet alle stations hebben elke dag data en station 507 staat binnen!"
   ]
  },
  {
   "cell_type": "code",
   "execution_count": null,
   "metadata": {
    "collapsed": true
   },
   "outputs": [],
   "source": []
  }
 ],
 "metadata": {
  "kernelspec": {
   "display_name": "Python 2",
   "language": "python",
   "name": "python2"
  },
  "language_info": {
   "codemirror_mode": {
    "name": "ipython",
    "version": 2
   },
   "file_extension": ".py",
   "mimetype": "text/x-python",
   "name": "python",
   "nbconvert_exporter": "python",
   "pygments_lexer": "ipython2",
   "version": "2.7.11"
  }
 },
 "nbformat": 4,
 "nbformat_minor": 0
}
