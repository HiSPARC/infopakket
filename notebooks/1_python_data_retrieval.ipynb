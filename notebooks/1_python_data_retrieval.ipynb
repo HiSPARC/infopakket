{
 "cells": [
  {
   "cell_type": "markdown",
   "metadata": {},
   "source": [
    "# 1 Python data retrieval\n",
    "## Inleiding\n",
    "Het notebook 'Data retrieval met python' is het eerste notebook van een serie. In dit notebook wordt beschreven hoe HiSPARC data met de HiSPARC sapphire module voor python op te halen is. De installatie van sapphire is beschreven op:\n",
    "\n",
    "[http://docs.hisparc.nl/sapphire/installation.html#installing-the-prerequisites](http://docs.hisparc.nl/sapphire/installation.html#installing-the-prerequisites)\n",
    "\n",
    "Nadat deze installatie is voltooid, kan de sapphire module in python geladen worden. (Klik met de muis in de onderstaande code-cel en druk op shift-enter):"
   ]
  },
  {
   "cell_type": "code",
   "execution_count": null,
   "metadata": {
    "collapsed": false
   },
   "outputs": [],
   "source": [
    "import sapphire"
   ]
  },
  {
   "cell_type": "markdown",
   "metadata": {
    "collapsed": true
   },
   "source": [
    "Boven deze regel staat als het goed is de code-cel met \"`import sapphire`\". Wordt een foutcode afgebeeld, dan is de installatie niet gelukt. De sapphire module bevat onder andere de \"`quick_download`\" functie. Deze functie maakt het mogelijk om data (meetgegevens) uit de HiSPARC data-server op te halen. \n",
    "\n",
    "Aan de functie wordt het stationsnummer als parameter meegegeven. Hieronder wordt data voor station 102 opgehaald. Uiteraard is deze opdracht aan te passen zodat er data van een andere station opgehaald wordt. (Dit doen we weer door in de code-cel te klikken en op shift-enter te drukken). "
   ]
  },
  {
   "cell_type": "code",
   "execution_count": null,
   "metadata": {
    "collapsed": false
   },
   "outputs": [],
   "source": [
    "from sapphire import quick_download\n",
    "data = quick_download(102)"
   ]
  },
  {
   "cell_type": "markdown",
   "metadata": {},
   "source": [
    "Na enige tijd verschijnt hierboven een regel zoals:\n",
    "\n",
    "\"`100%|############################################################|Time: 0:00:06`\"\n",
    "\n",
    "Soms is de download zo snel dat deze regel niet wordt afgedrukt.\n",
    "\n",
    "De variabele \"`data`\" bevat nu een set meetgegevens. Deze set is af te drukken. "
   ]
  },
  {
   "cell_type": "code",
   "execution_count": null,
   "metadata": {
    "collapsed": false,
    "scrolled": true
   },
   "outputs": [],
   "source": [
    "print data"
   ]
  },
  {
   "cell_type": "markdown",
   "metadata": {},
   "source": [
    "Het \"`data`\" bestand heeft een hierarchise opbouw. In \"`data`\" zit een RootGroup, deze is te benaderen met \"`data.root`\". Hierin zit weer een groep \"`s102`\", deze is te benaderen met \"`data.root.s102`\". Hierin zit een tabel \"`events`\". \n",
    "\n",
    "## Werken met een events tabel\n",
    "Voor het gemak maken we een variable `events` die naar de eventstabel van station 102 wijst:"
   ]
  },
  {
   "cell_type": "code",
   "execution_count": null,
   "metadata": {
    "collapsed": false
   },
   "outputs": [],
   "source": [
    "events = data.root.s102.events\n",
    "events"
   ]
  },
  {
   "cell_type": "markdown",
   "metadata": {},
   "source": [
    "Dit is een tabel van 46329 regels. Elke regel is een event.\n",
    "\n",
    "De informatie van het eerste event is op te halen met:"
   ]
  },
  {
   "cell_type": "code",
   "execution_count": null,
   "metadata": {
    "collapsed": false
   },
   "outputs": [],
   "source": [
    "events[0]"
   ]
  },
  {
   "cell_type": "markdown",
   "metadata": {},
   "source": [
    "Het **tweede** event: (Let op, python telt vanaf 0 en niet vanaf 1)"
   ]
  },
  {
   "cell_type": "code",
   "execution_count": null,
   "metadata": {
    "collapsed": false
   },
   "outputs": [],
   "source": [
    "events[1]"
   ]
  },
  {
   "cell_type": "markdown",
   "metadata": {},
   "source": [
    "De informatie in een event bestaat uit een lijst getallen. Deze getallen hebben de volgende betekenis:\n",
    "\n",
    "1. event_id: Het unieke nummer van het event in deze dataset.\n",
    "1. timestamp: De tijd in hele seconden (GPS) waarop de trigger van het event plaatsvond. \n",
    "1. nanoseconds: De tijd in nanoseconden waarop de trigger van het event plaatsvond.\n",
    "1. ext_timestamp: Dit getal is vrij groot, namelijk de twee vorige achter elkaar.\n",
    "1. pulseheights: Een array met pulshoogten, \"`-1`\" betekent dat er geen detector was.\n",
    "1. integrals: Een array met pulsoppervlakten, \"`-1`\" betekent ook hier dat er geen detector was.\n",
    "1. n1: Het aantal MIPS's (Minimal Ionising Particles) dat in detector 1 is gereconstrueerd.\n",
    "1. n2\n",
    "1. n3\n",
    "1. n4\n",
    "1. t1: De gereconstrueerde detectietijden vanaf het begin van het opgeslagen signaal voor detector 1.\n",
    "1. t2\n",
    "1. t3\n",
    "1. t4\n",
    "1. t_trigger: Het moment van de GPS-tijdstempel vanaf het begin van het opgeslagen signaal.\n",
    "\n",
    "In het werkblad [http://docs.hisparc.nl/infopakket/pdf/traces.pdf](http://docs.hisparc.nl/infopakket/pdf/traces.pdf) wordt de natuurkundige betekenis van deze getallen beschreven.  De afbeeldingen in dit werkblad zijn afkomstig uit het interactieve werkblad [http://data.hisparc.nl/media/jsparc/jsparc.html](http://data.hisparc.nl/media/jsparc/jsparc.html). Let op, computers tellen vanaf \"`0`\" en niet vanaf \"`1`\"\n",
    "\n"
   ]
  },
  {
   "cell_type": "markdown",
   "metadata": {},
   "source": [
    "### Werken met kolomnamen\n",
    "\n",
    "Een kolom zoals 'event_id', 'timestamp' of 't1' kan opgevraagd worden door de index van de kolom (0, 1, 2, ...) of door de kolomnaam. Door gebruik te maken van de kolomnaam wordt de code veel beter leesbaar:"
   ]
  },
  {
   "cell_type": "code",
   "execution_count": null,
   "metadata": {
    "collapsed": false
   },
   "outputs": [],
   "source": [
    "first_event = events[0]\n",
    "first_event['timestamp']"
   ]
  },
  {
   "cell_type": "markdown",
   "metadata": {},
   "source": [
    "Het aantal gereconstrueerde deeltjes in detector 1 (het zevende getal) bij het eerste event is dus te vinden met:\n",
    "```\n",
    "events[0][6]  # 7de kolom van 1ste rij\n",
    "```\n",
    "en:\n",
    "```\n",
    "first_event = event[0]\n",
    "first_event['n1']\n",
    "```\n",
    "De tweede code is weliswaar langer, maar veel beter leesbaar."
   ]
  },
  {
   "cell_type": "code",
   "execution_count": null,
   "metadata": {
    "collapsed": false
   },
   "outputs": [],
   "source": [
    "print first_event['n1']\n",
    "print events[0][6]"
   ]
  },
  {
   "cell_type": "markdown",
   "metadata": {},
   "source": [
    "Een array met pulshoogten in ADC-waarden is in dit geval te vinden met:"
   ]
  },
  {
   "cell_type": "code",
   "execution_count": null,
   "metadata": {
    "collapsed": false
   },
   "outputs": [],
   "source": [
    "first_event['pulseheights']"
   ]
  },
  {
   "cell_type": "markdown",
   "metadata": {},
   "source": [
    "Merk op dat de pulshoogtes van detector 3 en 4 de waarde '-1' hebben. De waarde '-1' betekent dat de pulsehoogte niet bepaald kon worden; Station 102 heeft slechts twee detectoren.\n",
    "\n",
    "De eerste pulshoogte is te vinden met:"
   ]
  },
  {
   "cell_type": "code",
   "execution_count": null,
   "metadata": {
    "collapsed": false
   },
   "outputs": [],
   "source": [
    "print \"pulshoogte detector 1: %d ADC\" % first_event['pulseheights'][0]"
   ]
  },
  {
   "cell_type": "markdown",
   "metadata": {},
   "source": [
    "### Eventkolommen gebruiken\n",
    "Vaak is het eenvoudiger om de hele *kolom* `n1` in een keer te bekijken:\n",
    "\n",
    "De variabele `n1` wijst naar de kolom `n1`\n",
    "en we bekijken de eerste 30 regels (events):"
   ]
  },
  {
   "cell_type": "code",
   "execution_count": null,
   "metadata": {
    "collapsed": false
   },
   "outputs": [],
   "source": [
    "n1 = events.col('n1')\n",
    "n1[0:30]"
   ]
  },
  {
   "cell_type": "markdown",
   "metadata": {},
   "source": [
    "We kunnen nu de data uit een hele kolom verwerken en/of plotten:"
   ]
  },
  {
   "cell_type": "code",
   "execution_count": null,
   "metadata": {
    "collapsed": false
   },
   "outputs": [],
   "source": [
    "import matplotlib.pyplot as plt\n",
    "import numpy as np\n",
    "%matplotlib inline"
   ]
  },
  {
   "cell_type": "code",
   "execution_count": null,
   "metadata": {
    "collapsed": false
   },
   "outputs": [],
   "source": [
    "n1 = events.col('n1')\n",
    "plt.hist(n1, bins=np.arange(0.3, 5., .1), histtype='step')\n",
    "plt.title('Station 102: Number of particles in detector 1')\n",
    "plt.xlabel('number of particles (MIP)')\n",
    "plt.ylabel('counts')"
   ]
  },
  {
   "cell_type": "markdown",
   "metadata": {
    "collapsed": true
   },
   "source": [
    "# Opgave\n",
    "\n",
    "Maak een histogram van de pulshoogtes van detector 1 en 2 van station 102.\n",
    "\n",
    "Een voorbeeld is hier te zien: http://data.hisparc.nl/show/stations/102"
   ]
  },
  {
   "cell_type": "code",
   "execution_count": null,
   "metadata": {
    "collapsed": false
   },
   "outputs": [],
   "source": [
    "ph = events.col('pulseheights')\n",
    "ph1 = ph[:, 0]\n",
    "ph2 = ph[:, 1]"
   ]
  },
  {
   "cell_type": "code",
   "execution_count": null,
   "metadata": {
    "collapsed": false
   },
   "outputs": [],
   "source": [
    "plt.hist(ph1, bins=np.arange(0, 2000., 20.), histtype='step', log=True)\n",
    "plt.hist(ph2, bins=np.arange(0, 2000., 20.), histtype='step', log=True)\n",
    "plt.title('Station 102: Pulseheights')\n",
    "plt.xlabel('pulseheight (ADC)')\n",
    "plt.ylabel('counts')\n",
    "plt.legend(['detector 1', 'detector 2' ])\n",
    "plt.ylim(10, 1e4)"
   ]
  },
  {
   "cell_type": "code",
   "execution_count": null,
   "metadata": {
    "collapsed": false
   },
   "outputs": [],
   "source": [
    "data.close()"
   ]
  },
  {
   "cell_type": "markdown",
   "metadata": {
    "collapsed": true
   },
   "source": [
    "# Meerdere stations en dagen downloaden\n",
    "\n",
    "We willen voor de driehoek in Middelharnis events downloaden van 1 januari 2016 23u30 tot 2 januari 2016 14u30:"
   ]
  },
  {
   "cell_type": "markdown",
   "metadata": {},
   "source": [
    "We maken een HDF5 bestand 'data.h5' en downloaden 3 dagen data (events) van station 202"
   ]
  },
  {
   "cell_type": "code",
   "execution_count": null,
   "metadata": {
    "collapsed": false
   },
   "outputs": [],
   "source": [
    "import tables\n",
    "data = tables.open_file('data.h5', 'a')"
   ]
  },
  {
   "cell_type": "markdown",
   "metadata": {},
   "source": [
    "De opties open_file zijn:\n",
    "- 'a': append: Open het bestand, zodat er data kan worden toegevoegd\n",
    "- 'w': write: Overschrijf het bestand. Alle bestaande data in het bestand wordt overschreven.\n",
    "- 'r': read: Alleen lezen.\n",
    "\n",
    "Start en eindtijdstippen:"
   ]
  },
  {
   "cell_type": "code",
   "execution_count": null,
   "metadata": {
    "collapsed": true
   },
   "outputs": [],
   "source": [
    "from datetime import datetime\n",
    "start = datetime(2016, 1, 1)\n",
    "end = datetime(2016, 1, 3)"
   ]
  },
  {
   "cell_type": "code",
   "execution_count": null,
   "metadata": {
    "collapsed": false
   },
   "outputs": [],
   "source": [
    "from sapphire import download_data\n",
    "download_data(data, '/s202', 202, start, end)"
   ]
  },
  {
   "cell_type": "markdown",
   "metadata": {},
   "source": [
    "De events zijn opgeslagen in de tabel '/s202/events' (data.root.s202.events)"
   ]
  },
  {
   "cell_type": "code",
   "execution_count": null,
   "metadata": {
    "collapsed": false
   },
   "outputs": [],
   "source": [
    "print data"
   ]
  },
  {
   "cell_type": "code",
   "execution_count": null,
   "metadata": {
    "collapsed": false
   },
   "outputs": [],
   "source": [
    "events = data.root.s202.events[0:5]\n",
    "print events"
   ]
  },
  {
   "cell_type": "code",
   "execution_count": null,
   "metadata": {
    "collapsed": true
   },
   "outputs": [],
   "source": [
    "data.close()"
   ]
  },
  {
   "cell_type": "markdown",
   "metadata": {},
   "source": [
    "# Opgave\n",
    "\n",
    "Rond de jaarwisseling 2015-2016 is er iets vreemds gebeurt rondom de meetstations in Middelharnis (3201-3203).\n",
    "\n",
    "Download de data van een uur voor en een uur na de jaarwisseling in het HDF5 bestand 'middelharnis.h5' "
   ]
  },
  {
   "cell_type": "code",
   "execution_count": null,
   "metadata": {
    "collapsed": false
   },
   "outputs": [],
   "source": [
    "import tables\n",
    "from sapphire import download_data\n",
    "from datetime import datetime\n",
    "\n",
    "start = datetime(2015, 12, 31, 23)\n",
    "end = datetime(2016, 1, 1, 1)\n",
    "stations = [3201, 3202, 3203]\n",
    "\n",
    "with tables.open_file('middelharnis.h5', 'w') as data:\n",
    "\n",
    "    for station in stations:\n",
    "        print 'station: %d.' % station\n",
    "        path = '/s%d' % station\n",
    "        download_data(data, path, station, start, end)\n",
    "\n",
    "    print data\n"
   ]
  }
 ],
 "metadata": {
  "kernelspec": {
   "display_name": "Python 2",
   "language": "python",
   "name": "python2"
  },
  "language_info": {
   "codemirror_mode": {
    "name": "ipython",
    "version": 2
   },
   "file_extension": ".py",
   "mimetype": "text/x-python",
   "name": "python",
   "nbconvert_exporter": "python",
   "pygments_lexer": "ipython2",
   "version": "2.7.11"
  }
 },
 "nbformat": 4,
 "nbformat_minor": 0
}
