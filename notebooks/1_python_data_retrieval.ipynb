{
 "cells": [
  {
   "cell_type": "markdown",
   "metadata": {},
   "source": [
    "# 1 Python data retrieval\n",
    "## Inleiding\n",
    "Het notebook 'Data retrieval met python' is het eerste notebook van een serie. In dit notebook wordt beschreven hoe HiSPARC data met de HiSPARC sapphire module voor python op te halen is. De installatie van sapphire is beschreven op:\n",
    "\n",
    "[http://docs.hisparc.nl/sapphire/installation.html#installing-the-prerequisites](http://docs.hisparc.nl/sapphire/installation.html#installing-the-prerequisites)\n",
    "\n",
    "Nadat deze installatie is voltooid, kan de sapphire module in python geladen worden. (Klik met de muis in de onderstaande code-cel en druk op shift-enter):"
   ]
  },
  {
   "cell_type": "code",
   "execution_count": 1,
   "metadata": {
    "collapsed": true
   },
   "outputs": [],
   "source": [
    "import sapphire"
   ]
  },
  {
   "cell_type": "markdown",
   "metadata": {
    "collapsed": true
   },
   "source": [
    "Boven deze regel staat als het goed is de code-cel met \"`import sapphire`\". Wordt een foutcode afgebeeld, dan is de installatie niet gelukt. De sapphire module bevat onder andere de \"`quick_download`\" functie. Deze functie maakt het mogelijk om data (meetgegevens) uit de HiSPARC data-server op te halen. \n",
    "\n",
    "Aan de functie wordt het stationsnummer als parameter meegegeven. Hieronder wordt data voor station 102 opgehaald. Uiteraard is deze opdracht aan te passen zodat er data van een andere station opgehaald wordt. (Dit doen we weer door in de code-cel te klikken en op shift-enter te drukken). "
   ]
  },
  {
   "cell_type": "code",
   "execution_count": 2,
   "metadata": {
    "collapsed": false
   },
   "outputs": [
    {
     "name": "stderr",
     "output_type": "stream",
     "text": [
      "100%|############################################################|Time: 0:00:03\n"
     ]
    }
   ],
   "source": [
    "from sapphire import quick_download\n",
    "data = quick_download(102)"
   ]
  },
  {
   "cell_type": "markdown",
   "metadata": {},
   "source": [
    "Na enige tijd verschijnt hierboven een regel zoals:\n",
    "\n",
    "\"`100%|############################################################|Time: 0:00:06`\"\n",
    "\n",
    "Soms is de download zo snel dat deze regel niet wordt afgedrukt.\n",
    "\n",
    "De variabele \"`data`\" bevat nu een set meetgegevens. Deze set is af te drukken. "
   ]
  },
  {
   "cell_type": "code",
   "execution_count": 3,
   "metadata": {
    "collapsed": false
   },
   "outputs": [
    {
     "name": "stdout",
     "output_type": "stream",
     "text": [
      "data5.h5 (File) ''\n",
      "Last modif.: 'Tue Dec  1 10:39:50 2015'\n",
      "Object Tree: \n",
      "/ (RootGroup) ''\n",
      "/s102 (Group) ''\n",
      "/s102/events (Table(42295,)) ''\n",
      "\n"
     ]
    }
   ],
   "source": [
    "print data"
   ]
  },
  {
   "cell_type": "markdown",
   "metadata": {},
   "source": [
    "## Het data format\n",
    "De naam van het bestand waarnaar de variabele \"`data`\" wijst, eindigt met \"`.h5`\". Om dit data bestand te openen, maken we gebruik van \"`pytables`\"."
   ]
  },
  {
   "cell_type": "code",
   "execution_count": 4,
   "metadata": {
    "collapsed": false
   },
   "outputs": [],
   "source": [
    "import tables"
   ]
  },
  {
   "cell_type": "markdown",
   "metadata": {},
   "source": [
    "Als \"`pytables`\" is geinstalleerd, staat boven deze regel geen foutmelding. Anders is \"`pytables`\" te installeren met met \"`pip install pytables`\". Als \"`# `\" aan het begin van de opdracht wordt verwijderd, is met de onderstaande opdracht te testen of de installatie gelukt is. **_Let op: dit duurt wel een tijdje!_**:"
   ]
  },
  {
   "cell_type": "code",
   "execution_count": 5,
   "metadata": {
    "collapsed": false
   },
   "outputs": [],
   "source": [
    "# tables.test()"
   ]
  },
  {
   "cell_type": "markdown",
   "metadata": {},
   "source": [
    "Als er geen fouten zijn, kunnen we verder. Anders wordt het zoeken op:\n",
    "\n",
    "[http://www.pytables.org/usersguide/installation.html](http://www.pytables.org/usersguide/installation.html)\n",
    "\n",
    "De opdracht \"`print data`\" had een resultaat in de vorm van:\n",
    "\n",
    "```\n",
    "data1.h5 (File) ''\n",
    "Last modif.: 'Tue Nov 17 10:07:28 2015'\n",
    "Object Tree: \n",
    "/ (RootGroup) ''\n",
    "/s102 (Group) ''\n",
    "/s102/events (Table(45393,)) ''\n",
    "```\n",
    "Het \"`data`\" bestand heeft een hierarchise opbouw. In \"`data`\" zit een RootGroup, deze is te benaderen met \"`data.root`\". Hierin zit weer een groep \"`s102`\", deze is te benaderen met \"`data.root.s102`\". Hierin zit een tabel \"`events`\"."
   ]
  },
  {
   "cell_type": "code",
   "execution_count": 6,
   "metadata": {
    "collapsed": false
   },
   "outputs": [
    {
     "name": "stdout",
     "output_type": "stream",
     "text": [
      "/s102/events (Table(42295,)) ''\n"
     ]
    }
   ],
   "source": [
    "print data.root.s102.events"
   ]
  },
  {
   "cell_type": "markdown",
   "metadata": {},
   "source": [
    "De informatie van het eerste event is op te halen met:"
   ]
  },
  {
   "cell_type": "code",
   "execution_count": 7,
   "metadata": {
    "collapsed": false
   },
   "outputs": [
    {
     "name": "stdout",
     "output_type": "stream",
     "text": [
      "(0L, 1448841601, 1820799L, 1448841601001820799L, [56, 94, -1, -1], [331, 528, -1, -1], 0.10530000180006027, 0.2011999934911728, -1.0, -1.0, 985.0, 1482.5, -1.0, -1.0, -999.0)\n"
     ]
    }
   ],
   "source": [
    "print data.root.s102.events[0]"
   ]
  },
  {
   "cell_type": "markdown",
   "metadata": {},
   "source": [
    "De informatie in een event bestaat uit een lijst getallen. Deze getallen hebben de volgende betekenis:\n",
    "\n",
    "1. event_id: Het unieke nummer van het event in deze dataset.\n",
    "1. timestamp: De tijd in hele seconden (GPS) waarop de trigger van het event plaatsvond. \n",
    "1. nanoseconds: De tijd in nanoseconden waarop de trigger van het event plaatsvond.\n",
    "1. ext_timestamp: Dit getal is vrij groot, namelijk de twee vorige achter elkaar.\n",
    "1. pulseheights: Een array met pulshoogten, \"`-1`\" betekent dat er geen detector was.\n",
    "1. integrals: Een array met pulsoppervlakten, \"`-1`\" betekent ook hier dat er geen detector was.\n",
    "1. n1: Het aantal MIPS's (Minimal Ionising Particles) dat in detector 1 is gereconstrueerd.\n",
    "1. n2\n",
    "1. n3\n",
    "1. n4\n",
    "1. t1: De gereconstrueerde detectietijden vanaf het begin van het opgeslagen signaal voor detector 1.\n",
    "1. t2\n",
    "1. t3\n",
    "1. t4\n",
    "1. t_trigger: Het moment van de GPS-tijdstempel vanaf het begin van het opgeslagen signaal.\n",
    "\n",
    "In dit geval staat er bij \"`t_trigger`\" -999.0, dit betekent dat de reconstructie niet gelukt is.\n",
    "\n",
    "In het werkblad [http://docs.hisparc.nl/infopakket/pdf/traces.pdf](http://docs.hisparc.nl/infopakket/pdf/traces.pdf) wordt de natuurkundige betekenis van deze getallen beschreven.  De afbeeldingen in dit werkblad zijn afkomstig uit het interactieve werkblad [http://data.hisparc.nl/media/jsparc/jsparc.html](http://data.hisparc.nl/media/jsparc/jsparc.html).\n",
    "\n",
    "Let op, computers tellen vanaf \"`0`\" en niet vanaf \"`1`\", Het aantal gereconstrueerde deeltjes in detector 1 (het zevende getal) bij het eerste event is dus te vinden met:"
   ]
  },
  {
   "cell_type": "code",
   "execution_count": 8,
   "metadata": {
    "collapsed": false
   },
   "outputs": [
    {
     "name": "stdout",
     "output_type": "stream",
     "text": [
      "985.0\n"
     ]
    }
   ],
   "source": [
    "print data.root.s102.events[0][10]"
   ]
  },
  {
   "cell_type": "markdown",
   "metadata": {},
   "source": [
    "Een array met pulshoogten in ADC-waarden is in dit geval te vinden met:"
   ]
  },
  {
   "cell_type": "code",
   "execution_count": 9,
   "metadata": {
    "collapsed": false,
    "scrolled": true
   },
   "outputs": [
    {
     "name": "stdout",
     "output_type": "stream",
     "text": [
      "[56 94 -1 -1]\n"
     ]
    }
   ],
   "source": [
    "print data.root.s102.events[0][4]"
   ]
  },
  {
   "cell_type": "markdown",
   "metadata": {},
   "source": [
    "De eerste pulshoogte is te vinden met:"
   ]
  },
  {
   "cell_type": "code",
   "execution_count": 10,
   "metadata": {
    "collapsed": false
   },
   "outputs": [
    {
     "name": "stdout",
     "output_type": "stream",
     "text": [
      "56\n"
     ]
    }
   ],
   "source": [
    "print data.root.s102.events[0][4][0]"
   ]
  },
  {
   "cell_type": "code",
   "execution_count": null,
   "metadata": {
    "collapsed": true
   },
   "outputs": [],
   "source": []
  }
 ],
 "metadata": {
  "kernelspec": {
   "display_name": "Python 2",
   "language": "python",
   "name": "python2"
  },
  "language_info": {
   "codemirror_mode": {
    "name": "ipython",
    "version": 2
   },
   "file_extension": ".py",
   "mimetype": "text/x-python",
   "name": "python",
   "nbconvert_exporter": "python",
   "pygments_lexer": "ipython2",
   "version": "2.7.10"
  }
 },
 "nbformat": 4,
 "nbformat_minor": 0
}
