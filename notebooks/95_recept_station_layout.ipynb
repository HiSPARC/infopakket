{
 "cells": [
  {
   "cell_type": "markdown",
   "id": "1301b344",
   "metadata": {},
   "source": [
    "# Recept station layout"
   ]
  },
  {
   "cell_type": "markdown",
   "id": "05ba1c59",
   "metadata": {},
   "source": [
    "Deze notebooks werken alleen met Python 3.\n",
    "\n",
    "Haal de station layout op uit de API en plot"
   ]
  },
  {
   "cell_type": "code",
   "execution_count": null,
   "id": "8414cc8e",
   "metadata": {},
   "outputs": [],
   "source": [
    "import matplotlib.pyplot as plt\n",
    "%matplotlib notebook"
   ]
  },
  {
   "cell_type": "code",
   "execution_count": null,
   "id": "4ba2c7fe",
   "metadata": {},
   "outputs": [],
   "source": [
    "from datetime import datetime\n",
    "from math import sin, cos, radians\n",
    "from sapphire import Station, datetime_to_gps"
   ]
  },
  {
   "cell_type": "code",
   "execution_count": null,
   "id": "b21fd7d9",
   "metadata": {},
   "outputs": [],
   "source": [
    "s = Station(501)\n",
    "layout = s.station_layout(datetime_to_gps(datetime(2016, 1, 1)))"
   ]
  },
  {
   "cell_type": "markdown",
   "id": "af00bc5e",
   "metadata": {},
   "source": [
    "De indeling van de station layout tsv is alsvolgt:\n",
    "\n",
    "```\n",
    "# This data contains the following columns:\n",
    "#\n",
    "# timestamp: time the layout was measured in seconds after 1970-1-1 [UNIX\n",
    "timestamp]\n",
    "# per detector (4x):\n",
    "#     radius: distance to detector from GPS, in plane of GPS [meters]\n",
    "#     alpha: angle between detector and true north as seen from GPS [degrees]\n",
    "#     height: altitude of the detector above plane of GPS [meters]\n",
    "#     beta: angle of the long side of the scintillator to true north [degrees]\n",
    "#\n",
    "\n",
    "```\n",
    "\n",
    "layout is een lijst met daarin per detector: [radius, alpha, height, beta]"
   ]
  },
  {
   "cell_type": "code",
   "execution_count": null,
   "id": "d8baddcc",
   "metadata": {},
   "outputs": [],
   "source": [
    "detectors = []\n",
    "for detector in layout:\n",
    "    r, alpha, z, beta = detector\n",
    "    x_det = r*sin(radians(alpha))\n",
    "    y_det = r*cos(radians(alpha))\n",
    "    detectors.append((x_det, y_det))"
   ]
  },
  {
   "cell_type": "code",
   "execution_count": null,
   "id": "905ea452",
   "metadata": {},
   "outputs": [],
   "source": [
    "detectors"
   ]
  },
  {
   "cell_type": "code",
   "execution_count": null,
   "id": "31add5dd",
   "metadata": {},
   "outputs": [],
   "source": [
    "xs, ys = zip(*detectors)\n",
    "max(ys)\n",
    "plt.figure()\n",
    "plt.plot(0,0, 'ro')\n",
    "plt.text(0, 0, 'GPS')\n",
    "for number, (x, y) in enumerate(detectors):\n",
    "    plt.plot(x, y, 'xb')\n",
    "    plt.text(x, y, str(number))\n",
    "plt.xlim((min(xs)-5, max(xs)+5))\n",
    "plt.ylim((min(ys)-5, max(ys)+5))\n",
    "plt.ylabel('distance [m] north up -->')\n",
    "plt.xlabel('distance [m] east left -->')\n",
    "plt.grid(True)"
   ]
  }
 ],
 "metadata": {
  "jupytext": {
   "cell_metadata_filter": "-all",
   "main_language": "python",
   "notebook_metadata_filter": "-all"
  }
 },
 "nbformat": 4,
 "nbformat_minor": 5
}
