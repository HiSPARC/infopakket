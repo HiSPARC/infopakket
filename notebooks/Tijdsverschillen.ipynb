{
 "cells": [
  {
   "cell_type": "code",
   "execution_count": 252,
   "metadata": {
    "collapsed": true
   },
   "outputs": [],
   "source": [
    "import numpy as np\n",
    "import pylab as plt\n",
    "%matplotlib inline"
   ]
  },
  {
   "cell_type": "code",
   "execution_count": 253,
   "metadata": {
    "collapsed": true
   },
   "outputs": [],
   "source": [
    "FILENAME = 'events.h5'\n",
    "station = 501"
   ]
  },
  {
   "cell_type": "code",
   "execution_count": 254,
   "metadata": {
    "collapsed": true
   },
   "outputs": [],
   "source": [
    "from datetime import datetime\n",
    "start = datetime(2015, 5, 1)\n",
    "end = datetime(2015, 5, 1, 23, 59, 59)"
   ]
  },
  {
   "cell_type": "code",
   "execution_count": 255,
   "metadata": {
    "collapsed": false
   },
   "outputs": [],
   "source": [
    "import tables\n",
    "data = tables.open_file(FILENAME, 'a')"
   ]
  },
  {
   "cell_type": "code",
   "execution_count": 256,
   "metadata": {
    "collapsed": false
   },
   "outputs": [
    {
     "name": "stdout",
     "output_type": "stream",
     "text": [
      "events already downloaded.\n"
     ]
    }
   ],
   "source": [
    "from sapphire import download_data\n",
    "if '/events' not in data:\n",
    "    print 'downloading events'\n",
    "    download_data(data, '/', station, start, end)\n",
    "else:\n",
    "    print 'events already downloaded.'"
   ]
  },
  {
   "cell_type": "code",
   "execution_count": 257,
   "metadata": {
    "collapsed": false
   },
   "outputs": [
    {
     "data": {
      "text/plain": [
       "/events (Table(57828,)) ''\n",
       "  description := {\n",
       "  \"event_id\": UInt32Col(shape=(), dflt=0, pos=0),\n",
       "  \"timestamp\": Time32Col(shape=(), dflt=0, pos=1),\n",
       "  \"nanoseconds\": UInt32Col(shape=(), dflt=0, pos=2),\n",
       "  \"ext_timestamp\": UInt64Col(shape=(), dflt=0, pos=3),\n",
       "  \"pulseheights\": Int16Col(shape=(4,), dflt=0, pos=4),\n",
       "  \"integrals\": Int32Col(shape=(4,), dflt=0, pos=5),\n",
       "  \"n1\": Float32Col(shape=(), dflt=0.0, pos=6),\n",
       "  \"n2\": Float32Col(shape=(), dflt=0.0, pos=7),\n",
       "  \"n3\": Float32Col(shape=(), dflt=0.0, pos=8),\n",
       "  \"n4\": Float32Col(shape=(), dflt=0.0, pos=9),\n",
       "  \"t1\": Float32Col(shape=(), dflt=0.0, pos=10),\n",
       "  \"t2\": Float32Col(shape=(), dflt=0.0, pos=11),\n",
       "  \"t3\": Float32Col(shape=(), dflt=0.0, pos=12),\n",
       "  \"t4\": Float32Col(shape=(), dflt=0.0, pos=13),\n",
       "  \"t_trigger\": Float32Col(shape=(), dflt=0.0, pos=14)}\n",
       "  byteorder := 'little'\n",
       "  chunkshape := (819,)"
      ]
     },
     "execution_count": 257,
     "metadata": {},
     "output_type": "execute_result"
    }
   ],
   "source": [
    "events = data.root.events\n",
    "events"
   ]
  },
  {
   "cell_type": "code",
   "execution_count": 258,
   "metadata": {
    "collapsed": false
   },
   "outputs": [],
   "source": [
    "t1 = events.col('t1')\n",
    "t3 = events.col('t3')"
   ]
  },
  {
   "cell_type": "code",
   "execution_count": 259,
   "metadata": {
    "collapsed": false
   },
   "outputs": [
    {
     "data": {
      "image/png": "[encoded data removed]",
      "text/plain": [
       "<matplotlib.figure.Figure at 0x7f5856a8df10>"
      ]
     },
     "metadata": {},
     "output_type": "display_data"
    }
   ],
   "source": [
    "dt = t3 - t1\n",
    "_ = plt.hist(dt, bins = 50, histtype='step')"
   ]
  },
  {
   "cell_type": "code",
   "execution_count": 260,
   "metadata": {
    "collapsed": false
   },
   "outputs": [
    {
     "data": {
      "image/png": "[encoded data removed]",
      "text/plain": [
       "<matplotlib.figure.Figure at 0x7f5856333650>"
      ]
     },
     "metadata": {},
     "output_type": "display_data"
    }
   ],
   "source": [
    "ph = events.col('pulseheights')\n",
    "ph1 = ph[:, 0]\n",
    "ph3 = ph[:, 2]\n",
    "dt_1_3 = dt.compress((t1 > 0.) & (t3 > 0.) & (ph1 > 200.) & (ph3 > 200.))\n",
    "_ = plt.hist(dt_1_3, bins=50, histtype='step')"
   ]
  },
  {
   "cell_type": "code",
   "execution_count": 261,
   "metadata": {
    "collapsed": false
   },
   "outputs": [
    {
     "data": {
      "image/png": "[encoded data removed]",
      "text/plain": [
       "<matplotlib.figure.Figure at 0x7f5856312610>"
      ]
     },
     "metadata": {},
     "output_type": "display_data"
    }
   ],
   "source": [
    "bins=np.arange(-101.25, 101.25, 2.5)\n",
    "n, _, _ = plt.hist(dt_1_3, bins=bins, histtype='step')"
   ]
  },
  {
   "cell_type": "code",
   "execution_count": 262,
   "metadata": {
    "collapsed": false
   },
   "outputs": [
    {
     "data": {
      "text/plain": [
       "5.9358568"
      ]
     },
     "execution_count": 262,
     "metadata": {},
     "output_type": "execute_result"
    }
   ],
   "source": [
    "np.mean(dt_1_3)"
   ]
  },
  {
   "cell_type": "code",
   "execution_count": 263,
   "metadata": {
    "collapsed": false
   },
   "outputs": [],
   "source": [
    "def gauss(x, N, mu, sigma):\n",
    "    \"\"\"Gaussian distribution\"\"\"\n",
    "    return N * np.exp(-0.5 * ((x - mu) / sigma) ** 2 )"
   ]
  },
  {
   "cell_type": "code",
   "execution_count": 264,
   "metadata": {
    "collapsed": false
   },
   "outputs": [
    {
     "data": {
      "text/plain": [
       "(7.6771134598536186, 20.139014319345481)"
      ]
     },
     "execution_count": 264,
     "metadata": {},
     "output_type": "execute_result"
    }
   ],
   "source": [
    "from scipy.optimize import curve_fit\n",
    "x = (bins[:-1] + bins[1:]) / 2\n",
    "popt, pcov = curve_fit(gauss, x, n)\n",
    "N, mu, sigma = popt\n",
    "mu, sigma"
   ]
  },
  {
   "cell_type": "code",
   "execution_count": 265,
   "metadata": {
    "collapsed": false
   },
   "outputs": [
    {
     "data": {
      "text/plain": [
       "(-60, 70)"
      ]
     },
     "execution_count": 265,
     "metadata": {},
     "output_type": "execute_result"
    },
    {
     "data": {
      "image/png": "[encoded data removed]",
      "text/plain": [
       "<matplotlib.figure.Figure at 0x7f585626c910>"
      ]
     },
     "metadata": {},
     "output_type": "display_data"
    }
   ],
   "source": [
    "plt.hist(dt_1_3, bins=bins, histtype='step')\n",
    "plt.plot(bins, gauss(bins, N, mu, sigma), 'r--')\n",
    "plt.legend(['fit','dt'])\n",
    "plt.xlabel('t3 - t1 [ns]')\n",
    "plt.ylabel('counts')\n",
    "plt.xlim((-60, 70))"
   ]
  },
  {
   "cell_type": "code",
   "execution_count": 266,
   "metadata": {
    "collapsed": false
   },
   "outputs": [],
   "source": [
    "from sapphire import Station\n",
    "s501 = Station(501)"
   ]
  },
  {
   "cell_type": "code",
   "execution_count": 267,
   "metadata": {
    "collapsed": false
   },
   "outputs": [
    {
     "data": {
      "text/plain": [
       "1462060800"
      ]
     },
     "execution_count": 267,
     "metadata": {},
     "output_type": "execute_result"
    }
   ],
   "source": [
    "from sapphire.transformations.clock import datetime_to_gps\n",
    "ts = datetime_to_gps(datetime(2016,5,1))\n",
    "ts"
   ]
  },
  {
   "cell_type": "code",
   "execution_count": 268,
   "metadata": {
    "collapsed": false
   },
   "outputs": [
    {
     "data": {
      "text/plain": [
       "[-1.25, 0.0, 5.25, 4.5]"
      ]
     },
     "execution_count": 268,
     "metadata": {},
     "output_type": "execute_result"
    }
   ],
   "source": [
    "s501.detector_timing_offset(ts)"
   ]
  },
  {
   "cell_type": "code",
   "execution_count": 269,
   "metadata": {
    "collapsed": false
   },
   "outputs": [
    {
     "data": {
      "text/plain": [
       "6.5"
      ]
     },
     "execution_count": 269,
     "metadata": {},
     "output_type": "execute_result"
    }
   ],
   "source": [
    "o1, o2, o3, o4 = s501.detector_timing_offset(ts)\n",
    "o3 - o1"
   ]
  },
  {
   "cell_type": "code",
   "execution_count": 270,
   "metadata": {
    "collapsed": true
   },
   "outputs": [],
   "source": [
    "data.close()"
   ]
  }
 ],
 "metadata": {
  "kernelspec": {
   "display_name": "Python 2",
   "language": "python",
   "name": "python2"
  },
  "language_info": {
   "codemirror_mode": {
    "name": "ipython",
    "version": 2
   },
   "file_extension": ".py",
   "mimetype": "text/x-python",
   "name": "python",
   "nbconvert_exporter": "python",
   "pygments_lexer": "ipython2",
   "version": "2.7.11"
  }
 },
 "nbformat": 4,
 "nbformat_minor": 0
}
