{
 "cells": [
  {
   "cell_type": "markdown",
   "metadata": {},
   "source": [
    "# 2 HiSPARC-API\n",
    "## Inleiding\n",
    "De HiSPARC-API sluit aan op het notebook python_data_retrieval, deze dient eerst te worden bestudeerd.\n",
    "\n",
    "Naast event-data zijn er gegevens over de meetstations op te vragen. Dit kan via de HiSPARC-API. Deze HiSPARC-API is een onderdeel van \"sapphire\". In \"Python data retrieval\" hadden we al de beschikking over \"sapphire\"."
   ]
  },
  {
   "cell_type": "code",
   "execution_count": null,
   "metadata": {
    "collapsed": true
   },
   "outputs": [],
   "source": [
    "import sapphire\n",
    "from sapphire import Station"
   ]
  },
  {
   "cell_type": "markdown",
   "metadata": {},
   "source": [
    "Met de functie \"`Station()`\" zijn de eigenschappen van een station, zoals het cluster waarin een station zich bevindt, op te vragen:"
   ]
  },
  {
   "cell_type": "code",
   "execution_count": null,
   "metadata": {
    "collapsed": false
   },
   "outputs": [],
   "source": [
    "print Station(1001).cluster()"
   ]
  },
  {
   "cell_type": "markdown",
   "metadata": {},
   "source": [
    "Een ander belangrijke eigenschap is de plaats waar een station zich bevindt:"
   ]
  },
  {
   "cell_type": "code",
   "execution_count": null,
   "metadata": {
    "collapsed": false
   },
   "outputs": [],
   "source": [
    "print Station(301).gps_locations"
   ]
  },
  {
   "cell_type": "markdown",
   "metadata": {},
   "source": [
    "We zien hier een array met daarin een aantal lijsten. Het eerste item op iedere regel legt vast vanaf welke moment, een GPS-tijdstempel, een station volgens de HiSPARC database op een plaats stond. Na dit GPS-tijdstempel zijn achtereenvolgens de lengte, breedte en hoogte van het station volgens GPS-84 gegeven. ([https://nl.wikipedia.org/wiki/WGS_84](https://nl.wikipedia.org/wiki/WGS_84))"
   ]
  },
  {
   "cell_type": "markdown",
   "metadata": {},
   "source": [
    "We kunnen nu ook een de eigenschappen van verschillende stations opvragen, eerst maken we een array met de stationsnummers die we op willen vragen:"
   ]
  },
  {
   "cell_type": "code",
   "execution_count": null,
   "metadata": {
    "collapsed": true
   },
   "outputs": [],
   "source": [
    "stations = [301, 303, 304, 305]"
   ]
  },
  {
   "cell_type": "code",
   "execution_count": null,
   "metadata": {
    "collapsed": false
   },
   "outputs": [],
   "source": [
    "for station in stations:\n",
    "    print station, '\\n', Station(station).gps_locations, '\\n'"
   ]
  },
  {
   "cell_type": "markdown",
   "metadata": {},
   "source": [
    "We zien een lijst met de eigenschappen van de verschillende stations. In het geval van een coincidentie willen we weten waar de stations op dat gegeven moment stonden. We willen nu dus niet een lijst met alle locaties op alle tijdstippen, maar een lijst met de locaties op een moment met een gegeven tijdstempel."
   ]
  },
  {
   "cell_type": "code",
   "execution_count": null,
   "metadata": {
    "collapsed": false
   },
   "outputs": [],
   "source": [
    "for station in stations:\n",
    "    print station, Station(station).gps_location(1368450685)"
   ]
  },
  {
   "cell_type": "code",
   "execution_count": null,
   "metadata": {
    "collapsed": true
   },
   "outputs": [],
   "source": []
  }
 ],
 "metadata": {
  "kernelspec": {
   "display_name": "Python 2",
   "language": "python",
   "name": "python2"
  },
  "language_info": {
   "codemirror_mode": {
    "name": "ipython",
    "version": 2
   },
   "file_extension": ".py",
   "mimetype": "text/x-python",
   "name": "python",
   "nbconvert_exporter": "python",
   "pygments_lexer": "ipython2",
   "version": "2.7.10"
  }
 },
 "nbformat": 4,
 "nbformat_minor": 0
}
