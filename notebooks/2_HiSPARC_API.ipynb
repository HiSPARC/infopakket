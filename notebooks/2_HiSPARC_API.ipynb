{
 "cells": [
  {
   "cell_type": "markdown",
   "metadata": {},
   "source": [
    "# 2 HiSPARC-API\n",
    "## Inleiding\n",
    "Informatie over en van meetstations (configuraties, events, coincidenties) is op te halen via de publieke database op http://data.hisparc.nl \n",
    "\n",
    "Dit notebook gaat over het ophalen en verwerken van gegevens van meetstations GPS posities, hardwareserienummers, detector tijdoffsets en PMT spanning via de **HiSPARC API**.\n",
    "\n",
    "Via de API kan door middel van een URL informatie uit de publieke database over stations worden opgevraagd:\n",
    "- http://data.hisparc.nl/api/clusters/  (de clusters in het netwerk in JSON)\n",
    "- http://data.hisparc.nl/api/station/22/  (informatie over station 22 in JSON)\n",
    "- http://data.hisparc.nl/show/source/gps/501/  (De GPS posities van station 501, in TSV)\n",
    "\n",
    "Bovenstaande links zijn ook te vinden als links op http://data.hisparc.nl.\n",
    "Meer informatie over de HiSPARC API is te vinden via: http://docs.hisparc.nl/publicdb/api_tutorial.html\n",
    "\n",
    "In SAPPHiRE is de informatie uit de API op twee manieren beschikbaar:\n",
    "1. Direct uitlezen van API informatie via `Station()` en `Network()`\n",
    "2. Analyse van groepen van stations (clusters) via `HiSPARCStation()` en `HiSPARCNetwork()`"
   ]
  },
  {
   "cell_type": "markdown",
   "metadata": {},
   "source": [
    "## Uitlezen van de API via Network() en Station()"
   ]
  },
  {
   "cell_type": "code",
   "execution_count": 1,
   "metadata": {
    "collapsed": false
   },
   "outputs": [],
   "source": [
    "from sapphire import Network, Station"
   ]
  },
  {
   "cell_type": "markdown",
   "metadata": {},
   "source": [
    "### Network()\n",
    "\n",
    "Network is voor het ophalen van informatie over het netwerk via de API:"
   ]
  },
  {
   "cell_type": "code",
   "execution_count": 2,
   "metadata": {
    "collapsed": false
   },
   "outputs": [
    {
     "name": "stdout",
     "output_type": "stream",
     "text": [
      "[2, 3, 5, 6, 7, 9, 10, 13, 21, 22, 23, 101, 102, 103, 104, 105, 201, 202, 203, 301, 303, 304, 305, 401, 501, 502, 503, 504, 505, 506, 507, 508, 509, 510, 511, 601, 1001, 1002, 1003, 1006, 1007, 1008, 1009, 1010, 1101, 1102, 2001, 2002, 2003, 2004, 2005, 2006, 2008, 2010, 2101, 2102, 2103, 2201, 3001, 3002, 3101, 3102, 3103, 3104, 3105, 3201, 3202, 3203, 3301, 3302, 3303, 3401, 3501, 3601, 3701, 4001, 4002, 4003, 4004, 7001, 7002, 7003, 7101, 7201, 7301, 7401, 8001, 8002, 8003, 8004, 8005, 8006, 8007, 8008, 8009, 8101, 8102, 8103, 8104, 8105, 8201, 8301, 8302, 8303, 13001, 13002, 13003, 13004, 13005, 13006, 13007, 13008, 13101, 13102, 13103, 13104, 13201, 13301, 13401, 13501, 14001, 14002, 14003, 20001, 20002, 20003]\n"
     ]
    }
   ],
   "source": [
    "network = Network()\n",
    "print network.station_numbers()"
   ]
  },
  {
   "cell_type": "code",
   "execution_count": 3,
   "metadata": {
    "collapsed": false
   },
   "outputs": [
    {
     "name": "stdout",
     "output_type": "stream",
     "text": [
      "[{u'name': u'Amsterdam', u'number': 0}, {u'name': u'Utrecht', u'number': 1000}, {u'name': u'Nijmegen', u'number': 2000}, {u'name': u'Leiden', u'number': 3000}, {u'name': u'Groningen', u'number': 4000}, {u'name': u'Enschede', u'number': 7000}, {u'name': u'Eindhoven', u'number': 8000}, {u'name': u'Cambridge', u'number': 11000}, {u'name': u'Durham', u'number': 12000}, {u'name': u'Bristol', u'number': 13000}, {u'name': u'Birmingham', u'number': 14000}, {u'name': u'Aarhus', u'number': 20000}, {u'name': u'Karlsruhe', u'number': 70000}]\n"
     ]
    }
   ],
   "source": [
    "print network.clusters()"
   ]
  },
  {
   "cell_type": "code",
   "execution_count": 4,
   "metadata": {
    "collapsed": false
   },
   "outputs": [
    {
     "name": "stdout",
     "output_type": "stream",
     "text": [
      "[2001, 2002, 2003, 2004, 2005, 2006, 2008, 2010, 2101, 2102, 2103, 2201]\n"
     ]
    }
   ],
   "source": [
    "print network.station_numbers(cluster=2000)"
   ]
  },
  {
   "cell_type": "markdown",
   "metadata": {},
   "source": [
    "### Station()\n",
    "`Station()` kan informatie over een meetstation uit de API lezen.\n",
    "\n",
    "De informatie uit de URL http://data.hisparc.nl/api/station/22/ (informatie over meetstation 22, St. Ignatius, Adam) kunnen we ook met Station() opvragen:"
   ]
  },
  {
   "cell_type": "code",
   "execution_count": 5,
   "metadata": {
    "collapsed": false
   },
   "outputs": [
    {
     "name": "stdout",
     "output_type": "stream",
     "text": [
      "{u'name': u'St. Ignatius Gymnasium', u'latitude': 52.3494298, u'country': u'Netherlands', u'altitude': 60.7, u'number': 22, u'longitude': 4.8738439, u'scintillators': [{u'alpha': 25.0, u'beta': 7.0, u'radius': 1.44, u'height': 0.0}, {u'alpha': 84.0, u'beta': 88.0, u'radius': 14.23, u'height': 0.0}], u'cluster': u'Amsterdam', u'subcluster': u'Amsterdam', u'active': True}\n"
     ]
    }
   ],
   "source": [
    "print Station(22).info"
   ]
  },
  {
   "cell_type": "markdown",
   "metadata": {},
   "source": [
    "Een belangrijke eigenschap is de plaats waar een station zich bevindt. \n",
    "\n",
    "Deze informatie is te vinden via de API met de URL: http://data.hisparc.nl/show/source/gps/22/\n",
    "\n",
    "Via Station():"
   ]
  },
  {
   "cell_type": "code",
   "execution_count": 6,
   "metadata": {
    "collapsed": false,
    "scrolled": true
   },
   "outputs": [
    {
     "name": "stdout",
     "output_type": "stream",
     "text": [
      "[(1265290274, 52.3342237, 4.8863615, 97.09)\n",
      " (1339586873, 52.3494186, 4.8738435, 61.28)\n",
      " (1339680234, 52.3494234, 4.873842, 61.46)\n",
      " (1371715473, 52.3494098, 4.8738262, 60.94)\n",
      " (1383730933, 52.3494298, 4.8738439, 60.7)]\n"
     ]
    }
   ],
   "source": [
    "print Station(22).gps_locations"
   ]
  },
  {
   "cell_type": "markdown",
   "metadata": {},
   "source": [
    "Dit zijn *alle* GPS posities van meetstation 22.\n",
    "\n",
    "We zien hier een array met daarin een aantal lijsten. Het eerste item op iedere regel legt vast vanaf welke moment, een GPS-tijdstempel, een station volgens de HiSPARC database op een plaats stond. Na dit GPS-tijdstempel zijn achtereenvolgens de lengte, breedte en hoogte van het station volgens GPS-84 gegeven. ([https://nl.wikipedia.org/wiki/WGS_84](https://nl.wikipedia.org/wiki/WGS_84))"
   ]
  },
  {
   "cell_type": "markdown",
   "metadata": {},
   "source": [
    "We kunnen ook de *huidige* locatie ophalen:"
   ]
  },
  {
   "cell_type": "code",
   "execution_count": 7,
   "metadata": {
    "collapsed": false
   },
   "outputs": [
    {
     "name": "stdout",
     "output_type": "stream",
     "text": [
      "timestamp:  1463416602\n",
      "GPS:  {'latitude': 52.349429800000003, 'altitude': 60.700000000000003, 'longitude': 4.8738438999999998}\n"
     ]
    }
   ],
   "source": [
    "from sapphire.transformations.clock import datetime_to_gps\n",
    "from datetime import datetime\n",
    "\n",
    "ts = datetime_to_gps(datetime.now())\n",
    "print \"timestamp: \", ts\n",
    "print \"GPS: \", Station(22).gps_location(ts)"
   ]
  },
  {
   "cell_type": "markdown",
   "metadata": {},
   "source": [
    "# Opgave \n",
    "Bepaal de GPS coordinaten van station 22 op 5 December 2012:"
   ]
  },
  {
   "cell_type": "code",
   "execution_count": 8,
   "metadata": {
    "collapsed": false
   },
   "outputs": [
    {
     "name": "stdout",
     "output_type": "stream",
     "text": [
      "timestamp:  1354665600\n",
      "GPS:  {'latitude': 52.349423399999999, 'altitude': 61.460000000000001, 'longitude': 4.8738419999999998}\n"
     ]
    }
   ],
   "source": [
    "ts = datetime_to_gps(datetime(2012, 12, 5))\n",
    "print \"timestamp: \", ts\n",
    "print \"GPS: \", Station(22).gps_location(ts)"
   ]
  },
  {
   "cell_type": "markdown",
   "metadata": {},
   "source": [
    "## Clusters via HiSPARCStations() en HiSPARCNetwork()\n",
    "\n",
    "### HiSPARCStations()\n",
    "Met behulp van HiSPARCStations() kunnen we een cluster van een aantal meetstations aanmaken. HiSPARCNetwork() maakt een cluster van alle meetstations in het netwerk."
   ]
  },
  {
   "cell_type": "code",
   "execution_count": 9,
   "metadata": {
    "collapsed": true
   },
   "outputs": [],
   "source": [
    "from sapphire import HiSPARCStations, HiSPARCNetwork"
   ]
  },
  {
   "cell_type": "markdown",
   "metadata": {},
   "source": [
    "We maken een cluster van vier meetstations:"
   ]
  },
  {
   "cell_type": "code",
   "execution_count": 10,
   "metadata": {
    "collapsed": false
   },
   "outputs": [
    {
     "name": "stderr",
     "output_type": "stream",
     "text": [
      "/home/tom/miniconda2/lib/python2.7/site-packages/sapphire/clusters.py:813: UserWarning: Could not get detector layout for stations [301, 303, 304, 305], defaults will be used!\n",
      "  'defaults will be used!' % str(missing_detectors))\n"
     ]
    }
   ],
   "source": [
    "stations = [301, 303, 304, 305]\n",
    "cluster = HiSPARCStations(stations)"
   ]
  },
  {
   "cell_type": "markdown",
   "metadata": {},
   "source": [
    "Van het cluster kunnen we posities van meetstations, detectoren, maar ook onderlinge afstanden e.d. eenvoudig bepalen."
   ]
  },
  {
   "cell_type": "code",
   "execution_count": 11,
   "metadata": {
    "collapsed": false
   },
   "outputs": [
    {
     "name": "stdout",
     "output_type": "stream",
     "text": [
      "301 (52.5518567, 4.6870106, 60.04000000003725)\n",
      "303 (52.494334, 4.6613204, 56.46999999880791)\n",
      "304 (52.54162169999999, 4.6681044, 49.28999999910593)\n",
      "305 (52.5493502, 4.671813200000001, 51.70999999996275)\n"
     ]
    }
   ],
   "source": [
    "for station in cluster.stations:\n",
    "    print station.number, station.get_lla_coordinates()"
   ]
  },
  {
   "cell_type": "markdown",
   "metadata": {},
   "source": [
    "### set_timestamp()\n",
    "Een essentiele eigenschap van een cluster is dat we een tijdstempel kunnen opgeveven. De informatie die het cluster ophaalt en berekent is geldig op het tijdstip dat overeenkomt met het tijdstempel.\n",
    "\n",
    "In het geval van een coincidentie op timestamp 1368403200 willen we weten waar de stations op dat gegeven tijdstip stonden:"
   ]
  },
  {
   "cell_type": "code",
   "execution_count": 12,
   "metadata": {
    "collapsed": false
   },
   "outputs": [
    {
     "name": "stdout",
     "output_type": "stream",
     "text": [
      "LLA coordinaten op timestamp = 1368403200\n",
      "\n",
      "301 (52.5518809, 4.6870001, 56.72999999951571)\n",
      "303 (52.494334, 4.6613204, 56.46999999880791)\n",
      "304 (52.54162169999999, 4.6681044, 49.28999999910593)\n",
      "305 (52.5493502, 4.671813200000001, 51.70999999996275)\n"
     ]
    }
   ],
   "source": [
    "ts = 1368403200\n",
    "cluster.set_timestamp(ts)\n",
    "print \"LLA coordinaten op timestamp = %d\\n\" % ts\n",
    "for station in cluster.stations:\n",
    "    print station.number, station.get_lla_coordinates()"
   ]
  },
  {
   "cell_type": "markdown",
   "metadata": {},
   "source": [
    "# Opgave:\n",
    "\n",
    "In Alphen a/d Rijn staat een driehoek van stations: [3301, 3302, 3303]\n",
    "\n",
    "Maak een plot van de onderlinge ligging van de stations.\n",
    "\n",
    "*hint:* `get_coordinates()` geeft de (x, y, z, alpha)-coordinaten van een station in een cluster zoals HiSPARCStations(). (x,y,z) zijn in meter, alpha is de orientatiehoek in graden."
   ]
  },
  {
   "cell_type": "code",
   "execution_count": 13,
   "metadata": {
    "collapsed": false
   },
   "outputs": [
    {
     "name": "stderr",
     "output_type": "stream",
     "text": [
      "/home/tom/miniconda2/lib/python2.7/site-packages/sapphire/clusters.py:813: UserWarning: Could not get detector layout for stations [3301, 3302, 3303], defaults will be used!\n",
      "  'defaults will be used!' % str(missing_detectors))\n"
     ]
    },
    {
     "data": {
      "image/png": "[encoded data removed]",
      "text/plain": [
       "<matplotlib.figure.Figure at 0x7f1e73beed10>"
      ]
     },
     "metadata": {},
     "output_type": "display_data"
    }
   ],
   "source": [
    "import matplotlib.pyplot as plt\n",
    "%matplotlib inline\n",
    "\n",
    "stations = [3301, 3302, 3303]\n",
    "cluster = HiSPARCStations(stations)\n",
    "\n",
    "for station in cluster.stations:\n",
    "    x, y, z, alpha = station.get_coordinates()\n",
    "    plt.plot(x, y, 'or', markersize=10)\n",
    "    plt.text(x, y, station.number)"
   ]
  },
  {
   "cell_type": "markdown",
   "metadata": {},
   "source": [
    "### HiSPARCNetwork()\n",
    "\n",
    "Een cluster van het hele network kunnen we maken met HiSPARCNetwork(). Omdat daarbij informatie van *alle* stations uit het netwerk via de API worden opgehaald, is het aanmaken van HiSPARCNetwork() redelijk traag.\n",
    "\n",
    "#### force_stale\n",
    "Door gebruik te maken van de optie `force_stale=True` wordt die informatie *niet* uit de API opgehaald, maar gelezen uit SAPPHiRE. Deze informatie is mogelijk veroudert, maar wel veel sneller beschikbaar. \n",
    "\n",
    "De optie 'force_stale' is ook beschikbaar voor Station(), Network() en HiSPARCStations()"
   ]
  },
  {
   "cell_type": "code",
   "execution_count": 14,
   "metadata": {
    "collapsed": false
   },
   "outputs": [
    {
     "name": "stderr",
     "output_type": "stream",
     "text": [
      "/home/tom/miniconda2/lib/python2.7/site-packages/sapphire/api.py:138: UserWarning: Using local data. Possibly outdated.\n",
      "  warnings.warn('Using local data. Possibly outdated.')\n",
      "/home/tom/miniconda2/lib/python2.7/site-packages/sapphire/api.py:171: UserWarning: Using local data. Possibly outdated.\n",
      "  warnings.warn('Using local data. Possibly outdated.')\n",
      "/home/tom/miniconda2/lib/python2.7/site-packages/sapphire/clusters.py:810: UserWarning: Could not get GPS location for stations: [1102, 13401]. Using (0, 0, 0) instead.\n",
      "  'Using (0, 0, 0) instead.' % str(missing_gps))\n",
      "/home/tom/miniconda2/lib/python2.7/site-packages/sapphire/clusters.py:813: UserWarning: Could not get detector layout for stations [2, 3, 5, 7, 10, 13, 21, 22, 101, 103, 202, 203, 301, 303, 304, 305, 1001, 1002, 1003, 1006, 1007, 1008, 1010, 2001, 2002, 2003, 2004, 2005, 2008, 2010, 2101, 2102, 2103, 2201, 3001, 3002, 3101, 3102, 3103, 3104, 3105, 3202, 3203, 3301, 3302, 3303, 3401, 3501, 3601, 3701, 4001, 4002, 4003, 4004, 7101, 7201, 7301, 7401, 8001, 8002, 8004, 8005, 8006, 8007, 8008, 8009, 8102, 8103, 8104, 8105, 8201, 8301, 8302, 8303, 13001, 13002, 13003, 13004, 13005, 13006, 13007, 13008, 13101, 13103, 13104, 13201, 13301, 13501, 14002, 14003, 20001, 20002, 20003], defaults will be used!\n",
      "  'defaults will be used!' % str(missing_detectors))\n"
     ]
    }
   ],
   "source": [
    "network = HiSPARCNetwork(force_stale=True)"
   ]
  },
  {
   "cell_type": "markdown",
   "metadata": {},
   "source": [
    "De *UserWarnings* kunnen hier genegeerd worden."
   ]
  },
  {
   "cell_type": "code",
   "execution_count": 15,
   "metadata": {
    "collapsed": false
   },
   "outputs": [
    {
     "name": "stdout",
     "output_type": "stream",
     "text": [
      "De afstand tussen 505 en 509 is 586 m\n"
     ]
    }
   ],
   "source": [
    "print \"De afstand tussen 505 en 509 is %.f m\" % network.calc_distance_between_stations(505, 509)"
   ]
  },
  {
   "cell_type": "markdown",
   "metadata": {
    "collapsed": false
   },
   "source": [
    "Ook voor het hele netwerk kan een timestamp worden opgegeven:"
   ]
  },
  {
   "cell_type": "code",
   "execution_count": 16,
   "metadata": {
    "collapsed": false
   },
   "outputs": [],
   "source": [
    "network.set_timestamp(datetime_to_gps(datetime(2015,3, 4)))"
   ]
  },
  {
   "cell_type": "markdown",
   "metadata": {},
   "source": [
    "In combinatie met cluster aken we vaak gebruik van de functie `itertools.combinations`:"
   ]
  },
  {
   "cell_type": "code",
   "execution_count": 17,
   "metadata": {
    "collapsed": false
   },
   "outputs": [
    {
     "name": "stdout",
     "output_type": "stream",
     "text": [
      "3 22\n",
      "3 501\n",
      "3 509\n",
      "22 501\n",
      "22 509\n",
      "501 509\n"
     ]
    }
   ],
   "source": [
    "stations = [3, 22, 501, 509]\n",
    "from itertools import combinations\n",
    "for eerste, tweede in combinations(stations, 2):\n",
    "    print eerste, tweede"
   ]
  },
  {
   "cell_type": "markdown",
   "metadata": {},
   "source": [
    "# Opgave:\n",
    "\n",
    "Maak een lijst van de onderlinge afstanden van meetstation in cluster Leiden, waarvoor de afstand kleiner is dan 1000 m.\n"
   ]
  },
  {
   "cell_type": "code",
   "execution_count": 18,
   "metadata": {
    "collapsed": false
   },
   "outputs": [
    {
     "name": "stdout",
     "output_type": "stream",
     "text": [
      "De afstand tussen station 2001 en 2002 is 512 m.\n",
      "De afstand tussen station 2001 en 2006 is 831 m.\n",
      "De afstand tussen station 2101 en 2102 is 175 m.\n",
      "De afstand tussen station 2101 en 2103 is 622 m.\n",
      "De afstand tussen station 2102 en 2103 is 607 m.\n"
     ]
    },
    {
     "name": "stderr",
     "output_type": "stream",
     "text": [
      "/home/tom/miniconda2/lib/python2.7/site-packages/sapphire/clusters.py:813: UserWarning: Could not get detector layout for stations [2001, 2002, 2003, 2004, 2005, 2008, 2010, 2101, 2102, 2103, 2201], defaults will be used!\n",
      "  'defaults will be used!' % str(missing_detectors))\n"
     ]
    }
   ],
   "source": [
    "from sapphire import Network, HiSPARCStations\n",
    "stations = Network().station_numbers(cluster=2000)\n",
    "cluster = HiSPARCStations(stations, force_stale=True)\n",
    "for sn1, sn2 in combinations(stations, 2):\n",
    "    d = cluster.calc_distance_between_stations(sn1, sn2)\n",
    "    if d < 1000:\n",
    "        print \"De afstand tussen station %d en %d is %.f m.\" % (sn1, sn2, d)\n",
    "    "
   ]
  }
 ],
 "metadata": {
  "kernelspec": {
   "display_name": "Python 2",
   "language": "python",
   "name": "python2"
  },
  "language_info": {
   "codemirror_mode": {
    "name": "ipython",
    "version": 2
   },
   "file_extension": ".py",
   "mimetype": "text/x-python",
   "name": "python",
   "nbconvert_exporter": "python",
   "pygments_lexer": "ipython2",
   "version": "2.7.11"
  }
 },
 "nbformat": 4,
 "nbformat_minor": 0
}
