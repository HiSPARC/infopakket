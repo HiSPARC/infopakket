{
 "cells": [
  {
   "cell_type": "markdown",
   "metadata": {},
   "source": [
    "# 2 HiSPARC-API\n",
    "## Inleiding\n",
    "De HiSPARC-API sluit aan op het notebook python_data_retrieval, deze dient eerst te worden bestudeerd.\n",
    "\n",
    "Naast event-data zijn er gegevens over de meetstations op te vragen. Dit kan via de HiSPARC-API. Deze HiSPARC-API is een onderdeel van \"sapphire\". In \"Python data retrieval\" hadden we al de beschikking over \"sapphire\"."
   ]
  },
  {
   "cell_type": "code",
   "execution_count": 1,
   "metadata": {
    "collapsed": true
   },
   "outputs": [],
   "source": [
    "import sapphire\n",
    "from sapphire import Station"
   ]
  },
  {
   "cell_type": "markdown",
   "metadata": {},
   "source": [
    "Met de functie \"`Station()`\" zijn de eigenschappen van een station, zoals het cluster waarin een station zich bevindt, op te vragen:"
   ]
  },
  {
   "cell_type": "code",
   "execution_count": 3,
   "metadata": {
    "collapsed": false
   },
   "outputs": [
    {
     "name": "stdout",
     "output_type": "stream",
     "text": [
      "Utrecht\n"
     ]
    }
   ],
   "source": [
    "print Station(1001).cluster()"
   ]
  },
  {
   "cell_type": "markdown",
   "metadata": {},
   "source": [
    "Een ander belangrijke eigenschap is de plaats waar een station zich bevindt:"
   ]
  },
  {
   "cell_type": "code",
   "execution_count": 3,
   "metadata": {
    "collapsed": false
   },
   "outputs": [
    {
     "name": "stdout",
     "output_type": "stream",
     "text": [
      "[(1292404991, 52.5518809, 4.6870001, 56.73)\n",
      " (1370347468, 52.5518567, 4.6870106, 60.04)\n",
      " (1417533813, 52.3557875, 4.9512243, 58.84)\n",
      " (1418980365, 52.5518567, 4.6870106, 60.04)]\n"
     ]
    }
   ],
   "source": [
    "print Station(301).gps_locations"
   ]
  },
  {
   "cell_type": "markdown",
   "metadata": {},
   "source": [
    "We zien hier een array met daarin een aantal lijsten. Het eerste item op iedere regel legt vast vanaf welke moment, een GPS-tijdstempel, een station volgens de HiSPARC database op een plaats stond. Na dit GPS-tijdstempel zijn achtereenvolgens de lengte, breedte en hoogte van het station volgens GPS-84 gegeven. ([https://nl.wikipedia.org/wiki/WGS_84](https://nl.wikipedia.org/wiki/WGS_84))"
   ]
  },
  {
   "cell_type": "markdown",
   "metadata": {},
   "source": [
    "We kunnen nu ook een de eigenschappen van verschillende stations opvragen, eerst maken we een array met de stationsnummers die we op willen vragen:"
   ]
  },
  {
   "cell_type": "code",
   "execution_count": 4,
   "metadata": {
    "collapsed": true
   },
   "outputs": [],
   "source": [
    "stations = [301, 303, 304, 305]"
   ]
  },
  {
   "cell_type": "code",
   "execution_count": 5,
   "metadata": {
    "collapsed": false
   },
   "outputs": [
    {
     "name": "stdout",
     "output_type": "stream",
     "text": [
      "301 \n",
      "[(1292404991, 52.5518809, 4.6870001, 56.73)\n",
      " (1370347468, 52.5518567, 4.6870106, 60.04)\n",
      " (1417533813, 52.3557875, 4.9512243, 58.84)\n",
      " (1418980365, 52.5518567, 4.6870106, 60.04)] \n",
      "\n",
      "303 \n",
      "[(1269614950, 52.4943232, 4.661334, 51.01)\n",
      " (1269618288, 52.4943532, 4.6612674, 52.53)\n",
      " (1290004562, 52.494334, 4.6613204, 56.47)] \n",
      "\n",
      "304 \n",
      "[(1278064831, 52.5416574, 4.6681066, 53.79)\n",
      " (1278096852, 52.5416229, 4.6681106, 55.24)\n",
      " (1334780536, 52.5416217, 4.6681044, 49.29)] \n",
      "\n",
      "305 \n",
      "[(1368443485, 52.5493502, 4.6718132, 51.71)] \n",
      "\n"
     ]
    }
   ],
   "source": [
    "for station in stations:\n",
    "    print station, '\\n', Station(station).gps_locations, '\\n'"
   ]
  },
  {
   "cell_type": "markdown",
   "metadata": {},
   "source": [
    "We zien een lijst met de eigenschappen van de verschillende stations. In het geval van een coincidentie willen we weten waar de stations op dat gegeven moment stonden. We willen nu dus niet een lijst met alle locaties op alle tijdstippen, maar een lijst met de locaties op een moment met een gegeven tijdstempel."
   ]
  },
  {
   "cell_type": "code",
   "execution_count": 6,
   "metadata": {
    "collapsed": false
   },
   "outputs": [
    {
     "name": "stdout",
     "output_type": "stream",
     "text": [
      "301 {'latitude': 52.5518809, 'altitude': 56.729999999999997, 'longitude': 4.6870000999999997}\n",
      "303 {'latitude': 52.494334000000002, 'altitude': 56.469999999999999, 'longitude': 4.6613204000000001}\n",
      "304 {'latitude': 52.5416217, 'altitude': 49.289999999999999, 'longitude': 4.6681043999999998}\n",
      "305 {'latitude': 52.549350199999999, 'altitude': 51.710000000000001, 'longitude': 4.6718131999999999}\n"
     ]
    }
   ],
   "source": [
    "for station in stations:\n",
    "    print station, Station(station).gps_location(1368450685)"
   ]
  },
  {
   "cell_type": "code",
   "execution_count": null,
   "metadata": {
    "collapsed": true
   },
   "outputs": [],
   "source": []
  }
 ],
 "metadata": {
  "kernelspec": {
   "display_name": "Python 2",
   "language": "python",
   "name": "python2"
  },
  "language_info": {
   "codemirror_mode": {
    "name": "ipython",
    "version": 2
   },
   "file_extension": ".py",
   "mimetype": "text/x-python",
   "name": "python",
   "nbconvert_exporter": "python",
   "pygments_lexer": "ipython2",
   "version": "2.7.10"
  }
 },
 "nbformat": 4,
 "nbformat_minor": 0
}
