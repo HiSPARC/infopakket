{
 "cells": [
  {
   "cell_type": "markdown",
   "id": "555b082c",
   "metadata": {},
   "source": [
    "# Recept: events aan coincidenties koppellen: CoincidenceQuery\n",
    "\n",
    "We kunnen ook de events bij een coincidentie zoeken. Dit is niet triviaal. De\n",
    "tijdstempel van een coincidentie hoort bij het eerste event, maar dit kan\n",
    "telkens een ander event zijn uit een groep stations. De `/coincidence` group\n",
    "bevat informatie in `c_index` en `s_index` om e.e.a. te koppelen. Maar ook via\n",
    "deze weg is enig programmeer werk nodig.\n",
    "\n",
    "SAPPHiRE CoincidenceQuery kan het bijelkaar zoeken van coincidenties\n",
    "vereenvoudigen:\n",
    "\n",
    "Eerst maken een HDF5-bestand en downloaden daarna de coincidenties:"
   ]
  },
  {
   "cell_type": "code",
   "execution_count": null,
   "id": "434ce67e",
   "metadata": {},
   "outputs": [],
   "source": [
    "import tables\n",
    "FILENAME = 'data_cq.h5'\n",
    "data = tables.open_file(FILENAME, 'a')"
   ]
  },
  {
   "cell_type": "code",
   "execution_count": null,
   "id": "043f3cfb",
   "metadata": {},
   "outputs": [],
   "source": [
    "from datetime import datetime\n",
    "from sapphire import download_coincidences\n",
    "download_coincidences(data, cluster='Science Park', start=datetime(2016, 1, 1), end=datetime(2016, 1, 2), n=3)"
   ]
  },
  {
   "cell_type": "markdown",
   "id": "d4b04013",
   "metadata": {},
   "source": [
    "CoincidenceQuery opent zelf het HDF5 bestand. We sluiten daarom eerst het\n",
    "bestand:"
   ]
  },
  {
   "cell_type": "code",
   "execution_count": null,
   "id": "d0745a78",
   "metadata": {},
   "outputs": [],
   "source": [
    "data.close()"
   ]
  },
  {
   "cell_type": "markdown",
   "id": "3e3d0a6a",
   "metadata": {},
   "source": [
    "We initialiseren CoincidenceQuery. Als argument geven we alleen het bestandsnaam\n",
    "op:"
   ]
  },
  {
   "cell_type": "code",
   "execution_count": null,
   "id": "313b4f58",
   "metadata": {},
   "outputs": [],
   "source": [
    "from sapphire import CoincidenceQuery\n",
    "cq = CoincidenceQuery(FILENAME)"
   ]
  },
  {
   "cell_type": "markdown",
   "id": "8171b87c",
   "metadata": {},
   "source": [
    "Eerst maken we een lijst van alle concidenties waar minstens een\n",
    "event van de stations 501, 510, en 509 in zit."
   ]
  },
  {
   "cell_type": "code",
   "execution_count": null,
   "id": "903fd894",
   "metadata": {},
   "outputs": [],
   "source": [
    "STATIONS = [501, 510, 509]\n",
    "coincidences = cq.all(STATIONS, iterator=True)"
   ]
  },
  {
   "cell_type": "markdown",
   "id": "35d8cbae",
   "metadata": {},
   "source": [
    "Nu gebruiken we de functie `all_events`:\n",
    "\n",
    "Deze functie geeft een lijst van coincidenties. Elke concidentie is een lijst\n",
    "van tuples, met telkens het stationnummer en het bijbehorende event.\n",
    "\n",
    "Met een dubbele for-loop kunnen we de informatie \"uitpakken\":"
   ]
  },
  {
   "cell_type": "code",
   "execution_count": null,
   "id": "33be8ac1",
   "metadata": {},
   "outputs": [],
   "source": [
    "coincidence_events = cq.all_events(coincidences)\n",
    "for id, events in enumerate(coincidence_events):\n",
    "    print(\"Coincidentie: %d\" % id)\n",
    "    for station, event in events:\n",
    "        print(\"Station: %d. Event id: %d. Timestamp: %d\" % (station, event['event_id'], event['ext_timestamp']))"
   ]
  },
  {
   "cell_type": "markdown",
   "id": "43c4ee2b",
   "metadata": {},
   "source": [
    "Met `finish()` sluiten we CoincidenceQuery en wordt ook het HDF5 bestand\n",
    "gesloten."
   ]
  },
  {
   "cell_type": "code",
   "execution_count": null,
   "id": "158f684b",
   "metadata": {},
   "outputs": [],
   "source": [
    "cq.finish()"
   ]
  },
  {
   "cell_type": "markdown",
   "id": "62d2699b",
   "metadata": {},
   "source": [
    "# Opgave\n",
    "\n",
    "Het SciencePark in Amsterdam heeft 11 meetstations. Er zijn slechts enkele\n",
    "coincidenties per dag, waarbij alle stations betrokken worden.\n",
    "\n",
    "Bepaal de extended timestamps van events in coincidenties met 9 of meer\n",
    "meetstations op een willekeurige dag in 2016.\n",
    "\n",
    "Kijk eerst op https://data.hisparc.nl hoeveel coincidenties er die dag waren.\n",
    "Niet alle stations hebben elke dag data en station 507 staat binnen!"
   ]
  }
 ],
 "metadata": {
  "jupytext": {
   "cell_metadata_filter": "-all",
   "main_language": "python",
   "notebook_metadata_filter": "-all"
  }
 },
 "nbformat": 4,
 "nbformat_minor": 5
}
