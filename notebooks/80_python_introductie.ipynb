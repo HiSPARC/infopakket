{
 "cells": [
  {
   "cell_type": "markdown",
   "id": "6df7b088",
   "metadata": {},
   "source": [
    "# Python Introductie\n",
    "\n",
    "Dit is een zeer incomplete python introductie, waarin een aantal belangrijke\n",
    "aspecten van de scripttaal `python` worden toegelicht, bedoeld voor lezers met\n",
    "redelijk wat ervaring in een taal als `Java` of `C\\C++\\C#`.\n",
    "\n",
    "Het is zeker niet bedoeld als een complete introductie van `python` voor\n",
    "beginners.\n",
    "\n",
    "Andere bronnen:\n",
    "- Een zeer leesbaar boek over Python is `Think Python` (gratis downloadbaar in PDF en HTML):\n",
    "  https://greenteapress.com/wp/think-python-2e/\n",
    "- Een online interactieve basis introductie van Python: https://cscircles.cemc.uwaterloo.ca/nl/\n",
    "- **Aanrader**: Het UvA practicum \"Programmeren voor Natuur- en Sterrenkunde\" heeft\n",
    "  zeer bruikbare (natuurkundige) opdrachten in Python: https://progns.mprog.nl/ (klik bovenaan op Archive)\n",
    "\n",
    "## Python 3\n",
    "\n",
    "Deze notebooks werken alleen met 3, dus niet met Python 2.7.\n",
    "\n",
    "## Hello, World!\n",
    "\n",
    "In `python` ziet deze klassieker er zo uit: (Druk op Ctrl-Enter in de cel hieronder om deze uit te voeren)"
   ]
  },
  {
   "cell_type": "code",
   "execution_count": null,
   "id": "23e4c29d",
   "metadata": {},
   "outputs": [],
   "source": [
    "print('Hello, World!')"
   ]
  },
  {
   "cell_type": "markdown",
   "id": "02114f7f",
   "metadata": {},
   "source": [
    "## Blokken: Inspringen\n",
    "\n",
    "Blokken code worden in `python` ingesprongen:"
   ]
  },
  {
   "cell_type": "code",
   "execution_count": null,
   "id": "326ea91d",
   "metadata": {},
   "outputs": [],
   "source": [
    "getal = int(input('Geef een getal: '))\n",
    "if getal > 10:\n",
    "    print('Groter dan tien!')\n",
    "elif getal < 0:\n",
    "    print('Negatief!')\n",
    "else:\n",
    "    print('Tussen nul en tien!')\n",
    "    if getal % 2 == 0:\n",
    "        print('En het getal is even!')"
   ]
  },
  {
   "cell_type": "markdown",
   "id": "712db938",
   "metadata": {},
   "source": [
    "## Variabelen\n",
    "\n",
    "Variabelen (objecten) hoeven niet gedeclareerd te worden met een `type`, maar ze\n",
    "hebben wel een `type`"
   ]
  },
  {
   "cell_type": "code",
   "execution_count": null,
   "id": "31a613b0",
   "metadata": {},
   "outputs": [],
   "source": [
    "a = 3\n",
    "b = 5.7\n",
    "c = 'Hallo!'\n",
    "type(a), type(b), type(c)"
   ]
  },
  {
   "cell_type": "markdown",
   "id": "7af0247c",
   "metadata": {},
   "source": [
    "## Lijsten\n",
    "\n",
    "Lijsten zijn een belangrijk `type` in `python`:"
   ]
  },
  {
   "cell_type": "code",
   "execution_count": null,
   "id": "9a3b9ea7",
   "metadata": {},
   "outputs": [],
   "source": [
    "personen = ['Tom', 'Klaas', 'Piet', 'Jan', 'Wouter', 'Joop', 'Karel']"
   ]
  },
  {
   "cell_type": "markdown",
   "id": "6f884cc3",
   "metadata": {},
   "source": [
    "Voor de lengte van een lijst gebruiken we `len()`:"
   ]
  },
  {
   "cell_type": "code",
   "execution_count": null,
   "id": "bbff989c",
   "metadata": {},
   "outputs": [],
   "source": [
    "len(personen)"
   ]
  },
  {
   "cell_type": "markdown",
   "id": "9836094c",
   "metadata": {},
   "source": [
    "Een item toevoegen kan met append:"
   ]
  },
  {
   "cell_type": "code",
   "execution_count": null,
   "id": "cb17d853",
   "metadata": {},
   "outputs": [],
   "source": [
    "personen.append('Mieke')\n",
    "personen"
   ]
  },
  {
   "cell_type": "markdown",
   "id": "f44d613c",
   "metadata": {},
   "source": [
    "De items van lijsten kunnen we bekijken met [index]:\n",
    "Let op: Python telt vanaf 0."
   ]
  },
  {
   "cell_type": "code",
   "execution_count": null,
   "id": "bcec65e4",
   "metadata": {},
   "outputs": [],
   "source": [
    "personen[1]"
   ]
  },
  {
   "cell_type": "markdown",
   "id": "aa1a37a5",
   "metadata": {},
   "source": [
    "Er zijn veel mogelijkheden met behulp van de index:"
   ]
  },
  {
   "cell_type": "code",
   "execution_count": null,
   "id": "789d4570",
   "metadata": {},
   "outputs": [],
   "source": [
    "print(\"item 1 tot 5\", personen[1:5])\n",
    "print(\"Vanaf het tweede item:\", personen[1:])\n",
    "print(\"Vanaf 0 tot 8, stapgrootte 2\", personen[0:8:2])\n",
    "print(\"Het laatste item:\", personen[-1])"
   ]
  },
  {
   "cell_type": "code",
   "execution_count": null,
   "id": "249a7165",
   "metadata": {},
   "outputs": [],
   "source": [
    "if 'Karel' in personen:\n",
    "    print(\"Karel zit in de lijst.\")\n",
    "else:\n",
    "    print(\"Karel zit niet in de lijst\")"
   ]
  },
  {
   "cell_type": "markdown",
   "id": "9f6ae310",
   "metadata": {},
   "source": [
    "## range\n",
    "\n",
    "range() maakt een lijst gehele getallen (integers):"
   ]
  },
  {
   "cell_type": "code",
   "execution_count": null,
   "id": "dab9e53a",
   "metadata": {},
   "outputs": [],
   "source": [
    "print(\"Tot 10:\\t\\t\", list(range(10)))\n",
    "print(\"Vanaf 5 tot 10:\\t\", list(range(5, 10)))\n",
    "print(\"tot 10, stap 2:\", list(range(0, 10, 2)))"
   ]
  },
  {
   "cell_type": "markdown",
   "id": "46c21758",
   "metadata": {},
   "source": [
    "### help() en ?\n",
    "Voor meer informatie over een python functie gebruiken we de functie `help()`:"
   ]
  },
  {
   "cell_type": "code",
   "execution_count": null,
   "id": "ceccdb31",
   "metadata": {},
   "outputs": [],
   "source": [
    "help(range)"
   ]
  },
  {
   "cell_type": "markdown",
   "id": "65c8d7f6",
   "metadata": {},
   "source": [
    "range? laat een pop-up zien met vergelijkbare informatie."
   ]
  },
  {
   "cell_type": "code",
   "execution_count": null,
   "id": "9ad3954c",
   "metadata": {},
   "outputs": [],
   "source": [
    "range?"
   ]
  },
  {
   "cell_type": "markdown",
   "id": "359a777f",
   "metadata": {},
   "source": [
    "# Loopen met `for`\n",
    "\n",
    "Het statement `for` wordt gebruikt om te loopen:"
   ]
  },
  {
   "cell_type": "code",
   "execution_count": null,
   "id": "c5f96dbc",
   "metadata": {},
   "outputs": [],
   "source": [
    "for getal in range(5):\n",
    "    print(getal)"
   ]
  },
  {
   "cell_type": "code",
   "execution_count": null,
   "id": "c5885cf4",
   "metadata": {},
   "outputs": [],
   "source": [
    "for getal in range(1,50):\n",
    "    if getal % 7 == 0:\n",
    "        print(\"Het getal %d is deelbaar door 7\" % getal)"
   ]
  },
  {
   "cell_type": "markdown",
   "id": "43b79919",
   "metadata": {},
   "source": [
    "`for` kan geinterpreteerd worden als `foreach` (voor elk item, doe:)\n",
    "Dit betekent dat we niet alleen maar over getallen kunnen loopen, zoals in veel\n",
    "andere talen gebruikelijk, maar over *alle* lijst-achtige objecten:"
   ]
  },
  {
   "cell_type": "code",
   "execution_count": null,
   "id": "16074f35",
   "metadata": {},
   "outputs": [],
   "source": [
    "for persoon in personen:\n",
    "    print(persoon)"
   ]
  },
  {
   "cell_type": "markdown",
   "id": "1aef205c",
   "metadata": {},
   "source": [
    "## List comprehensions\n",
    "\n",
    "In `python` kom je vaak een wiskundige manier van het definieren van lijsten\n",
    "tegen:"
   ]
  },
  {
   "cell_type": "code",
   "execution_count": null,
   "id": "49370fc4",
   "metadata": {},
   "outputs": [],
   "source": [
    "[x**2 for x in range(10)]"
   ]
  },
  {
   "cell_type": "markdown",
   "id": "a96236bb",
   "metadata": {},
   "source": [
    "Een dergelijke syntax heet een `list comprehension` en is in feite een snelle\n",
    "(en mits juist gebruikt, leesbare) manier om het volgende te schrijven:"
   ]
  },
  {
   "cell_type": "code",
   "execution_count": null,
   "id": "6b771396",
   "metadata": {},
   "outputs": [],
   "source": [
    "lijst = []\n",
    "for x in range(10):\n",
    "    lijst.append(x**2)\n",
    "lijst  "
   ]
  },
  {
   "cell_type": "markdown",
   "id": "de88dd39",
   "metadata": {},
   "source": [
    "# Functies\n",
    "\n",
    "Een functie definieren we in `python` alsvolgt:"
   ]
  },
  {
   "cell_type": "code",
   "execution_count": null,
   "id": "ec6cdad4",
   "metadata": {},
   "outputs": [],
   "source": [
    "def is_priem(getal):\n",
    "    \"\"\"Test of getal een priemgetal is\n",
    "\n",
    "    Dit is een zeer inefficiente implementatie\n",
    "\n",
    "    \"\"\"\n",
    "    for deler in range(2, getal):\n",
    "        if not getal % deler:\n",
    "            return False\n",
    "\n",
    "    return True"
   ]
  },
  {
   "cell_type": "markdown",
   "id": "718528b7",
   "metadata": {},
   "source": [
    "Een functie roepen we aan met `functie(paramter1, parameter2, ...)`:"
   ]
  },
  {
   "cell_type": "code",
   "execution_count": null,
   "id": "c16f7148",
   "metadata": {},
   "outputs": [],
   "source": [
    "for getal in range(100):\n",
    "    if is_priem(getal):\n",
    "        print(getal,)"
   ]
  },
  {
   "cell_type": "markdown",
   "id": "a8129fd5",
   "metadata": {},
   "source": [
    "Het commentaar tussen de \"\"\" is belangrijk. Deze zogenaamde 'docstring' is\n",
    "beschikbaar via `help()` of het vraagteken:"
   ]
  },
  {
   "cell_type": "code",
   "execution_count": null,
   "id": "387312f3",
   "metadata": {},
   "outputs": [],
   "source": [
    "help(is_priem)"
   ]
  },
  {
   "cell_type": "markdown",
   "id": "95bb43ea",
   "metadata": {},
   "source": [
    "# Numpy\n",
    "\n",
    "Numpy is een bibliotheek met wiskundige functies die werken op `array's`\n",
    "(lijsten, matrices) van `floats`. Omdat de bewerkingen in `C` en `FORTRAN`\n",
    "geimplementeerd zijn, zijn numpy functies vaak veel sneller dan alternatieven\n",
    "uit `math`."
   ]
  },
  {
   "cell_type": "code",
   "execution_count": null,
   "id": "e870e2f2",
   "metadata": {},
   "outputs": [],
   "source": [
    "import numpy as np"
   ]
  },
  {
   "cell_type": "code",
   "execution_count": null,
   "id": "7fcad0b8",
   "metadata": {},
   "outputs": [],
   "source": [
    "np.arange(0.1, 3.0, 0.2)"
   ]
  },
  {
   "cell_type": "code",
   "execution_count": null,
   "id": "625f4200",
   "metadata": {},
   "outputs": [],
   "source": [
    "np.linspace(0.1, 3.0, 20)  # hetzelfde interval in 20 stappen"
   ]
  },
  {
   "cell_type": "markdown",
   "id": "9afea574",
   "metadata": {},
   "source": [
    "### Numpy snelheid:\n",
    "\n",
    "Een van de krachten van `numpy` is het uitvoeren van operaties op een vector:"
   ]
  },
  {
   "cell_type": "code",
   "execution_count": null,
   "id": "ab54928f",
   "metadata": {},
   "outputs": [],
   "source": [
    "%timeit [2*x for x in range(10000)]"
   ]
  },
  {
   "cell_type": "code",
   "execution_count": null,
   "id": "66d46097",
   "metadata": {},
   "outputs": [],
   "source": [
    "%timeit 2*np.arange(10000)"
   ]
  },
  {
   "cell_type": "markdown",
   "id": "0d305af0",
   "metadata": {},
   "source": [
    "In het bovenstaande voorbeeld wordt in de `list-comprehension` in python\n",
    "'gelooped' over 10.000 getallen. Het `numpy` alternatief verwerkt de array in\n",
    "zijn geheel, zonder de loop en is daarom >100x sneller.\n",
    "\n",
    "## Matrices en Lineaire algebra"
   ]
  },
  {
   "cell_type": "code",
   "execution_count": null,
   "id": "76c2fe24",
   "metadata": {},
   "outputs": [],
   "source": [
    "matrix = np.arange(9).reshape(3,3)\n",
    "matrix"
   ]
  },
  {
   "cell_type": "code",
   "execution_count": null,
   "id": "832e9384",
   "metadata": {},
   "outputs": [],
   "source": [
    "matrix[1] # tweede rij"
   ]
  },
  {
   "cell_type": "code",
   "execution_count": null,
   "id": "860f5a87",
   "metadata": {},
   "outputs": [],
   "source": [
    "matrix[:, 0] # eerste kolom"
   ]
  },
  {
   "cell_type": "code",
   "execution_count": null,
   "id": "9a68cb32",
   "metadata": {},
   "outputs": [],
   "source": [
    "np.transpose(matrix)"
   ]
  },
  {
   "cell_type": "code",
   "execution_count": null,
   "id": "45d8994f",
   "metadata": {},
   "outputs": [],
   "source": [
    "np.linalg.det(matrix)"
   ]
  },
  {
   "cell_type": "code",
   "execution_count": null,
   "id": "b06417ae",
   "metadata": {},
   "outputs": [],
   "source": [
    "Ook hier geeft `help()` snel veel informatie:"
   ]
  },
  {
   "cell_type": "code",
   "execution_count": null,
   "id": "dfdd66c1",
   "metadata": {},
   "outputs": [],
   "source": [
    "help(np.linalg)"
   ]
  },
  {
   "cell_type": "markdown",
   "id": "01897a58",
   "metadata": {},
   "source": [
    "# Plotten\n",
    "\n",
    "Een belangrijke stap in het data verwerken is plotten:"
   ]
  },
  {
   "cell_type": "code",
   "execution_count": null,
   "id": "667b9007",
   "metadata": {},
   "outputs": [],
   "source": [
    "import matplotlib.pyplot as plt\n",
    "%matplotlib notebook"
   ]
  },
  {
   "cell_type": "code",
   "execution_count": null,
   "id": "90759042",
   "metadata": {},
   "outputs": [],
   "source": [
    "x = np.linspace(0, 10., 100)\n",
    "y = np.sin(x)"
   ]
  },
  {
   "cell_type": "code",
   "execution_count": null,
   "id": "d97b310c",
   "metadata": {},
   "outputs": [],
   "source": [
    "plt.plot(x, y, 'b-')\n",
    "plt.xlabel('x')\n",
    "plt.ylabel('y')\n",
    "plt.ylim(-1.1,1.1)\n",
    "plt.title('f(x) = sin(x)')\n",
    "plt.show()"
   ]
  }
 ],
 "metadata": {
  "jupytext": {
   "cell_metadata_filter": "-all",
   "main_language": "python",
   "notebook_metadata_filter": "-all"
  }
 },
 "nbformat": 4,
 "nbformat_minor": 5
}
