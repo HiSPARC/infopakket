{
 "cells": [
  {
   "cell_type": "markdown",
   "metadata": {},
   "source": [
    "# 4 Richtingreconstructie met een cluster\n",
    "Richtingreconstructie is nauwkeuriger als er een aantal stations dicht bij elkaar liggen. Deze stations zijn (een onderdeel van) een cluster. Als meerdere stations een event meten, wordt dit een coincidentie genoemd.\n",
    "\n",
    "Eerst worden enkele modules geimporteerd:\n",
    "* tables: deze module bevat methoden om met tabellen te werken.\n",
    "* datetime: deze module geeft een standaard format voor datum en tijd.\n",
    "* matplotlib: een module waarmee plotjes gemaakt kunnen worden.\n",
    "* sapphire: de HiSPARC module waarmee gegevens van meetstations op te halen zijn."
   ]
  },
  {
   "cell_type": "code",
   "execution_count": null,
   "metadata": {
    "collapsed": true
   },
   "outputs": [],
   "source": [
    "import tables\n",
    "import datetime\n",
    "import numpy as np\n",
    "import matplotlib.pyplot as plt\n",
    "from sapphire import download_coincidences, ReconstructESDCoincidences, HiSPARCStations"
   ]
  },
  {
   "cell_type": "markdown",
   "metadata": {},
   "source": [
    "Voordat we op zoek kunnen naar coincidenties, moeten we de meetgegevens ophalen. HiSPARC gegevens moeten in een tabel worden geplaatst. Met de 'with' opdracht wordt hieronder een .h5 bestand voor de tabel op een usb-stick, harde schijf o.i.d. aangemaakt. Deze wordt daarna met gegevens gevuld. Tot slot wordt het bestand afgesloten."
   ]
  },
  {
   "cell_type": "code",
   "execution_count": null,
   "metadata": {
    "collapsed": false,
    "scrolled": true
   },
   "outputs": [],
   "source": [
    "with tables.open_file('data_coincidences.h5', 'w') as data:\n",
    "    download_coincidences(data, stations=[102,104,105],\n",
    "                          start=datetime.datetime(2015, 12, 1),\n",
    "                          end=datetime.datetime(2016, 1, 31), n=3)"
   ]
  },
  {
   "cell_type": "markdown",
   "metadata": {},
   "source": [
    "Als de meetgegevens opgeslagen zijn, kunnen we deze bewerken. De bewerkte gegevens worden in een variabele 'rec' opgeslagen."
   ]
  },
  {
   "cell_type": "code",
   "execution_count": null,
   "metadata": {
    "collapsed": false,
    "scrolled": true
   },
   "outputs": [],
   "source": [
    "with tables.open_file('data_coincidences.h5', 'a') as data:\n",
    "    rec = ReconstructESDCoincidences(data, overwrite=True, cluster=HiSPARCStations([102,104,105]), progress=True)\n",
    "    rec.reconstruct_and_store()\n",
    "    print rec, 'eind'\n",
    "\n",
    "#         >>> data = tables.open_file('2014_1_1.h5', 'a')\n",
    "#         >>> rec = reconstructions.ReconstructESDCoincidences(data,\n",
    "#         ...                                                  overwrite=True)\n",
    "#         >>> rec.reconstruct_and_store()"
   ]
  },
  {
   "cell_type": "markdown",
   "metadata": {},
   "source": [
    "Deze gegevens zijn in een met matplotlib in een polar plot af te beelden. Bovenaan is aangegeven hoe matplotlib wordt geimporteerd. Alle gereconstrueerde coordinaten bestaande uit een azimuth- (phi) en zenith-hoek (theta) worden in een plot afgebeeld."
   ]
  },
  {
   "cell_type": "code",
   "execution_count": null,
   "metadata": {
    "collapsed": false
   },
   "outputs": [],
   "source": [
    "plt.figure(1)\n",
    "ax = plt.subplot(111, polar=True)\n",
    "plt.scatter(rec.phi, rec.theta)\n",
    "plt.show()"
   ]
  },
  {
   "cell_type": "markdown",
   "metadata": {},
   "source": [
    "Er is ook een verdeling van het aantal events als functie van de zenith-hoek te maken. De waarden worden verdeeld over van te voren vastgestelde intervallen. Deze intervallen worden bins genoemd. in de eerste regel worden de bins tussen 0 en pi/2 gedefinieerd (0 tot 90 graden), de breedte is 0.5 graad."
   ]
  },
  {
   "cell_type": "code",
   "execution_count": null,
   "metadata": {
    "collapsed": false
   },
   "outputs": [],
   "source": [
    "bins = np.arange(0, np.pi/2., np.pi/180.)\n",
    "plt.figure(2)\n",
    "plt.hist(rec.theta, bins)\n",
    "plt.show()"
   ]
  },
  {
   "cell_type": "markdown",
   "metadata": {},
   "source": [
    "De code is op te slaan met \"`%save this 1-6`\". Voor \"`this`\" kan iedere naam worden ingevuld, \"`1-6`\" geeft aan welke cellen worden opgeslagen. Het bestand \"`this.py`\" wordt opgeslagen. "
   ]
  },
  {
   "cell_type": "code",
   "execution_count": null,
   "metadata": {
    "collapsed": false
   },
   "outputs": [],
   "source": [
    "%save this 1-6"
   ]
  },
  {
   "cell_type": "code",
   "execution_count": null,
   "metadata": {
    "collapsed": true
   },
   "outputs": [],
   "source": [
    "Met \"`%run this.py`\" wordt het opgeslagen bestand uitgevoerd."
   ]
  },
  {
   "cell_type": "code",
   "execution_count": null,
   "metadata": {
    "collapsed": true
   },
   "outputs": [],
   "source": [
    "%run this.py"
   ]
  }
 ],
 "metadata": {
  "kernelspec": {
   "display_name": "Python 2",
   "language": "python",
   "name": "python2"
  },
  "language_info": {
   "codemirror_mode": {
    "name": "ipython",
    "version": 2
   },
   "file_extension": ".py",
   "mimetype": "text/x-python",
   "name": "python",
   "nbconvert_exporter": "python",
   "pygments_lexer": "ipython2",
   "version": "2.7.10"
  }
 },
 "nbformat": 4,
 "nbformat_minor": 0
}
